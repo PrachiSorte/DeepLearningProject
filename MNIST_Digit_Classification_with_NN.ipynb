{
  "nbformat": 4,
  "nbformat_minor": 0,
  "metadata": {
    "colab": {
      "provenance": []
    },
    "kernelspec": {
      "name": "python3",
      "display_name": "Python 3"
    },
    "language_info": {
      "name": "python"
    }
  },
  "cells": [
    {
      "cell_type": "markdown",
      "source": [
        "**MNIST Handwritten Digit Classification using Deep Learning(Neural Network)**"
      ],
      "metadata": {
        "id": "4TPedR-TjzZT"
      }
    },
    {
      "cell_type": "code",
      "source": [
        "#Importing dependencies\n",
        "import numpy as np\n",
        "import matplotlib.pyplot as plt\n",
        "import seaborn as sns\n",
        "import cv2  #Open CV library for image preprocessing\n",
        "from google.colab.patches import cv2_imshow   #for displaying image\n",
        "from PIL import Image   #Pillow library for image preprocessing\n",
        "import tensorflow as tf   #tensorflow developed by google , pytorch developed by Facebook\n",
        "tf.random.set_seed(3) # to get same result for each time we run NN to solve problem of randomness of NN\n",
        "from tensorflow import keras #wrapper of tensorflow (DL library)\n",
        "from keras.datasets import mnist #dataset of handwritten digits\n",
        "from tensorflow.math import confusion_matrix #to get confusion matrix"
      ],
      "metadata": {
        "id": "CKwxNznNj_JX"
      },
      "execution_count": 1,
      "outputs": []
    },
    {
      "cell_type": "markdown",
      "source": [
        "**Loading MNIST data from keras dataset**"
      ],
      "metadata": {
        "id": "nOd-k-9omBDL"
      }
    },
    {
      "cell_type": "code",
      "source": [
        "(X_train, y_train), (X_test, y_test) = mnist.load_data()"
      ],
      "metadata": {
        "colab": {
          "base_uri": "https://localhost:8080/"
        },
        "id": "qwaOhkaCj_GY",
        "outputId": "b72dd7d7-34e1-4176-d279-59df726d1273"
      },
      "execution_count": 2,
      "outputs": [
        {
          "output_type": "stream",
          "name": "stdout",
          "text": [
            "Downloading data from https://storage.googleapis.com/tensorflow/tf-keras-datasets/mnist.npz\n",
            "\u001b[1m11490434/11490434\u001b[0m \u001b[32m━━━━━━━━━━━━━━━━━━━━\u001b[0m\u001b[37m\u001b[0m \u001b[1m0s\u001b[0m 0us/step\n"
          ]
        }
      ]
    },
    {
      "cell_type": "code",
      "source": [
        "#Images are already in numpy array\n",
        "type(X_train)"
      ],
      "metadata": {
        "colab": {
          "base_uri": "https://localhost:8080/"
        },
        "id": "Ipl_NYB4j_DM",
        "outputId": "e65fea75-63d1-4fe3-8d5a-f5ec48518884"
      },
      "execution_count": 3,
      "outputs": [
        {
          "output_type": "execute_result",
          "data": {
            "text/plain": [
              "numpy.ndarray"
            ]
          },
          "metadata": {},
          "execution_count": 3
        }
      ]
    },
    {
      "cell_type": "code",
      "source": [
        "#X_train : 60,000 samples of training images having dimesnsions 28 * 28\n",
        "#y_train: corresponding 60,000 labels which contains actual digits\n",
        "#X_test: 10,000 samples of test images having dimesnsion is 28 * 28\n",
        "#y_test: corresponding labels of 10,000 samples which contains actual digits\n",
        "print(X_train.shape, y_train.shape,X_test.shape,y_test.shape)"
      ],
      "metadata": {
        "colab": {
          "base_uri": "https://localhost:8080/"
        },
        "id": "FH6H3Pvqj-9e",
        "outputId": "52cd339e-17b2-4379-b91d-69fd79dfa205"
      },
      "execution_count": 4,
      "outputs": [
        {
          "output_type": "stream",
          "name": "stdout",
          "text": [
            "(60000, 28, 28) (60000,) (10000, 28, 28) (10000,)\n"
          ]
        }
      ]
    },
    {
      "cell_type": "markdown",
      "source": [
        "Training Data = 60,000\n",
        "Testing data= 10,000\n",
        "Image Dimension ->  28*28\n",
        "GrayScale Image -> 1 channel"
      ],
      "metadata": {
        "id": "RbX9pIA-o15u"
      }
    },
    {
      "cell_type": "code",
      "source": [
        "#Printing 10th Image\n",
        "print(X_train[10])"
      ],
      "metadata": {
        "colab": {
          "base_uri": "https://localhost:8080/"
        },
        "id": "SYdm-cxMj-6Q",
        "outputId": "62e4c943-d131-4541-82db-fabf735abdf0"
      },
      "execution_count": 5,
      "outputs": [
        {
          "output_type": "stream",
          "name": "stdout",
          "text": [
            "[[  0   0   0   0   0   0   0   0   0   0   0   0   0   0   0   0   0   0\n",
            "    0   0   0   0   0   0   0   0   0   0]\n",
            " [  0   0   0   0   0   0   0   0   0   0   0   0   0   0   0   0   0   0\n",
            "    0   0   0   0   0   0   0   0   0   0]\n",
            " [  0   0   0   0   0   0   0   0   0   0   0   0   0   0   0   0   0   0\n",
            "    0   0   0   0   0   0   0   0   0   0]\n",
            " [  0   0   0   0   0   0   0   0   0   0   0   0   0   0   0   0   0   0\n",
            "    0   0   0   0   0   0   0   0   0   0]\n",
            " [  0   0   0   0   0   0   0   0   0   0   0  42 118 219 166 118 118   6\n",
            "    0   0   0   0   0   0   0   0   0   0]\n",
            " [  0   0   0   0   0   0   0   0   0   0 103 242 254 254 254 254 254  66\n",
            "    0   0   0   0   0   0   0   0   0   0]\n",
            " [  0   0   0   0   0   0   0   0   0   0  18 232 254 254 254 254 254 238\n",
            "   70   0   0   0   0   0   0   0   0   0]\n",
            " [  0   0   0   0   0   0   0   0   0   0   0 104 244 254 224 254 254 254\n",
            "  141   0   0   0   0   0   0   0   0   0]\n",
            " [  0   0   0   0   0   0   0   0   0   0   0   0 207 254 210 254 254 254\n",
            "   34   0   0   0   0   0   0   0   0   0]\n",
            " [  0   0   0   0   0   0   0   0   0   0   0   0  84 206 254 254 254 254\n",
            "   41   0   0   0   0   0   0   0   0   0]\n",
            " [  0   0   0   0   0   0   0   0   0   0   0   0   0  24 209 254 254 254\n",
            "  171   0   0   0   0   0   0   0   0   0]\n",
            " [  0   0   0   0   0   0   0   0   0   0   0   0  91 137 253 254 254 254\n",
            "  112   0   0   0   0   0   0   0   0   0]\n",
            " [  0   0   0   0   0   0   0   0   0   0  40 214 250 254 254 254 254 254\n",
            "   34   0   0   0   0   0   0   0   0   0]\n",
            " [  0   0   0   0   0   0   0   0   0   0  81 247 254 254 254 254 254 254\n",
            "  146   0   0   0   0   0   0   0   0   0]\n",
            " [  0   0   0   0   0   0   0   0   0   0   0 110 246 254 254 254 254 254\n",
            "  171   0   0   0   0   0   0   0   0   0]\n",
            " [  0   0   0   0   0   0   0   0   0   0   0   0  73  89  89  93 240 254\n",
            "  171   0   0   0   0   0   0   0   0   0]\n",
            " [  0   0   0   0   0   0   0   0   0   0   0   0   0   0   0   1 128 254\n",
            "  219  31   0   0   0   0   0   0   0   0]\n",
            " [  0   0   0   0   0   0   0   0   0   0   0   0   0   0   0   7 254 254\n",
            "  214  28   0   0   0   0   0   0   0   0]\n",
            " [  0   0   0   0   0   0   0   0   0   0   0   0   0   0   0 138 254 254\n",
            "  116   0   0   0   0   0   0   0   0   0]\n",
            " [  0   0   0   0   0   0  19 177  90   0   0   0   0   0  25 240 254 254\n",
            "   34   0   0   0   0   0   0   0   0   0]\n",
            " [  0   0   0   0   0   0 164 254 215  63  36   0  51  89 206 254 254 139\n",
            "    8   0   0   0   0   0   0   0   0   0]\n",
            " [  0   0   0   0   0   0  57 197 254 254 222 180 241 254 254 253 213  11\n",
            "    0   0   0   0   0   0   0   0   0   0]\n",
            " [  0   0   0   0   0   0   0 140 105 254 254 254 254 254 254 236   0   0\n",
            "    0   0   0   0   0   0   0   0   0   0]\n",
            " [  0   0   0   0   0   0   0   0   7 117 117 165 254 254 239  50   0   0\n",
            "    0   0   0   0   0   0   0   0   0   0]\n",
            " [  0   0   0   0   0   0   0   0   0   0   0   0   0   0   0   0   0   0\n",
            "    0   0   0   0   0   0   0   0   0   0]\n",
            " [  0   0   0   0   0   0   0   0   0   0   0   0   0   0   0   0   0   0\n",
            "    0   0   0   0   0   0   0   0   0   0]\n",
            " [  0   0   0   0   0   0   0   0   0   0   0   0   0   0   0   0   0   0\n",
            "    0   0   0   0   0   0   0   0   0   0]\n",
            " [  0   0   0   0   0   0   0   0   0   0   0   0   0   0   0   0   0   0\n",
            "    0   0   0   0   0   0   0   0   0   0]]\n"
          ]
        }
      ]
    },
    {
      "cell_type": "code",
      "source": [
        "# shape of image\n",
        "print(X_train[10].shape)"
      ],
      "metadata": {
        "colab": {
          "base_uri": "https://localhost:8080/"
        },
        "id": "pbf89h9Gj-3S",
        "outputId": "214f03bb-1836-4c79-bad8-e5c74ebafb14"
      },
      "execution_count": 6,
      "outputs": [
        {
          "output_type": "stream",
          "name": "stdout",
          "text": [
            "(28, 28)\n"
          ]
        }
      ]
    },
    {
      "cell_type": "code",
      "source": [
        "# Display 10th image\n",
        "plt.imshow(X_train[25])\n",
        "plt.show()\n",
        "\n",
        "#print corresponding label\n",
        "print(y_train[25])\n",
        "\n",
        "#This is a gray scale image and color is showing by matplotlib library. this dataset does not have coloured image otherwise it shows channel as 3"
      ],
      "metadata": {
        "colab": {
          "base_uri": "https://localhost:8080/",
          "height": 447
        },
        "id": "Ih6YChWXj-0M",
        "outputId": "f06df0c4-2718-4ce7-84e8-ecf47c9454b3"
      },
      "execution_count": 9,
      "outputs": [
        {
          "output_type": "display_data",
          "data": {
            "text/plain": [
              "<Figure size 640x480 with 1 Axes>"
            ],
            "image/png": "[encoded data removed]"
          },
          "metadata": {}
        },
        {
          "output_type": "stream",
          "name": "stdout",
          "text": [
            "2\n"
          ]
        }
      ]
    },
    {
      "cell_type": "markdown",
      "source": [
        "Image Labels"
      ],
      "metadata": {
        "id": "LKG3VLD0qf1v"
      }
    },
    {
      "cell_type": "code",
      "source": [
        "print(y_train.shape,y_test.shape)"
      ],
      "metadata": {
        "colab": {
          "base_uri": "https://localhost:8080/"
        },
        "id": "3CRa-6DAj-Pt",
        "outputId": "2976b5b9-e563-4eae-93d3-444c01cef0d6"
      },
      "execution_count": 10,
      "outputs": [
        {
          "output_type": "stream",
          "name": "stdout",
          "text": [
            "(60000,) (10000,)\n"
          ]
        }
      ]
    },
    {
      "cell_type": "code",
      "source": [
        "#print unique values in y_train\n",
        "print(np.unique(y_train))"
      ],
      "metadata": {
        "colab": {
          "base_uri": "https://localhost:8080/"
        },
        "id": "tYSRzg5kj-MD",
        "outputId": "a8fab915-407a-47f9-ab9f-1b2330524b02"
      },
      "execution_count": 11,
      "outputs": [
        {
          "output_type": "stream",
          "name": "stdout",
          "text": [
            "[0 1 2 3 4 5 6 7 8 9]\n"
          ]
        }
      ]
    },
    {
      "cell_type": "code",
      "source": [
        "#print unique values in y_test\n",
        "print(np.unique(y_test))"
      ],
      "metadata": {
        "colab": {
          "base_uri": "https://localhost:8080/"
        },
        "id": "s36XEWGmj-JL",
        "outputId": "dc90adb3-1515-451f-b006-165396418992"
      },
      "execution_count": 12,
      "outputs": [
        {
          "output_type": "stream",
          "name": "stdout",
          "text": [
            "[0 1 2 3 4 5 6 7 8 9]\n"
          ]
        }
      ]
    },
    {
      "cell_type": "markdown",
      "source": [
        "We can use these labels as given or we can also apply one hot encoding like below eg\n",
        "0 - 1 0 0 0 0 0 0 0 0 0\n",
        "1-  0 1 0 0 0 0 0 0 0 0"
      ],
      "metadata": {
        "id": "OIfeaR4Irb-m"
      }
    },
    {
      "cell_type": "markdown",
      "source": [
        "All images have same dimensions in this dataset, if not we have to resize all images to a common dimension"
      ],
      "metadata": {
        "id": "3N-5QYS8rujd"
      }
    },
    {
      "cell_type": "markdown",
      "source": [
        "# images are in the range values 0 to 255. scale the image by applying standardization to range it in 0 to 1(Normalize)"
      ],
      "metadata": {
        "id": "Jg7MZZmFsFs-"
      }
    },
    {
      "cell_type": "code",
      "source": [
        "#scaling the values\n",
        "X_train = X_train/255\n",
        "X_test = X_test/255"
      ],
      "metadata": {
        "id": "4_Dpb68Mj-F2"
      },
      "execution_count": 13,
      "outputs": []
    },
    {
      "cell_type": "code",
      "source": [
        "#Printing 10th Image\n",
        "print(X_train[10])"
      ],
      "metadata": {
        "colab": {
          "base_uri": "https://localhost:8080/"
        },
        "id": "ZDznyuhwj-Cr",
        "outputId": "9730f9a8-d058-4531-bbf2-8cb1de269a22"
      },
      "execution_count": 14,
      "outputs": [
        {
          "output_type": "stream",
          "name": "stdout",
          "text": [
            "[[0.         0.         0.         0.         0.         0.\n",
            "  0.         0.         0.         0.         0.         0.\n",
            "  0.         0.         0.         0.         0.         0.\n",
            "  0.         0.         0.         0.         0.         0.\n",
            "  0.         0.         0.         0.        ]\n",
            " [0.         0.         0.         0.         0.         0.\n",
            "  0.         0.         0.         0.         0.         0.\n",
            "  0.         0.         0.         0.         0.         0.\n",
            "  0.         0.         0.         0.         0.         0.\n",
            "  0.         0.         0.         0.        ]\n",
            " [0.         0.         0.         0.         0.         0.\n",
            "  0.         0.         0.         0.         0.         0.\n",
            "  0.         0.         0.         0.         0.         0.\n",
            "  0.         0.         0.         0.         0.         0.\n",
            "  0.         0.         0.         0.        ]\n",
            " [0.         0.         0.         0.         0.         0.\n",
            "  0.         0.         0.         0.         0.         0.\n",
            "  0.         0.         0.         0.         0.         0.\n",
            "  0.         0.         0.         0.         0.         0.\n",
            "  0.         0.         0.         0.        ]\n",
            " [0.         0.         0.         0.         0.         0.\n",
            "  0.         0.         0.         0.         0.         0.16470588\n",
            "  0.4627451  0.85882353 0.65098039 0.4627451  0.4627451  0.02352941\n",
            "  0.         0.         0.         0.         0.         0.\n",
            "  0.         0.         0.         0.        ]\n",
            " [0.         0.         0.         0.         0.         0.\n",
            "  0.         0.         0.         0.         0.40392157 0.94901961\n",
            "  0.99607843 0.99607843 0.99607843 0.99607843 0.99607843 0.25882353\n",
            "  0.         0.         0.         0.         0.         0.\n",
            "  0.         0.         0.         0.        ]\n",
            " [0.         0.         0.         0.         0.         0.\n",
            "  0.         0.         0.         0.         0.07058824 0.90980392\n",
            "  0.99607843 0.99607843 0.99607843 0.99607843 0.99607843 0.93333333\n",
            "  0.2745098  0.         0.         0.         0.         0.\n",
            "  0.         0.         0.         0.        ]\n",
            " [0.         0.         0.         0.         0.         0.\n",
            "  0.         0.         0.         0.         0.         0.40784314\n",
            "  0.95686275 0.99607843 0.87843137 0.99607843 0.99607843 0.99607843\n",
            "  0.55294118 0.         0.         0.         0.         0.\n",
            "  0.         0.         0.         0.        ]\n",
            " [0.         0.         0.         0.         0.         0.\n",
            "  0.         0.         0.         0.         0.         0.\n",
            "  0.81176471 0.99607843 0.82352941 0.99607843 0.99607843 0.99607843\n",
            "  0.13333333 0.         0.         0.         0.         0.\n",
            "  0.         0.         0.         0.        ]\n",
            " [0.         0.         0.         0.         0.         0.\n",
            "  0.         0.         0.         0.         0.         0.\n",
            "  0.32941176 0.80784314 0.99607843 0.99607843 0.99607843 0.99607843\n",
            "  0.16078431 0.         0.         0.         0.         0.\n",
            "  0.         0.         0.         0.        ]\n",
            " [0.         0.         0.         0.         0.         0.\n",
            "  0.         0.         0.         0.         0.         0.\n",
            "  0.         0.09411765 0.81960784 0.99607843 0.99607843 0.99607843\n",
            "  0.67058824 0.         0.         0.         0.         0.\n",
            "  0.         0.         0.         0.        ]\n",
            " [0.         0.         0.         0.         0.         0.\n",
            "  0.         0.         0.         0.         0.         0.\n",
            "  0.35686275 0.5372549  0.99215686 0.99607843 0.99607843 0.99607843\n",
            "  0.43921569 0.         0.         0.         0.         0.\n",
            "  0.         0.         0.         0.        ]\n",
            " [0.         0.         0.         0.         0.         0.\n",
            "  0.         0.         0.         0.         0.15686275 0.83921569\n",
            "  0.98039216 0.99607843 0.99607843 0.99607843 0.99607843 0.99607843\n",
            "  0.13333333 0.         0.         0.         0.         0.\n",
            "  0.         0.         0.         0.        ]\n",
            " [0.         0.         0.         0.         0.         0.\n",
            "  0.         0.         0.         0.         0.31764706 0.96862745\n",
            "  0.99607843 0.99607843 0.99607843 0.99607843 0.99607843 0.99607843\n",
            "  0.57254902 0.         0.         0.         0.         0.\n",
            "  0.         0.         0.         0.        ]\n",
            " [0.         0.         0.         0.         0.         0.\n",
            "  0.         0.         0.         0.         0.         0.43137255\n",
            "  0.96470588 0.99607843 0.99607843 0.99607843 0.99607843 0.99607843\n",
            "  0.67058824 0.         0.         0.         0.         0.\n",
            "  0.         0.         0.         0.        ]\n",
            " [0.         0.         0.         0.         0.         0.\n",
            "  0.         0.         0.         0.         0.         0.\n",
            "  0.28627451 0.34901961 0.34901961 0.36470588 0.94117647 0.99607843\n",
            "  0.67058824 0.         0.         0.         0.         0.\n",
            "  0.         0.         0.         0.        ]\n",
            " [0.         0.         0.         0.         0.         0.\n",
            "  0.         0.         0.         0.         0.         0.\n",
            "  0.         0.         0.         0.00392157 0.50196078 0.99607843\n",
            "  0.85882353 0.12156863 0.         0.         0.         0.\n",
            "  0.         0.         0.         0.        ]\n",
            " [0.         0.         0.         0.         0.         0.\n",
            "  0.         0.         0.         0.         0.         0.\n",
            "  0.         0.         0.         0.02745098 0.99607843 0.99607843\n",
            "  0.83921569 0.10980392 0.         0.         0.         0.\n",
            "  0.         0.         0.         0.        ]\n",
            " [0.         0.         0.         0.         0.         0.\n",
            "  0.         0.         0.         0.         0.         0.\n",
            "  0.         0.         0.         0.54117647 0.99607843 0.99607843\n",
            "  0.45490196 0.         0.         0.         0.         0.\n",
            "  0.         0.         0.         0.        ]\n",
            " [0.         0.         0.         0.         0.         0.\n",
            "  0.0745098  0.69411765 0.35294118 0.         0.         0.\n",
            "  0.         0.         0.09803922 0.94117647 0.99607843 0.99607843\n",
            "  0.13333333 0.         0.         0.         0.         0.\n",
            "  0.         0.         0.         0.        ]\n",
            " [0.         0.         0.         0.         0.         0.\n",
            "  0.64313725 0.99607843 0.84313725 0.24705882 0.14117647 0.\n",
            "  0.2        0.34901961 0.80784314 0.99607843 0.99607843 0.54509804\n",
            "  0.03137255 0.         0.         0.         0.         0.\n",
            "  0.         0.         0.         0.        ]\n",
            " [0.         0.         0.         0.         0.         0.\n",
            "  0.22352941 0.77254902 0.99607843 0.99607843 0.87058824 0.70588235\n",
            "  0.94509804 0.99607843 0.99607843 0.99215686 0.83529412 0.04313725\n",
            "  0.         0.         0.         0.         0.         0.\n",
            "  0.         0.         0.         0.        ]\n",
            " [0.         0.         0.         0.         0.         0.\n",
            "  0.         0.54901961 0.41176471 0.99607843 0.99607843 0.99607843\n",
            "  0.99607843 0.99607843 0.99607843 0.9254902  0.         0.\n",
            "  0.         0.         0.         0.         0.         0.\n",
            "  0.         0.         0.         0.        ]\n",
            " [0.         0.         0.         0.         0.         0.\n",
            "  0.         0.         0.02745098 0.45882353 0.45882353 0.64705882\n",
            "  0.99607843 0.99607843 0.9372549  0.19607843 0.         0.\n",
            "  0.         0.         0.         0.         0.         0.\n",
            "  0.         0.         0.         0.        ]\n",
            " [0.         0.         0.         0.         0.         0.\n",
            "  0.         0.         0.         0.         0.         0.\n",
            "  0.         0.         0.         0.         0.         0.\n",
            "  0.         0.         0.         0.         0.         0.\n",
            "  0.         0.         0.         0.        ]\n",
            " [0.         0.         0.         0.         0.         0.\n",
            "  0.         0.         0.         0.         0.         0.\n",
            "  0.         0.         0.         0.         0.         0.\n",
            "  0.         0.         0.         0.         0.         0.\n",
            "  0.         0.         0.         0.        ]\n",
            " [0.         0.         0.         0.         0.         0.\n",
            "  0.         0.         0.         0.         0.         0.\n",
            "  0.         0.         0.         0.         0.         0.\n",
            "  0.         0.         0.         0.         0.         0.\n",
            "  0.         0.         0.         0.        ]\n",
            " [0.         0.         0.         0.         0.         0.\n",
            "  0.         0.         0.         0.         0.         0.\n",
            "  0.         0.         0.         0.         0.         0.\n",
            "  0.         0.         0.         0.         0.         0.\n",
            "  0.         0.         0.         0.        ]]\n"
          ]
        }
      ]
    },
    {
      "cell_type": "markdown",
      "source": [
        "Building the simple Neural Network (Not using Convolutional Neural Network - for image recognition here)"
      ],
      "metadata": {
        "id": "LmOyOli2tMN8"
      }
    },
    {
      "cell_type": "code",
      "source": [
        "# Setting up the layers of the NN (cannot feed the data into 2-D array or matrix form (28*28))\n",
        "model = keras.Sequential([\n",
        "                          keras.layers.Flatten(input_shape=(28,28)), # For input layer to convert it into 1-D array, for RGB image(28,28,3)\n",
        "                          keras.layers.Dense(50,activation='relu'), #Hidden Layer1 : rectified linear unit\n",
        "                          keras.layers.Dense(50,activation='relu'), #Hidden Layer2 : rectified linear unit\n",
        "                          keras.layers.Dense(10,activation='sigmoid') #Output Layer : 10 classes of digits, so 10 neurons as first parameter\n",
        "])\n"
      ],
      "metadata": {
        "colab": {
          "base_uri": "https://localhost:8080/"
        },
        "id": "_XpSL2Uoj97Q",
        "outputId": "b64f2aa5-0e08-4bae-9be5-e799502a84cc"
      },
      "execution_count": 15,
      "outputs": [
        {
          "output_type": "stream",
          "name": "stderr",
          "text": [
            "/usr/local/lib/python3.11/dist-packages/keras/src/layers/reshaping/flatten.py:37: UserWarning: Do not pass an `input_shape`/`input_dim` argument to a layer. When using Sequential models, prefer using an `Input(shape)` object as the first layer in the model instead.\n",
            "  super().__init__(**kwargs)\n"
          ]
        }
      ]
    },
    {
      "cell_type": "code",
      "source": [
        "#compiling neural network\n",
        "model.compile(optimizer='adam',  # determine most optimum value for parameter\n",
        "              loss='sparse_categorical_crossentropy', #as labels are numeric for OHE: use categorical_crossentropy\n",
        "              metrics=['accuracy'])"
      ],
      "metadata": {
        "id": "_zNrJE3mu7g0"
      },
      "execution_count": 16,
      "outputs": []
    },
    {
      "cell_type": "code",
      "source": [
        "# Training neural network\n",
        "model.fit(X_train,y_train,epochs=10)"
      ],
      "metadata": {
        "colab": {
          "base_uri": "https://localhost:8080/"
        },
        "id": "STDLPv1Hu7da",
        "outputId": "64ac4d84-a0ee-43da-87dd-513b872d5099"
      },
      "execution_count": 17,
      "outputs": [
        {
          "output_type": "stream",
          "name": "stdout",
          "text": [
            "Epoch 1/10\n",
            "\u001b[1m1875/1875\u001b[0m \u001b[32m━━━━━━━━━━━━━━━━━━━━\u001b[0m\u001b[37m\u001b[0m \u001b[1m5s\u001b[0m 2ms/step - accuracy: 0.8550 - loss: 0.5190\n",
            "Epoch 2/10\n",
            "\u001b[1m1875/1875\u001b[0m \u001b[32m━━━━━━━━━━━━━━━━━━━━\u001b[0m\u001b[37m\u001b[0m \u001b[1m3s\u001b[0m 2ms/step - accuracy: 0.9557 - loss: 0.1492\n",
            "Epoch 3/10\n",
            "\u001b[1m1875/1875\u001b[0m \u001b[32m━━━━━━━━━━━━━━━━━━━━\u001b[0m\u001b[37m\u001b[0m \u001b[1m5s\u001b[0m 2ms/step - accuracy: 0.9680 - loss: 0.1052\n",
            "Epoch 4/10\n",
            "\u001b[1m1875/1875\u001b[0m \u001b[32m━━━━━━━━━━━━━━━━━━━━\u001b[0m\u001b[37m\u001b[0m \u001b[1m5s\u001b[0m 2ms/step - accuracy: 0.9750 - loss: 0.0822\n",
            "Epoch 5/10\n",
            "\u001b[1m1875/1875\u001b[0m \u001b[32m━━━━━━━━━━━━━━━━━━━━\u001b[0m\u001b[37m\u001b[0m \u001b[1m3s\u001b[0m 2ms/step - accuracy: 0.9788 - loss: 0.0657\n",
            "Epoch 6/10\n",
            "\u001b[1m1875/1875\u001b[0m \u001b[32m━━━━━━━━━━━━━━━━━━━━\u001b[0m\u001b[37m\u001b[0m \u001b[1m3s\u001b[0m 2ms/step - accuracy: 0.9835 - loss: 0.0531\n",
            "Epoch 7/10\n",
            "\u001b[1m1875/1875\u001b[0m \u001b[32m━━━━━━━━━━━━━━━━━━━━\u001b[0m\u001b[37m\u001b[0m \u001b[1m4s\u001b[0m 2ms/step - accuracy: 0.9856 - loss: 0.0452\n",
            "Epoch 8/10\n",
            "\u001b[1m1875/1875\u001b[0m \u001b[32m━━━━━━━━━━━━━━━━━━━━\u001b[0m\u001b[37m\u001b[0m \u001b[1m5s\u001b[0m 2ms/step - accuracy: 0.9879 - loss: 0.0384\n",
            "Epoch 9/10\n",
            "\u001b[1m1875/1875\u001b[0m \u001b[32m━━━━━━━━━━━━━━━━━━━━\u001b[0m\u001b[37m\u001b[0m \u001b[1m6s\u001b[0m 2ms/step - accuracy: 0.9898 - loss: 0.0325\n",
            "Epoch 10/10\n",
            "\u001b[1m1875/1875\u001b[0m \u001b[32m━━━━━━━━━━━━━━━━━━━━\u001b[0m\u001b[37m\u001b[0m \u001b[1m5s\u001b[0m 2ms/step - accuracy: 0.9901 - loss: 0.0305\n"
          ]
        },
        {
          "output_type": "execute_result",
          "data": {
            "text/plain": [
              "<keras.src.callbacks.history.History at 0x7bf351da7910>"
            ]
          },
          "metadata": {},
          "execution_count": 17
        }
      ]
    },
    {
      "cell_type": "markdown",
      "source": [
        "Training Data Accuracy=99%\n",
        "\n",
        "Evaluate NN i.e Accuracy on Test Data\n",
        "\n",
        "\n"
      ],
      "metadata": {
        "id": "nz6RIuUwwgWG"
      }
    },
    {
      "cell_type": "code",
      "source": [
        "loss, accuracy = model.evaluate(X_test,y_test)\n",
        "print(accuracy)"
      ],
      "metadata": {
        "colab": {
          "base_uri": "https://localhost:8080/"
        },
        "id": "Jl6sZbn7u7az",
        "outputId": "729f8203-08c4-4fa7-ea58-e008fd800340"
      },
      "execution_count": 18,
      "outputs": [
        {
          "output_type": "stream",
          "name": "stdout",
          "text": [
            "\u001b[1m313/313\u001b[0m \u001b[32m━━━━━━━━━━━━━━━━━━━━\u001b[0m\u001b[37m\u001b[0m \u001b[1m1s\u001b[0m 1ms/step - accuracy: 0.9611 - loss: 0.1490\n",
            "0.965399980545044\n"
          ]
        }
      ]
    },
    {
      "cell_type": "markdown",
      "source": [
        "Testing Data Accuracy=96.53%"
      ],
      "metadata": {
        "id": "mDvlYjfJxKL_"
      }
    },
    {
      "cell_type": "code",
      "source": [
        "print(X_test.shape)\n"
      ],
      "metadata": {
        "colab": {
          "base_uri": "https://localhost:8080/"
        },
        "id": "Cs46Kyk3u7XU",
        "outputId": "adf8abdd-aa42-460d-ae2a-19bc21240256"
      },
      "execution_count": 19,
      "outputs": [
        {
          "output_type": "stream",
          "name": "stdout",
          "text": [
            "(10000, 28, 28)\n"
          ]
        }
      ]
    },
    {
      "cell_type": "code",
      "source": [
        "#display first data point in test data X_test\n",
        "plt.imshow(X_test[0])\n",
        "plt.show()"
      ],
      "metadata": {
        "colab": {
          "base_uri": "https://localhost:8080/",
          "height": 430
        },
        "id": "7Z1cQ26ru7Ud",
        "outputId": "44845037-6a3a-4196-b245-970fd04f7af9"
      },
      "execution_count": 20,
      "outputs": [
        {
          "output_type": "display_data",
          "data": {
            "text/plain": [
              "<Figure size 640x480 with 1 Axes>"
            ],
            "image/png": "[encoded data removed]"
          },
          "metadata": {}
        }
      ]
    },
    {
      "cell_type": "code",
      "source": [
        "#corresponding label\n",
        "print(y_test[0])"
      ],
      "metadata": {
        "colab": {
          "base_uri": "https://localhost:8080/"
        },
        "id": "57GCI4iSxhkV",
        "outputId": "04a290cb-d9f6-4018-ed0e-04cf2984aa20"
      },
      "execution_count": 21,
      "outputs": [
        {
          "output_type": "stream",
          "name": "stdout",
          "text": [
            "7\n"
          ]
        }
      ]
    },
    {
      "cell_type": "code",
      "source": [
        "# Check individual predictions of my model\n",
        "Y_pred=model.predict(X_test)\n",
        "print(Y_pred.shape)"
      ],
      "metadata": {
        "colab": {
          "base_uri": "https://localhost:8080/"
        },
        "id": "A3779QD_xqZY",
        "outputId": "760d7ce8-cfdb-44a5-fe0a-7998a301836e"
      },
      "execution_count": 22,
      "outputs": [
        {
          "output_type": "stream",
          "name": "stdout",
          "text": [
            "\u001b[1m313/313\u001b[0m \u001b[32m━━━━━━━━━━━━━━━━━━━━\u001b[0m\u001b[37m\u001b[0m \u001b[1m0s\u001b[0m 1ms/step  \n",
            "(10000, 10)\n"
          ]
        }
      ]
    },
    {
      "cell_type": "code",
      "source": [
        "#printing for only one label i.e 0th . It gives probability of each label [0-9]\n",
        "print(Y_pred[0])"
      ],
      "metadata": {
        "colab": {
          "base_uri": "https://localhost:8080/"
        },
        "id": "Jaqa5uaDx55O",
        "outputId": "8d0713a1-1fd7-4d65-ed04-f4ae4be8edc9"
      },
      "execution_count": 23,
      "outputs": [
        {
          "output_type": "stream",
          "name": "stdout",
          "text": [
            "[2.1429693e-03 4.4505149e-03 5.8162134e-02 9.0023381e-01 3.1043746e-07\n",
            " 3.5193057e-03 3.8535519e-11 9.9999952e-01 2.3221244e-05 9.0280104e-01]\n"
          ]
        }
      ]
    },
    {
      "cell_type": "markdown",
      "source": [
        "model.predict() gives prediction probability of each class for that data point"
      ],
      "metadata": {
        "id": "hYqQovAPyWbd"
      }
    },
    {
      "cell_type": "code",
      "source": [
        "#converting prediction probabilities to class labels. value at index 7 is maximum so we get 7 number\n",
        "label_for_first_test_image = np.argmax(Y_pred[0])\n",
        "print(label_for_first_test_image)"
      ],
      "metadata": {
        "colab": {
          "base_uri": "https://localhost:8080/"
        },
        "id": "OfOjKmX4yeZF",
        "outputId": "7e47fad5-eb9d-4716-a10b-6777c625e2c1"
      },
      "execution_count": 24,
      "outputs": [
        {
          "output_type": "stream",
          "name": "stdout",
          "text": [
            "7\n"
          ]
        }
      ]
    },
    {
      "cell_type": "code",
      "source": [
        "#converting prediction probability to class labels for all test data points\n",
        "Y_pred_labels = [np.argmax(i) for i in Y_pred]\n",
        "print(Y_pred_labels)"
      ],
      "metadata": {
        "colab": {
          "base_uri": "https://localhost:8080/"
        },
        "id": "k9BrqR6gzJKk",
        "outputId": "28df3204-c7ef-435f-d186-0e1a047ac4a1"
      },
      "execution_count": 25,
      "outputs": [
        {
          "output_type": "stream",
          "name": "stdout",
          "text": [
            "[np.int64(7), np.int64(2), np.int64(1), np.int64(0), np.int64(4), np.int64(1), np.int64(4), np.int64(9), np.int64(5), np.int64(9), np.int64(0), np.int64(6), np.int64(9), np.int64(0), np.int64(1), np.int64(5), np.int64(9), np.int64(7), np.int64(3), np.int64(4), np.int64(9), np.int64(6), np.int64(6), np.int64(5), np.int64(4), np.int64(0), np.int64(7), np.int64(4), np.int64(0), np.int64(1), np.int64(3), np.int64(1), np.int64(3), np.int64(4), np.int64(7), np.int64(2), np.int64(7), np.int64(1), np.int64(2), np.int64(1), np.int64(1), np.int64(7), np.int64(4), np.int64(2), np.int64(3), np.int64(5), np.int64(1), np.int64(2), np.int64(4), np.int64(4), np.int64(6), np.int64(3), np.int64(5), np.int64(5), np.int64(6), np.int64(0), np.int64(4), np.int64(1), np.int64(9), np.int64(5), np.int64(7), np.int64(2), np.int64(9), np.int64(3), np.int64(7), np.int64(4), np.int64(6), np.int64(4), np.int64(3), np.int64(0), np.int64(7), np.int64(0), np.int64(2), np.int64(9), np.int64(1), np.int64(7), np.int64(3), np.int64(2), np.int64(9), np.int64(7), np.int64(7), np.int64(6), np.int64(2), np.int64(7), np.int64(8), np.int64(4), np.int64(7), np.int64(3), np.int64(6), np.int64(1), np.int64(3), np.int64(6), np.int64(9), np.int64(3), np.int64(1), np.int64(4), np.int64(1), np.int64(7), np.int64(6), np.int64(9), np.int64(6), np.int64(0), np.int64(5), np.int64(4), np.int64(9), np.int64(9), np.int64(2), np.int64(1), np.int64(9), np.int64(4), np.int64(8), np.int64(7), np.int64(3), np.int64(9), np.int64(7), np.int64(4), np.int64(4), np.int64(4), np.int64(9), np.int64(2), np.int64(5), np.int64(4), np.int64(7), np.int64(6), np.int64(4), np.int64(9), np.int64(0), np.int64(5), np.int64(8), np.int64(5), np.int64(6), np.int64(6), np.int64(5), np.int64(7), np.int64(8), np.int64(1), np.int64(0), np.int64(1), np.int64(6), np.int64(4), np.int64(6), np.int64(7), np.int64(3), np.int64(1), np.int64(7), np.int64(1), np.int64(8), np.int64(2), np.int64(0), np.int64(2), np.int64(9), np.int64(8), np.int64(5), np.int64(5), np.int64(1), np.int64(5), np.int64(6), np.int64(0), np.int64(3), np.int64(4), np.int64(4), np.int64(6), np.int64(5), np.int64(4), np.int64(6), np.int64(5), np.int64(4), np.int64(5), np.int64(1), np.int64(4), np.int64(4), np.int64(7), np.int64(2), np.int64(3), np.int64(2), np.int64(7), np.int64(1), np.int64(8), np.int64(1), np.int64(8), np.int64(1), np.int64(8), np.int64(5), np.int64(0), np.int64(8), np.int64(9), np.int64(2), np.int64(5), np.int64(0), np.int64(1), np.int64(1), np.int64(1), np.int64(0), np.int64(9), np.int64(0), np.int64(8), np.int64(1), np.int64(6), np.int64(4), np.int64(2), np.int64(3), np.int64(6), np.int64(1), np.int64(1), np.int64(1), np.int64(3), np.int64(9), np.int64(5), np.int64(2), np.int64(9), np.int64(4), np.int64(5), np.int64(9), np.int64(3), np.int64(9), np.int64(0), np.int64(3), np.int64(6), np.int64(5), np.int64(5), np.int64(7), np.int64(2), np.int64(2), np.int64(7), np.int64(1), np.int64(2), np.int64(8), np.int64(4), np.int64(1), np.int64(7), np.int64(3), np.int64(3), np.int64(8), np.int64(9), np.int64(7), np.int64(9), np.int64(2), np.int64(2), np.int64(4), np.int64(1), np.int64(5), np.int64(8), np.int64(8), np.int64(7), np.int64(2), np.int64(3), np.int64(0), np.int64(4), np.int64(4), np.int64(2), np.int64(4), np.int64(1), np.int64(9), np.int64(5), np.int64(7), np.int64(7), np.int64(2), np.int64(8), np.int64(2), np.int64(6), np.int64(8), np.int64(5), np.int64(7), np.int64(7), np.int64(9), np.int64(1), np.int64(8), np.int64(1), np.int64(8), np.int64(0), np.int64(3), np.int64(0), np.int64(1), np.int64(9), np.int64(9), np.int64(4), np.int64(1), np.int64(8), np.int64(2), np.int64(1), np.int64(2), np.int64(9), np.int64(7), np.int64(5), np.int64(9), np.int64(2), np.int64(6), np.int64(4), np.int64(1), np.int64(5), np.int64(8), np.int64(2), np.int64(9), np.int64(2), np.int64(0), np.int64(4), np.int64(0), np.int64(0), np.int64(2), np.int64(8), np.int64(4), np.int64(7), np.int64(1), np.int64(2), np.int64(4), np.int64(0), np.int64(2), np.int64(7), np.int64(4), np.int64(3), np.int64(3), np.int64(0), np.int64(0), np.int64(3), np.int64(1), np.int64(9), np.int64(6), np.int64(5), np.int64(2), np.int64(5), np.int64(9), np.int64(7), np.int64(9), np.int64(3), np.int64(0), np.int64(4), np.int64(2), np.int64(0), np.int64(7), np.int64(1), np.int64(1), np.int64(2), np.int64(1), np.int64(5), np.int64(3), np.int64(3), np.int64(9), np.int64(7), np.int64(8), np.int64(6), np.int64(3), np.int64(6), np.int64(1), np.int64(3), np.int64(8), np.int64(1), np.int64(0), np.int64(5), np.int64(1), np.int64(3), np.int64(1), np.int64(5), np.int64(5), np.int64(6), np.int64(1), np.int64(8), np.int64(5), np.int64(1), np.int64(7), np.int64(9), np.int64(4), np.int64(6), np.int64(2), np.int64(2), np.int64(5), np.int64(0), np.int64(6), np.int64(5), np.int64(6), np.int64(3), np.int64(7), np.int64(2), np.int64(0), np.int64(8), np.int64(8), np.int64(5), np.int64(4), np.int64(1), np.int64(1), np.int64(4), np.int64(0), np.int64(7), np.int64(3), np.int64(7), np.int64(6), np.int64(1), np.int64(6), np.int64(2), np.int64(1), np.int64(9), np.int64(2), np.int64(8), np.int64(6), np.int64(1), np.int64(9), np.int64(5), np.int64(2), np.int64(5), np.int64(4), np.int64(4), np.int64(2), np.int64(8), np.int64(3), np.int64(8), np.int64(2), np.int64(4), np.int64(5), np.int64(0), np.int64(3), np.int64(8), np.int64(7), np.int64(7), np.int64(5), np.int64(7), np.int64(9), np.int64(7), np.int64(1), np.int64(9), np.int64(2), np.int64(1), np.int64(4), np.int64(2), np.int64(9), np.int64(2), np.int64(0), np.int64(4), np.int64(9), np.int64(1), np.int64(4), np.int64(8), np.int64(1), np.int64(8), np.int64(4), np.int64(5), np.int64(9), np.int64(8), np.int64(8), np.int64(3), np.int64(7), np.int64(6), np.int64(0), np.int64(0), np.int64(3), np.int64(0), np.int64(2), np.int64(0), np.int64(6), np.int64(9), np.int64(9), np.int64(3), np.int64(3), np.int64(3), np.int64(2), np.int64(3), np.int64(9), np.int64(1), np.int64(2), np.int64(6), np.int64(8), np.int64(0), np.int64(9), np.int64(6), np.int64(6), np.int64(6), np.int64(7), np.int64(8), np.int64(8), np.int64(2), np.int64(7), np.int64(5), np.int64(8), np.int64(9), np.int64(6), np.int64(1), np.int64(8), np.int64(4), np.int64(1), np.int64(2), np.int64(5), np.int64(9), np.int64(1), np.int64(9), np.int64(7), np.int64(5), np.int64(4), np.int64(0), np.int64(8), np.int64(9), np.int64(9), np.int64(1), np.int64(0), np.int64(5), np.int64(2), np.int64(3), np.int64(7), np.int64(0), np.int64(9), np.int64(4), np.int64(0), np.int64(6), np.int64(3), np.int64(9), np.int64(5), np.int64(2), np.int64(1), np.int64(3), np.int64(1), np.int64(5), np.int64(6), np.int64(5), np.int64(7), np.int64(4), np.int64(2), np.int64(2), np.int64(6), np.int64(3), np.int64(2), np.int64(6), np.int64(5), np.int64(4), np.int64(8), np.int64(9), np.int64(7), np.int64(1), np.int64(3), np.int64(0), np.int64(3), np.int64(8), np.int64(3), np.int64(1), np.int64(9), np.int64(3), np.int64(4), np.int64(4), np.int64(6), np.int64(4), np.int64(2), np.int64(1), np.int64(8), np.int64(2), np.int64(5), np.int64(4), np.int64(8), np.int64(8), np.int64(4), np.int64(0), np.int64(0), np.int64(2), np.int64(3), np.int64(2), np.int64(7), np.int64(7), np.int64(0), np.int64(8), np.int64(7), np.int64(4), np.int64(4), np.int64(7), np.int64(9), np.int64(6), np.int64(9), np.int64(0), np.int64(9), np.int64(8), np.int64(0), np.int64(4), np.int64(6), np.int64(0), np.int64(6), np.int64(3), np.int64(5), np.int64(4), np.int64(8), np.int64(3), np.int64(3), np.int64(9), np.int64(3), np.int64(3), np.int64(3), np.int64(7), np.int64(8), np.int64(0), np.int64(2), np.int64(2), np.int64(1), np.int64(7), np.int64(0), np.int64(6), np.int64(5), np.int64(4), np.int64(3), np.int64(3), np.int64(0), np.int64(9), np.int64(6), np.int64(3), np.int64(8), np.int64(0), np.int64(9), np.int64(9), np.int64(6), np.int64(8), np.int64(6), np.int64(8), np.int64(5), np.int64(7), np.int64(8), np.int64(6), np.int64(0), np.int64(2), np.int64(4), np.int64(0), np.int64(2), np.int64(2), np.int64(3), np.int64(1), np.int64(9), np.int64(7), np.int64(5), np.int64(8), np.int64(0), np.int64(8), np.int64(4), np.int64(6), np.int64(2), np.int64(6), np.int64(7), np.int64(9), np.int64(3), np.int64(2), np.int64(9), np.int64(8), np.int64(2), np.int64(2), np.int64(9), np.int64(2), np.int64(7), np.int64(3), np.int64(5), np.int64(9), np.int64(1), np.int64(8), np.int64(0), np.int64(2), np.int64(0), np.int64(5), np.int64(2), np.int64(1), np.int64(3), np.int64(7), np.int64(6), np.int64(7), np.int64(1), np.int64(2), np.int64(5), np.int64(8), np.int64(0), np.int64(3), np.int64(7), np.int64(3), np.int64(4), np.int64(0), np.int64(9), np.int64(1), np.int64(8), np.int64(6), np.int64(7), np.int64(7), np.int64(4), np.int64(3), np.int64(4), np.int64(9), np.int64(1), np.int64(9), np.int64(5), np.int64(1), np.int64(7), np.int64(3), np.int64(9), np.int64(7), np.int64(6), np.int64(9), np.int64(1), np.int64(3), np.int64(3), np.int64(8), np.int64(3), np.int64(3), np.int64(6), np.int64(7), np.int64(2), np.int64(4), np.int64(5), np.int64(8), np.int64(5), np.int64(1), np.int64(1), np.int64(4), np.int64(4), np.int64(3), np.int64(1), np.int64(0), np.int64(7), np.int64(7), np.int64(0), np.int64(7), np.int64(9), np.int64(4), np.int64(4), np.int64(8), np.int64(5), np.int64(5), np.int64(4), np.int64(0), np.int64(8), np.int64(2), np.int64(1), np.int64(0), np.int64(8), np.int64(4), np.int64(8), np.int64(0), np.int64(4), np.int64(0), np.int64(6), np.int64(1), np.int64(7), np.int64(3), np.int64(2), np.int64(6), np.int64(7), np.int64(2), np.int64(6), np.int64(9), np.int64(3), np.int64(1), np.int64(4), np.int64(6), np.int64(2), np.int64(5), np.int64(4), np.int64(2), np.int64(0), np.int64(6), np.int64(2), np.int64(1), np.int64(7), np.int64(3), np.int64(4), np.int64(1), np.int64(0), np.int64(5), np.int64(4), np.int64(3), np.int64(1), np.int64(1), np.int64(7), np.int64(4), np.int64(9), np.int64(9), np.int64(4), np.int64(8), np.int64(4), np.int64(0), np.int64(2), np.int64(4), np.int64(5), np.int64(1), np.int64(1), np.int64(6), np.int64(4), np.int64(7), np.int64(1), np.int64(9), np.int64(4), np.int64(2), np.int64(4), np.int64(1), np.int64(5), np.int64(5), np.int64(3), np.int64(8), np.int64(3), np.int64(1), np.int64(4), np.int64(5), np.int64(6), np.int64(8), np.int64(9), np.int64(4), np.int64(1), np.int64(5), np.int64(3), np.int64(8), np.int64(0), np.int64(3), np.int64(2), np.int64(5), np.int64(1), np.int64(2), np.int64(8), np.int64(3), np.int64(4), np.int64(4), np.int64(0), np.int64(8), np.int64(8), np.int64(3), np.int64(3), np.int64(1), np.int64(2), np.int64(3), np.int64(5), np.int64(9), np.int64(6), np.int64(3), np.int64(2), np.int64(6), np.int64(1), np.int64(3), np.int64(6), np.int64(0), np.int64(7), np.int64(2), np.int64(1), np.int64(7), np.int64(1), np.int64(4), np.int64(2), np.int64(4), np.int64(2), np.int64(1), np.int64(7), np.int64(9), np.int64(6), np.int64(1), np.int64(1), np.int64(2), np.int64(4), np.int64(3), np.int64(1), np.int64(7), np.int64(7), np.int64(4), np.int64(8), np.int64(0), np.int64(9), np.int64(3), np.int64(1), np.int64(3), np.int64(1), np.int64(0), np.int64(7), np.int64(7), np.int64(0), np.int64(3), np.int64(5), np.int64(5), np.int64(2), np.int64(7), np.int64(6), np.int64(6), np.int64(9), np.int64(2), np.int64(8), np.int64(3), np.int64(5), np.int64(2), np.int64(2), np.int64(5), np.int64(6), np.int64(0), np.int64(8), np.int64(2), np.int64(4), np.int64(2), np.int64(8), np.int64(8), np.int64(8), np.int64(8), np.int64(7), np.int64(4), np.int64(9), np.int64(5), np.int64(0), np.int64(4), np.int64(6), np.int64(3), np.int64(2), np.int64(1), np.int64(3), np.int64(2), np.int64(2), np.int64(9), np.int64(3), np.int64(0), np.int64(0), np.int64(5), np.int64(7), np.int64(8), np.int64(3), np.int64(4), np.int64(4), np.int64(6), np.int64(0), np.int64(2), np.int64(9), np.int64(1), np.int64(4), np.int64(7), np.int64(4), np.int64(7), np.int64(3), np.int64(9), np.int64(8), np.int64(8), np.int64(4), np.int64(7), np.int64(1), np.int64(2), np.int64(1), np.int64(2), np.int64(2), np.int64(3), np.int64(2), np.int64(3), np.int64(2), np.int64(3), np.int64(9), np.int64(1), np.int64(7), np.int64(4), np.int64(0), np.int64(3), np.int64(5), np.int64(5), np.int64(8), np.int64(6), np.int64(5), np.int64(2), np.int64(6), np.int64(7), np.int64(6), np.int64(6), np.int64(8), np.int64(2), np.int64(7), np.int64(9), np.int64(1), np.int64(1), np.int64(7), np.int64(5), np.int64(6), np.int64(4), np.int64(9), np.int64(5), np.int64(1), np.int64(3), np.int64(3), np.int64(4), np.int64(7), np.int64(8), np.int64(9), np.int64(1), np.int64(1), np.int64(6), np.int64(9), np.int64(1), np.int64(4), np.int64(4), np.int64(5), np.int64(4), np.int64(0), np.int64(6), np.int64(2), np.int64(2), np.int64(3), np.int64(1), np.int64(5), np.int64(1), np.int64(2), np.int64(0), np.int64(3), np.int64(8), np.int64(1), np.int64(2), np.int64(6), np.int64(7), np.int64(1), np.int64(6), np.int64(2), np.int64(3), np.int64(9), np.int64(0), np.int64(1), np.int64(2), np.int64(2), np.int64(0), np.int64(8), np.int64(9), np.int64(9), np.int64(0), np.int64(2), np.int64(3), np.int64(1), np.int64(9), np.int64(7), np.int64(8), np.int64(1), np.int64(0), np.int64(4), np.int64(1), np.int64(7), np.int64(9), np.int64(5), np.int64(4), np.int64(2), np.int64(6), np.int64(8), np.int64(1), np.int64(3), np.int64(7), np.int64(5), np.int64(4), np.int64(4), np.int64(1), np.int64(8), np.int64(1), np.int64(3), np.int64(8), np.int64(1), np.int64(2), np.int64(8), np.int64(8), np.int64(0), np.int64(6), np.int64(2), np.int64(1), np.int64(1), np.int64(3), np.int64(1), np.int64(5), np.int64(3), np.int64(4), np.int64(4), np.int64(9), np.int64(5), np.int64(0), np.int64(9), np.int64(2), np.int64(2), np.int64(4), np.int64(8), np.int64(2), np.int64(1), np.int64(7), np.int64(2), np.int64(4), np.int64(9), np.int64(4), np.int64(4), np.int64(0), np.int64(7), np.int64(9), np.int64(2), np.int64(2), np.int64(3), np.int64(3), np.int64(8), np.int64(3), np.int64(5), np.int64(7), np.int64(3), np.int64(5), np.int64(8), np.int64(1), np.int64(2), np.int64(4), np.int64(4), np.int64(6), np.int64(4), np.int64(9), np.int64(5), np.int64(1), np.int64(0), np.int64(6), np.int64(9), np.int64(5), np.int64(9), np.int64(5), np.int64(9), np.int64(7), np.int64(3), np.int64(8), np.int64(0), np.int64(3), np.int64(7), np.int64(1), np.int64(3), np.int64(6), np.int64(7), np.int64(8), np.int64(5), np.int64(9), np.int64(7), np.int64(9), np.int64(6), np.int64(9), np.int64(6), np.int64(3), np.int64(7), np.int64(4), np.int64(6), np.int64(5), np.int64(3), np.int64(5), np.int64(4), np.int64(7), np.int64(8), np.int64(7), np.int64(8), np.int64(0), np.int64(7), np.int64(6), np.int64(9), np.int64(8), np.int64(7), np.int64(3), np.int64(3), np.int64(1), np.int64(9), np.int64(5), np.int64(2), np.int64(7), np.int64(3), np.int64(5), np.int64(1), np.int64(1), np.int64(2), np.int64(1), np.int64(4), np.int64(7), np.int64(4), np.int64(7), np.int64(5), np.int64(4), np.int64(5), np.int64(4), np.int64(0), np.int64(8), np.int64(3), np.int64(6), np.int64(9), np.int64(6), np.int64(0), np.int64(2), np.int64(8), np.int64(4), np.int64(4), np.int64(4), np.int64(4), np.int64(6), np.int64(6), np.int64(4), np.int64(7), np.int64(9), np.int64(3), np.int64(4), np.int64(5), np.int64(5), np.int64(8), np.int64(7), np.int64(3), np.int64(7), np.int64(2), np.int64(7), np.int64(0), np.int64(2), np.int64(4), np.int64(1), np.int64(1), np.int64(6), np.int64(6), np.int64(9), np.int64(2), np.int64(8), np.int64(7), np.int64(2), np.int64(0), np.int64(1), np.int64(5), np.int64(0), np.int64(9), np.int64(1), np.int64(7), np.int64(0), np.int64(6), np.int64(0), np.int64(8), np.int64(6), np.int64(8), np.int64(1), np.int64(8), np.int64(0), np.int64(3), np.int64(3), np.int64(7), np.int64(2), np.int64(3), np.int64(6), np.int64(2), np.int64(1), np.int64(6), np.int64(1), np.int64(1), np.int64(3), np.int64(7), np.int64(9), np.int64(0), np.int64(8), np.int64(0), np.int64(5), np.int64(4), np.int64(0), np.int64(4), np.int64(8), np.int64(2), np.int64(2), np.int64(9), np.int64(8), np.int64(4), np.int64(0), np.int64(4), np.int64(5), np.int64(8), np.int64(5), np.int64(1), np.int64(2), np.int64(1), np.int64(3), np.int64(1), np.int64(7), np.int64(9), np.int64(4), np.int64(7), np.int64(2), np.int64(0), np.int64(5), np.int64(8), np.int64(8), np.int64(6), np.int64(2), np.int64(5), np.int64(4), np.int64(1), np.int64(9), np.int64(2), np.int64(1), np.int64(5), np.int64(8), np.int64(7), np.int64(0), np.int64(2), np.int64(4), np.int64(4), np.int64(3), np.int64(6), np.int64(8), np.int64(8), np.int64(2), np.int64(4), np.int64(0), np.int64(5), np.int64(0), np.int64(4), np.int64(4), np.int64(7), np.int64(9), np.int64(3), np.int64(4), np.int64(1), np.int64(5), np.int64(9), np.int64(7), np.int64(3), np.int64(5), np.int64(8), np.int64(8), np.int64(0), np.int64(5), np.int64(3), np.int64(3), np.int64(6), np.int64(6), np.int64(0), np.int64(1), np.int64(6), np.int64(0), np.int64(3), np.int64(5), np.int64(4), np.int64(4), np.int64(1), np.int64(2), np.int64(9), np.int64(1), np.int64(4), np.int64(6), np.int64(9), np.int64(9), np.int64(3), np.int64(9), np.int64(8), np.int64(4), np.int64(4), np.int64(3), np.int64(1), np.int64(3), np.int64(1), np.int64(3), np.int64(8), np.int64(7), np.int64(9), np.int64(4), np.int64(8), np.int64(8), np.int64(7), np.int64(9), np.int64(9), np.int64(1), np.int64(4), np.int64(5), np.int64(6), np.int64(0), np.int64(5), np.int64(2), np.int64(2), np.int64(2), np.int64(1), np.int64(5), np.int64(5), np.int64(2), np.int64(4), np.int64(9), np.int64(6), np.int64(2), np.int64(7), np.int64(7), np.int64(2), np.int64(2), np.int64(1), np.int64(1), np.int64(2), np.int64(8), np.int64(3), np.int64(7), np.int64(2), np.int64(4), np.int64(1), np.int64(7), np.int64(1), np.int64(7), np.int64(6), np.int64(7), np.int64(8), np.int64(2), np.int64(7), np.int64(3), np.int64(1), np.int64(7), np.int64(5), np.int64(8), np.int64(2), np.int64(6), np.int64(2), np.int64(2), np.int64(5), np.int64(6), np.int64(8), np.int64(0), np.int64(9), np.int64(2), np.int64(4), np.int64(3), np.int64(3), np.int64(9), np.int64(7), np.int64(6), np.int64(6), np.int64(8), np.int64(0), np.int64(4), np.int64(1), np.int64(3), np.int64(8), np.int64(2), np.int64(9), np.int64(1), np.int64(8), np.int64(0), np.int64(6), np.int64(7), np.int64(2), np.int64(1), np.int64(0), np.int64(5), np.int64(5), np.int64(2), np.int64(0), np.int64(2), np.int64(2), np.int64(0), np.int64(2), np.int64(4), np.int64(9), np.int64(8), np.int64(0), np.int64(9), np.int64(9), np.int64(4), np.int64(6), np.int64(5), np.int64(4), np.int64(9), np.int64(1), np.int64(8), np.int64(3), np.int64(4), np.int64(9), np.int64(9), np.int64(1), np.int64(2), np.int64(2), np.int64(8), np.int64(1), np.int64(9), np.int64(6), np.int64(4), np.int64(0), np.int64(9), np.int64(4), np.int64(8), np.int64(3), np.int64(8), np.int64(6), np.int64(0), np.int64(2), np.int64(5), np.int64(1), np.int64(9), np.int64(6), np.int64(2), np.int64(9), np.int64(4), np.int64(0), np.int64(9), np.int64(6), np.int64(0), np.int64(9), np.int64(2), np.int64(5), np.int64(4), np.int64(2), np.int64(3), np.int64(8), np.int64(4), np.int64(5), np.int64(5), np.int64(0), np.int64(3), np.int64(8), np.int64(5), np.int64(3), np.int64(5), np.int64(8), np.int64(6), np.int64(5), np.int64(7), np.int64(6), np.int64(3), np.int64(3), np.int64(9), np.int64(6), np.int64(1), np.int64(1), np.int64(2), np.int64(9), np.int64(0), np.int64(4), np.int64(3), np.int64(3), np.int64(6), np.int64(9), np.int64(5), np.int64(9), np.int64(3), np.int64(7), np.int64(7), np.int64(7), np.int64(8), np.int64(1), np.int64(9), np.int64(8), np.int64(3), np.int64(0), np.int64(7), np.int64(2), np.int64(7), np.int64(9), np.int64(4), np.int64(5), np.int64(4), np.int64(9), np.int64(3), np.int64(2), np.int64(1), np.int64(4), np.int64(0), np.int64(2), np.int64(3), np.int64(8), np.int64(5), np.int64(9), np.int64(8), np.int64(8), np.int64(5), np.int64(0), np.int64(1), np.int64(1), np.int64(4), np.int64(9), np.int64(3), np.int64(9), np.int64(0), np.int64(0), np.int64(0), np.int64(6), np.int64(6), np.int64(2), np.int64(3), np.int64(7), np.int64(8), np.int64(4), np.int64(7), np.int64(7), np.int64(9), np.int64(2), np.int64(4), np.int64(1), np.int64(4), np.int64(5), np.int64(2), np.int64(4), np.int64(3), np.int64(9), np.int64(1), np.int64(8), np.int64(4), np.int64(0), np.int64(9), np.int64(8), np.int64(4), np.int64(8), np.int64(7), np.int64(7), np.int64(0), np.int64(7), np.int64(8), np.int64(8), np.int64(4), np.int64(6), np.int64(4), np.int64(8), np.int64(8), np.int64(2), np.int64(4), np.int64(7), np.int64(6), np.int64(6), np.int64(6), np.int64(4), np.int64(7), np.int64(1), np.int64(8), np.int64(8), np.int64(2), np.int64(3), np.int64(6), np.int64(3), np.int64(0), np.int64(0), np.int64(3), np.int64(7), np.int64(6), np.int64(9), np.int64(7), np.int64(9), np.int64(9), np.int64(5), np.int64(4), np.int64(3), np.int64(3), np.int64(6), np.int64(1), np.int64(2), np.int64(3), np.int64(7), np.int64(4), np.int64(3), np.int64(6), np.int64(0), np.int64(3), np.int64(3), np.int64(8), np.int64(4), np.int64(3), np.int64(6), np.int64(3), np.int64(5), np.int64(0), np.int64(2), np.int64(0), np.int64(9), np.int64(0), np.int64(7), np.int64(4), np.int64(6), np.int64(9), np.int64(3), np.int64(5), np.int64(1), np.int64(9), np.int64(6), np.int64(1), np.int64(4), np.int64(5), np.int64(4), np.int64(5), np.int64(0), np.int64(5), np.int64(9), np.int64(6), np.int64(2), np.int64(1), np.int64(2), np.int64(9), np.int64(1), np.int64(9), np.int64(9), np.int64(4), np.int64(0), np.int64(8), np.int64(4), np.int64(5), np.int64(2), np.int64(9), np.int64(2), np.int64(1), np.int64(2), np.int64(1), np.int64(7), np.int64(3), np.int64(6), np.int64(8), np.int64(8), np.int64(4), np.int64(9), np.int64(1), np.int64(9), np.int64(8), np.int64(5), np.int64(9), np.int64(5), np.int64(1), np.int64(1), np.int64(8), np.int64(6), np.int64(5), np.int64(2), np.int64(4), np.int64(4), np.int64(7), np.int64(2), np.int64(3), np.int64(5), np.int64(6), np.int64(8), np.int64(8), np.int64(6), np.int64(2), np.int64(3), np.int64(1), np.int64(0), np.int64(5), np.int64(8), np.int64(9), np.int64(2), np.int64(9), np.int64(6), np.int64(7), np.int64(0), np.int64(4), np.int64(8), np.int64(7), np.int64(1), np.int64(7), np.int64(4), np.int64(1), np.int64(0), np.int64(8), np.int64(7), np.int64(2), np.int64(9), np.int64(0), np.int64(9), np.int64(1), np.int64(7), np.int64(0), np.int64(7), np.int64(8), np.int64(4), np.int64(7), np.int64(2), np.int64(0), np.int64(4), np.int64(6), np.int64(0), np.int64(3), np.int64(1), np.int64(1), np.int64(3), np.int64(3), np.int64(9), np.int64(6), np.int64(7), np.int64(4), np.int64(1), np.int64(5), np.int64(3), np.int64(0), np.int64(6), np.int64(7), np.int64(3), np.int64(9), np.int64(6), np.int64(9), np.int64(3), np.int64(5), np.int64(0), np.int64(2), np.int64(7), np.int64(4), np.int64(5), np.int64(1), np.int64(2), np.int64(5), np.int64(8), np.int64(0), np.int64(8), np.int64(8), np.int64(1), np.int64(5), np.int64(0), np.int64(3), np.int64(0), np.int64(3), np.int64(1), np.int64(4), np.int64(0), np.int64(3), np.int64(7), np.int64(2), np.int64(4), np.int64(6), np.int64(8), np.int64(0), np.int64(7), np.int64(0), np.int64(4), np.int64(3), np.int64(1), np.int64(9), np.int64(8), np.int64(7), np.int64(7), np.int64(1), np.int64(4), np.int64(9), np.int64(9), np.int64(3), np.int64(8), np.int64(1), np.int64(7), np.int64(9), np.int64(0), np.int64(2), np.int64(0), np.int64(3), np.int64(3), np.int64(7), np.int64(4), np.int64(9), np.int64(2), np.int64(3), np.int64(3), np.int64(7), np.int64(7), np.int64(0), np.int64(0), np.int64(7), np.int64(5), np.int64(2), np.int64(9), np.int64(2), np.int64(7), np.int64(4), np.int64(4), np.int64(2), np.int64(6), np.int64(6), np.int64(1), np.int64(9), np.int64(6), np.int64(8), np.int64(2), np.int64(9), np.int64(0), np.int64(8), np.int64(3), np.int64(1), np.int64(1), np.int64(6), np.int64(3), np.int64(5), np.int64(1), np.int64(1), np.int64(1), np.int64(3), np.int64(1), np.int64(2), np.int64(3), np.int64(0), np.int64(2), np.int64(0), np.int64(1), np.int64(3), np.int64(5), np.int64(5), np.int64(7), np.int64(4), np.int64(9), np.int64(9), np.int64(6), np.int64(9), np.int64(6), np.int64(8), np.int64(3), np.int64(6), np.int64(6), np.int64(8), np.int64(5), np.int64(1), np.int64(4), np.int64(2), np.int64(4), np.int64(4), np.int64(5), np.int64(1), np.int64(1), np.int64(9), np.int64(0), np.int64(2), np.int64(4), np.int64(9), np.int64(5), np.int64(7), np.int64(1), np.int64(8), np.int64(8), np.int64(5), np.int64(6), np.int64(9), np.int64(8), np.int64(7), np.int64(1), np.int64(1), np.int64(6), np.int64(7), np.int64(6), np.int64(3), np.int64(2), np.int64(2), np.int64(0), np.int64(8), np.int64(9), np.int64(2), np.int64(5), np.int64(1), np.int64(0), np.int64(8), np.int64(1), np.int64(4), np.int64(5), np.int64(3), np.int64(9), np.int64(6), np.int64(9), np.int64(0), np.int64(6), np.int64(1), np.int64(5), np.int64(5), np.int64(8), np.int64(3), np.int64(8), np.int64(2), np.int64(6), np.int64(5), np.int64(0), np.int64(7), np.int64(4), np.int64(6), np.int64(1), np.int64(3), np.int64(4), np.int64(7), np.int64(3), np.int64(2), np.int64(3), np.int64(4), np.int64(2), np.int64(5), np.int64(2), np.int64(7), np.int64(1), np.int64(7), np.int64(2), np.int64(6), np.int64(4), np.int64(1), np.int64(5), np.int64(2), np.int64(8), np.int64(6), np.int64(0), np.int64(1), np.int64(8), np.int64(2), np.int64(5), np.int64(7), np.int64(7), np.int64(6), np.int64(3), np.int64(3), np.int64(5), np.int64(8), np.int64(4), np.int64(2), np.int64(4), np.int64(0), np.int64(8), np.int64(8), np.int64(3), np.int64(4), np.int64(9), np.int64(2), np.int64(7), np.int64(5), np.int64(8), np.int64(6), np.int64(5), np.int64(6), np.int64(0), np.int64(8), np.int64(6), np.int64(7), np.int64(3), np.int64(6), np.int64(4), np.int64(9), np.int64(4), np.int64(6), np.int64(6), np.int64(3), np.int64(2), np.int64(4), np.int64(1), np.int64(9), np.int64(1), np.int64(4), np.int64(6), np.int64(2), np.int64(9), np.int64(1), np.int64(1), np.int64(0), np.int64(6), np.int64(3), np.int64(9), np.int64(5), np.int64(6), np.int64(8), np.int64(6), np.int64(5), np.int64(9), np.int64(4), np.int64(6), np.int64(4), np.int64(3), np.int64(9), np.int64(1), np.int64(3), np.int64(4), np.int64(1), np.int64(9), np.int64(1), np.int64(7), np.int64(1), np.int64(8), np.int64(9), np.int64(3), np.int64(5), np.int64(4), np.int64(0), np.int64(9), np.int64(3), np.int64(6), np.int64(1), np.int64(7), np.int64(5), np.int64(5), np.int64(3), np.int64(3), np.int64(4), np.int64(1), np.int64(3), np.int64(7), np.int64(5), np.int64(8), np.int64(6), np.int64(4), np.int64(1), np.int64(0), np.int64(4), np.int64(2), np.int64(3), np.int64(4), np.int64(6), np.int64(7), np.int64(9), np.int64(8), np.int64(1), np.int64(4), np.int64(4), np.int64(9), np.int64(2), np.int64(8), np.int64(6), np.int64(2), np.int64(7), np.int64(0), np.int64(0), np.int64(6), np.int64(7), np.int64(5), np.int64(8), np.int64(6), np.int64(0), np.int64(9), np.int64(3), np.int64(7), np.int64(1), np.int64(3), np.int64(5), np.int64(4), np.int64(3), np.int64(3), np.int64(5), np.int64(5), np.int64(6), np.int64(3), np.int64(0), np.int64(2), np.int64(3), np.int64(4), np.int64(2), np.int64(3), np.int64(0), np.int64(9), np.int64(9), np.int64(4), np.int64(7), np.int64(2), np.int64(1), np.int64(4), np.int64(7), np.int64(0), np.int64(6), np.int64(2), np.int64(8), np.int64(5), np.int64(2), np.int64(8), np.int64(5), np.int64(7), np.int64(3), np.int64(0), np.int64(8), np.int64(2), np.int64(7), np.int64(2), np.int64(8), np.int64(2), np.int64(5), np.int64(5), np.int64(7), np.int64(6), np.int64(4), np.int64(4), np.int64(8), np.int64(4), np.int64(8), np.int64(2), np.int64(7), np.int64(4), np.int64(5), np.int64(2), np.int64(0), np.int64(3), np.int64(9), np.int64(4), np.int64(6), np.int64(7), np.int64(2), np.int64(5), np.int64(1), np.int64(1), np.int64(1), np.int64(2), np.int64(3), np.int64(6), np.int64(7), np.int64(8), np.int64(7), np.int64(6), np.int64(4), np.int64(8), np.int64(9), np.int64(4), np.int64(8), np.int64(6), np.int64(3), np.int64(8), np.int64(3), np.int64(1), np.int64(0), np.int64(6), np.int64(2), np.int64(2), np.int64(5), np.int64(6), np.int64(9), np.int64(5), np.int64(8), np.int64(1), np.int64(4), np.int64(1), np.int64(7), np.int64(8), np.int64(4), np.int64(6), np.int64(1), np.int64(8), np.int64(4), np.int64(3), np.int64(1), np.int64(2), np.int64(8), np.int64(0), np.int64(8), np.int64(5), np.int64(9), np.int64(2), np.int64(4), np.int64(2), np.int64(0), np.int64(2), np.int64(7), np.int64(0), np.int64(9), np.int64(0), np.int64(2), np.int64(5), np.int64(7), np.int64(6), np.int64(2), np.int64(9), np.int64(4), np.int64(2), np.int64(6), np.int64(6), np.int64(4), np.int64(4), np.int64(8), np.int64(0), np.int64(4), np.int64(4), np.int64(5), np.int64(8), np.int64(0), np.int64(6), np.int64(8), np.int64(9), np.int64(8), np.int64(5), np.int64(6), np.int64(9), np.int64(0), np.int64(4), np.int64(8), np.int64(7), np.int64(1), np.int64(3), np.int64(4), np.int64(5), np.int64(8), np.int64(0), np.int64(9), np.int64(1), np.int64(3), np.int64(3), np.int64(6), np.int64(9), np.int64(8), np.int64(7), np.int64(1), np.int64(0), np.int64(8), np.int64(7), np.int64(1), np.int64(7), np.int64(5), np.int64(2), np.int64(7), np.int64(9), np.int64(1), np.int64(8), np.int64(5), np.int64(2), np.int64(4), np.int64(9), np.int64(4), np.int64(7), np.int64(2), np.int64(2), np.int64(3), np.int64(4), np.int64(9), np.int64(1), np.int64(9), np.int64(2), np.int64(1), np.int64(7), np.int64(9), np.int64(4), np.int64(4), np.int64(4), np.int64(6), np.int64(7), np.int64(2), np.int64(7), np.int64(8), np.int64(0), np.int64(1), np.int64(9), np.int64(7), np.int64(1), np.int64(1), np.int64(7), np.int64(5), np.int64(3), np.int64(3), np.int64(5), np.int64(1), np.int64(3), np.int64(7), np.int64(6), np.int64(1), np.int64(3), np.int64(8), np.int64(7), np.int64(5), np.int64(9), np.int64(9), np.int64(0), np.int64(0), np.int64(2), np.int64(8), np.int64(0), np.int64(2), np.int64(3), np.int64(7), np.int64(1), np.int64(3), np.int64(0), np.int64(3), np.int64(4), np.int64(4), np.int64(3), np.int64(8), np.int64(9), np.int64(2), np.int64(3), np.int64(9), np.int64(7), np.int64(1), np.int64(1), np.int64(7), np.int64(0), np.int64(4), np.int64(9), np.int64(6), np.int64(5), np.int64(9), np.int64(1), np.int64(7), np.int64(0), np.int64(2), np.int64(0), np.int64(2), np.int64(4), np.int64(6), np.int64(7), np.int64(0), np.int64(7), np.int64(1), np.int64(4), np.int64(6), np.int64(4), np.int64(5), np.int64(4), np.int64(9), np.int64(9), np.int64(1), np.int64(7), np.int64(9), np.int64(5), np.int64(3), np.int64(3), np.int64(8), np.int64(2), np.int64(3), np.int64(6), np.int64(2), np.int64(2), np.int64(1), np.int64(1), np.int64(1), np.int64(1), np.int64(1), np.int64(6), np.int64(9), np.int64(8), np.int64(4), np.int64(3), np.int64(7), np.int64(1), np.int64(6), np.int64(4), np.int64(8), np.int64(0), np.int64(4), np.int64(7), np.int64(4), np.int64(2), np.int64(4), np.int64(0), np.int64(7), np.int64(0), np.int64(1), np.int64(9), np.int64(8), np.int64(8), np.int64(6), np.int64(0), np.int64(0), np.int64(4), np.int64(1), np.int64(6), np.int64(8), np.int64(2), np.int64(2), np.int64(3), np.int64(3), np.int64(4), np.int64(3), np.int64(2), np.int64(2), np.int64(4), np.int64(7), np.int64(5), np.int64(4), np.int64(4), np.int64(0), np.int64(4), np.int64(3), np.int64(4), np.int64(7), np.int64(9), np.int64(1), np.int64(0), np.int64(1), np.int64(2), np.int64(5), np.int64(4), np.int64(2), np.int64(1), np.int64(0), np.int64(1), np.int64(8), np.int64(9), np.int64(1), np.int64(4), np.int64(8), np.int64(3), np.int64(8), np.int64(4), np.int64(3), np.int64(6), np.int64(2), np.int64(8), np.int64(3), np.int64(2), np.int64(2), np.int64(1), np.int64(0), np.int64(4), np.int64(2), np.int64(9), np.int64(2), np.int64(4), np.int64(3), np.int64(7), np.int64(9), np.int64(1), np.int64(5), np.int64(2), np.int64(4), np.int64(9), np.int64(0), np.int64(3), np.int64(8), np.int64(5), np.int64(3), np.int64(6), np.int64(0), np.int64(9), np.int64(4), np.int64(6), np.int64(2), np.int64(5), np.int64(0), np.int64(0), np.int64(7), np.int64(4), np.int64(6), np.int64(6), np.int64(8), np.int64(6), np.int64(6), np.int64(8), np.int64(6), np.int64(9), np.int64(1), np.int64(7), np.int64(2), np.int64(5), np.int64(9), np.int64(9), np.int64(9), np.int64(7), np.int64(2), np.int64(7), np.int64(6), np.int64(7), np.int64(0), np.int64(6), np.int64(5), np.int64(4), np.int64(4), np.int64(7), np.int64(2), np.int64(0), np.int64(9), np.int64(9), np.int64(2), np.int64(2), np.int64(4), np.int64(4), np.int64(4), np.int64(2), np.int64(3), np.int64(3), np.int64(2), np.int64(1), np.int64(7), np.int64(0), np.int64(7), np.int64(6), np.int64(4), np.int64(1), np.int64(3), np.int64(8), np.int64(7), np.int64(9), np.int64(5), np.int64(9), np.int64(2), np.int64(5), np.int64(1), np.int64(8), np.int64(7), np.int64(3), np.int64(7), np.int64(1), np.int64(5), np.int64(3), np.int64(0), np.int64(9), np.int64(1), np.int64(4), np.int64(0), np.int64(6), np.int64(3), np.int64(3), np.int64(6), np.int64(0), np.int64(4), np.int64(9), np.int64(7), np.int64(5), np.int64(1), np.int64(6), np.int64(8), np.int64(9), np.int64(5), np.int64(5), np.int64(7), np.int64(9), np.int64(3), np.int64(8), np.int64(3), np.int64(8), np.int64(1), np.int64(5), np.int64(3), np.int64(5), np.int64(0), np.int64(5), np.int64(5), np.int64(3), np.int64(8), np.int64(6), np.int64(7), np.int64(7), np.int64(7), np.int64(3), np.int64(7), np.int64(0), np.int64(5), np.int64(9), np.int64(0), np.int64(2), np.int64(5), np.int64(5), np.int64(3), np.int64(1), np.int64(7), np.int64(7), np.int64(8), np.int64(6), np.int64(5), np.int64(9), np.int64(3), np.int64(8), np.int64(9), np.int64(5), np.int64(3), np.int64(7), np.int64(9), np.int64(1), np.int64(7), np.int64(0), np.int64(0), np.int64(3), np.int64(7), np.int64(2), np.int64(3), np.int64(2), np.int64(1), np.int64(8), np.int64(6), np.int64(2), np.int64(9), np.int64(5), np.int64(7), np.int64(5), np.int64(7), np.int64(8), np.int64(6), np.int64(2), np.int64(5), np.int64(1), np.int64(4), np.int64(8), np.int64(4), np.int64(5), np.int64(8), np.int64(3), np.int64(0), np.int64(6), np.int64(2), np.int64(7), np.int64(3), np.int64(3), np.int64(2), np.int64(1), np.int64(0), np.int64(7), np.int64(3), np.int64(4), np.int64(0), np.int64(3), np.int64(9), np.int64(3), np.int64(2), np.int64(8), np.int64(9), np.int64(0), np.int64(3), np.int64(8), np.int64(0), np.int64(7), np.int64(6), np.int64(5), np.int64(4), np.int64(7), np.int64(3), np.int64(5), np.int64(0), np.int64(8), np.int64(6), np.int64(2), np.int64(5), np.int64(1), np.int64(1), np.int64(0), np.int64(0), np.int64(4), np.int64(4), np.int64(0), np.int64(1), np.int64(2), np.int64(3), np.int64(2), np.int64(7), np.int64(7), np.int64(8), np.int64(5), np.int64(2), np.int64(5), np.int64(7), np.int64(6), np.int64(9), np.int64(1), np.int64(4), np.int64(1), np.int64(6), np.int64(4), np.int64(2), np.int64(4), np.int64(3), np.int64(5), np.int64(4), np.int64(3), np.int64(9), np.int64(5), np.int64(0), np.int64(1), np.int64(5), np.int64(3), np.int64(8), np.int64(9), np.int64(1), np.int64(9), np.int64(7), np.int64(9), np.int64(5), np.int64(5), np.int64(2), np.int64(7), np.int64(4), np.int64(6), np.int64(0), np.int64(1), np.int64(8), np.int64(1), np.int64(0), np.int64(4), np.int64(4), np.int64(7), np.int64(6), np.int64(3), np.int64(0), np.int64(0), np.int64(4), np.int64(3), np.int64(0), np.int64(6), np.int64(1), np.int64(4), np.int64(6), np.int64(1), np.int64(3), np.int64(8), np.int64(1), np.int64(2), np.int64(5), np.int64(6), np.int64(2), np.int64(4), np.int64(3), np.int64(6), np.int64(0), np.int64(1), np.int64(9), np.int64(7), np.int64(6), np.int64(6), np.int64(8), np.int64(9), np.int64(2), np.int64(9), np.int64(8), np.int64(8), np.int64(3), np.int64(1), np.int64(0), np.int64(0), np.int64(7), np.int64(6), np.int64(6), np.int64(2), np.int64(1), np.int64(6), np.int64(9), np.int64(3), np.int64(1), np.int64(8), np.int64(6), np.int64(4), np.int64(0), np.int64(6), np.int64(0), np.int64(0), np.int64(0), np.int64(6), np.int64(3), np.int64(5), np.int64(9), np.int64(3), np.int64(4), np.int64(5), np.int64(5), np.int64(8), np.int64(5), np.int64(3), np.int64(0), np.int64(4), np.int64(0), np.int64(2), np.int64(9), np.int64(6), np.int64(8), np.int64(2), np.int64(3), np.int64(1), np.int64(2), np.int64(1), np.int64(1), np.int64(5), np.int64(6), np.int64(9), np.int64(8), np.int64(0), np.int64(6), np.int64(6), np.int64(5), np.int64(5), np.int64(3), np.int64(8), np.int64(6), np.int64(2), np.int64(1), np.int64(4), np.int64(5), np.int64(4), np.int64(3), np.int64(7), np.int64(8), np.int64(3), np.int64(0), np.int64(9), np.int64(3), np.int64(5), np.int64(1), np.int64(1), np.int64(0), np.int64(4), np.int64(4), np.int64(7), np.int64(0), np.int64(1), np.int64(7), np.int64(0), np.int64(1), np.int64(6), np.int64(1), np.int64(4), np.int64(5), np.int64(6), np.int64(6), np.int64(5), np.int64(7), np.int64(8), np.int64(4), np.int64(4), np.int64(7), np.int64(2), np.int64(5), np.int64(3), np.int64(7), np.int64(0), np.int64(7), np.int64(7), np.int64(9), np.int64(6), np.int64(4), np.int64(2), np.int64(8), np.int64(3), np.int64(7), np.int64(8), np.int64(3), np.int64(9), np.int64(5), np.int64(8), np.int64(9), np.int64(9), np.int64(8), np.int64(6), np.int64(2), np.int64(8), np.int64(4), np.int64(2), np.int64(3), np.int64(4), np.int64(1), np.int64(1), np.int64(8), np.int64(9), np.int64(3), np.int64(4), np.int64(0), np.int64(7), np.int64(9), np.int64(6), np.int64(4), np.int64(1), np.int64(4), np.int64(1), np.int64(3), np.int64(4), np.int64(9), np.int64(3), np.int64(1), np.int64(4), np.int64(7), np.int64(7), np.int64(4), np.int64(7), np.int64(2), np.int64(9), np.int64(3), np.int64(0), np.int64(8), np.int64(0), np.int64(8), np.int64(4), np.int64(0), np.int64(4), np.int64(4), np.int64(1), np.int64(5), np.int64(2), np.int64(8), np.int64(3), np.int64(4), np.int64(9), np.int64(5), np.int64(2), np.int64(8), np.int64(1), np.int64(5), np.int64(3), np.int64(7), np.int64(9), np.int64(4), np.int64(2), np.int64(5), np.int64(6), np.int64(3), np.int64(5), np.int64(9), np.int64(3), np.int64(5), np.int64(9), np.int64(2), np.int64(1), np.int64(9), np.int64(3), np.int64(3), np.int64(0), np.int64(6), np.int64(9), np.int64(8), np.int64(4), np.int64(0), np.int64(4), np.int64(7), np.int64(2), np.int64(9), np.int64(0), np.int64(1), np.int64(0), np.int64(3), np.int64(1), np.int64(6), np.int64(5), np.int64(8), np.int64(1), np.int64(5), np.int64(3), np.int64(5), np.int64(0), np.int64(3), np.int64(5), np.int64(5), np.int64(9), np.int64(2), np.int64(8), np.int64(7), np.int64(0), np.int64(4), np.int64(9), np.int64(1), np.int64(9), np.int64(7), np.int64(7), np.int64(5), np.int64(5), np.int64(2), np.int64(0), np.int64(9), np.int64(1), np.int64(8), np.int64(6), np.int64(2), np.int64(3), np.int64(9), np.int64(6), np.int64(2), np.int64(1), np.int64(9), np.int64(1), np.int64(3), np.int64(5), np.int64(5), np.int64(0), np.int64(3), np.int64(8), np.int64(3), np.int64(3), np.int64(7), np.int64(6), np.int64(6), np.int64(0), np.int64(1), np.int64(4), np.int64(0), np.int64(6), np.int64(9), np.int64(8), np.int64(1), np.int64(2), np.int64(9), np.int64(9), np.int64(5), np.int64(9), np.int64(7), np.int64(3), np.int64(7), np.int64(9), np.int64(0), np.int64(1), np.int64(3), np.int64(0), np.int64(4), np.int64(6), np.int64(1), np.int64(0), np.int64(2), np.int64(5), np.int64(8), np.int64(4), np.int64(4), np.int64(1), np.int64(1), np.int64(5), np.int64(4), np.int64(6), np.int64(6), np.int64(0), np.int64(6), np.int64(9), np.int64(2), np.int64(6), np.int64(2), np.int64(7), np.int64(1), np.int64(7), np.int64(9), np.int64(4), np.int64(0), np.int64(0), np.int64(3), np.int64(8), np.int64(2), np.int64(2), np.int64(3), np.int64(1), np.int64(6), np.int64(0), np.int64(5), np.int64(7), np.int64(7), np.int64(9), np.int64(2), np.int64(6), np.int64(7), np.int64(9), np.int64(7), np.int64(3), np.int64(6), np.int64(8), np.int64(8), np.int64(4), np.int64(6), np.int64(8), np.int64(4), np.int64(1), np.int64(2), np.int64(8), np.int64(2), np.int64(3), np.int64(9), np.int64(4), np.int64(0), np.int64(3), np.int64(7), np.int64(3), np.int64(2), np.int64(3), np.int64(3), np.int64(7), np.int64(3), np.int64(4), np.int64(0), np.int64(6), np.int64(2), np.int64(0), np.int64(8), np.int64(1), np.int64(5), np.int64(3), np.int64(5), np.int64(4), np.int64(1), np.int64(7), np.int64(1), np.int64(5), np.int64(7), np.int64(5), np.int64(7), np.int64(3), np.int64(2), np.int64(2), np.int64(7), np.int64(3), np.int64(7), np.int64(3), np.int64(7), np.int64(8), np.int64(5), np.int64(4), np.int64(5), np.int64(2), np.int64(9), np.int64(6), np.int64(5), np.int64(3), np.int64(6), np.int64(7), np.int64(4), np.int64(1), np.int64(7), np.int64(1), np.int64(5), np.int64(2), np.int64(3), np.int64(6), np.int64(3), np.int64(2), np.int64(4), np.int64(2), np.int64(6), np.int64(7), np.int64(4), np.int64(3), np.int64(8), np.int64(0), np.int64(6), np.int64(2), np.int64(1), np.int64(6), np.int64(5), np.int64(3), np.int64(9), np.int64(1), np.int64(9), np.int64(3), np.int64(2), np.int64(1), np.int64(8), np.int64(4), np.int64(4), np.int64(6), np.int64(5), np.int64(8), np.int64(6), np.int64(4), np.int64(7), np.int64(7), np.int64(8), np.int64(6), np.int64(9), np.int64(7), np.int64(3), np.int64(9), np.int64(4), np.int64(0), np.int64(5), np.int64(4), np.int64(6), np.int64(4), np.int64(1), np.int64(2), np.int64(3), np.int64(0), np.int64(0), np.int64(2), np.int64(6), np.int64(6), np.int64(5), np.int64(7), np.int64(0), np.int64(8), np.int64(6), np.int64(4), np.int64(7), np.int64(9), np.int64(0), np.int64(7), np.int64(3), np.int64(4), np.int64(2), np.int64(1), np.int64(8), np.int64(8), np.int64(5), np.int64(9), np.int64(2), np.int64(7), np.int64(1), np.int64(8), np.int64(8), np.int64(8), np.int64(2), np.int64(7), np.int64(6), np.int64(0), np.int64(1), np.int64(2), np.int64(7), np.int64(1), np.int64(0), np.int64(8), np.int64(3), np.int64(6), np.int64(0), np.int64(5), np.int64(3), np.int64(6), np.int64(2), np.int64(8), np.int64(9), np.int64(0), np.int64(1), np.int64(4), np.int64(2), np.int64(1), np.int64(1), np.int64(4), np.int64(4), np.int64(4), np.int64(4), np.int64(7), np.int64(1), np.int64(6), np.int64(2), np.int64(9), np.int64(9), np.int64(0), np.int64(0), np.int64(1), np.int64(8), np.int64(8), np.int64(4), np.int64(3), np.int64(4), np.int64(2), np.int64(9), np.int64(6), np.int64(1), np.int64(6), np.int64(1), np.int64(2), np.int64(2), np.int64(2), np.int64(1), np.int64(2), np.int64(3), np.int64(7), np.int64(8), np.int64(1), np.int64(0), np.int64(0), np.int64(2), np.int64(1), np.int64(6), np.int64(6), np.int64(0), np.int64(1), np.int64(6), np.int64(2), np.int64(5), np.int64(1), np.int64(7), np.int64(4), np.int64(8), np.int64(2), np.int64(1), np.int64(4), np.int64(3), np.int64(8), np.int64(3), np.int64(9), np.int64(9), np.int64(4), np.int64(9), np.int64(3), np.int64(4), np.int64(7), np.int64(2), np.int64(7), np.int64(5), np.int64(7), np.int64(0), np.int64(4), np.int64(3), np.int64(3), np.int64(2), np.int64(4), np.int64(7), np.int64(6), np.int64(0), np.int64(0), np.int64(6), np.int64(7), np.int64(7), np.int64(0), np.int64(5), np.int64(5), np.int64(8), np.int64(1), np.int64(0), np.int64(7), np.int64(0), np.int64(2), np.int64(8), np.int64(1), np.int64(5), np.int64(0), np.int64(8), np.int64(8), np.int64(0), np.int64(3), np.int64(2), np.int64(7), np.int64(7), np.int64(2), np.int64(6), np.int64(4), np.int64(7), np.int64(5), np.int64(5), np.int64(9), np.int64(2), np.int64(9), np.int64(2), np.int64(8), np.int64(4), np.int64(6), np.int64(8), np.int64(6), np.int64(5), np.int64(0), np.int64(0), np.int64(8), np.int64(7), np.int64(6), np.int64(1), np.int64(7), np.int64(1), np.int64(1), np.int64(2), np.int64(7), np.int64(4), np.int64(0), np.int64(0), np.int64(7), np.int64(7), np.int64(6), np.int64(3), np.int64(8), np.int64(6), np.int64(4), np.int64(2), np.int64(0), np.int64(9), np.int64(4), np.int64(0), np.int64(5), np.int64(7), np.int64(8), np.int64(2), np.int64(7), np.int64(4), np.int64(7), np.int64(1), np.int64(1), np.int64(3), np.int64(6), np.int64(6), np.int64(2), np.int64(9), np.int64(1), np.int64(9), np.int64(4), np.int64(8), np.int64(3), np.int64(6), np.int64(9), np.int64(5), np.int64(9), np.int64(6), np.int64(2), np.int64(4), np.int64(6), np.int64(7), np.int64(7), np.int64(0), np.int64(6), np.int64(6), np.int64(9), np.int64(4), np.int64(8), np.int64(3), np.int64(3), np.int64(3), np.int64(4), np.int64(9), np.int64(0), np.int64(0), np.int64(5), np.int64(2), np.int64(5), np.int64(0), np.int64(7), np.int64(1), np.int64(1), np.int64(1), np.int64(0), np.int64(7), np.int64(6), np.int64(7), np.int64(9), np.int64(6), np.int64(6), np.int64(4), np.int64(1), np.int64(4), np.int64(3), np.int64(1), np.int64(1), np.int64(2), np.int64(2), np.int64(4), np.int64(1), np.int64(0), np.int64(8), np.int64(7), np.int64(6), np.int64(3), np.int64(4), np.int64(0), np.int64(9), np.int64(6), np.int64(3), np.int64(3), np.int64(0), np.int64(9), np.int64(1), np.int64(7), np.int64(1), np.int64(1), np.int64(3), np.int64(1), np.int64(0), np.int64(9), np.int64(9), np.int64(7), np.int64(5), np.int64(4), np.int64(1), np.int64(4), np.int64(8), np.int64(9), np.int64(5), np.int64(3), np.int64(5), np.int64(1), np.int64(9), np.int64(8), np.int64(2), np.int64(7), np.int64(3), np.int64(9), np.int64(9), np.int64(0), np.int64(1), np.int64(0), np.int64(2), np.int64(9), np.int64(3), np.int64(9), np.int64(3), np.int64(3), np.int64(6), np.int64(2), np.int64(4), np.int64(9), np.int64(8), np.int64(3), np.int64(7), np.int64(4), np.int64(0), np.int64(4), np.int64(7), np.int64(8), np.int64(4), np.int64(9), np.int64(8), np.int64(1), np.int64(9), np.int64(7), np.int64(5), np.int64(9), np.int64(2), np.int64(8), np.int64(2), np.int64(2), np.int64(0), np.int64(2), np.int64(2), np.int64(3), np.int64(8), np.int64(4), np.int64(6), np.int64(8), np.int64(4), np.int64(8), np.int64(2), np.int64(4), np.int64(6), np.int64(7), np.int64(9), np.int64(3), np.int64(3), np.int64(9), np.int64(4), np.int64(3), np.int64(1), np.int64(9), np.int64(4), np.int64(7), np.int64(9), np.int64(5), np.int64(9), np.int64(6), np.int64(0), np.int64(4), np.int64(4), np.int64(4), np.int64(4), np.int64(6), np.int64(1), np.int64(2), np.int64(3), np.int64(3), np.int64(6), np.int64(4), np.int64(5), np.int64(9), np.int64(6), np.int64(8), np.int64(5), np.int64(6), np.int64(0), np.int64(5), np.int64(6), np.int64(4), np.int64(1), np.int64(8), np.int64(6), np.int64(8), np.int64(2), np.int64(5), np.int64(4), np.int64(5), np.int64(5), np.int64(4), np.int64(7), np.int64(7), np.int64(0), np.int64(8), np.int64(8), np.int64(2), np.int64(2), np.int64(3), np.int64(7), np.int64(9), np.int64(1), np.int64(8), np.int64(0), np.int64(7), np.int64(1), np.int64(9), np.int64(8), np.int64(7), np.int64(5), np.int64(5), np.int64(9), np.int64(1), np.int64(7), np.int64(5), np.int64(4), np.int64(9), np.int64(1), np.int64(2), np.int64(2), np.int64(1), np.int64(6), np.int64(6), np.int64(0), np.int64(1), np.int64(1), np.int64(4), np.int64(0), np.int64(7), np.int64(4), np.int64(2), np.int64(4), np.int64(0), np.int64(6), np.int64(4), np.int64(7), np.int64(6), np.int64(9), np.int64(5), np.int64(3), np.int64(4), np.int64(6), np.int64(5), np.int64(0), np.int64(1), np.int64(8), np.int64(8), np.int64(2), np.int64(3), np.int64(3), np.int64(5), np.int64(7), np.int64(8), np.int64(0), np.int64(6), np.int64(5), np.int64(7), np.int64(1), np.int64(1), np.int64(9), np.int64(1), np.int64(3), np.int64(7), np.int64(8), np.int64(5), np.int64(0), np.int64(7), np.int64(1), np.int64(1), np.int64(0), np.int64(1), np.int64(1), np.int64(4), np.int64(5), np.int64(2), np.int64(7), np.int64(6), np.int64(2), np.int64(3), np.int64(0), np.int64(2), np.int64(0), np.int64(5), np.int64(4), np.int64(6), np.int64(9), np.int64(7), np.int64(2), np.int64(1), np.int64(3), np.int64(6), np.int64(4), np.int64(1), np.int64(8), np.int64(2), np.int64(4), np.int64(0), np.int64(5), np.int64(1), np.int64(0), np.int64(2), np.int64(2), np.int64(6), np.int64(4), np.int64(4), np.int64(3), np.int64(9), np.int64(6), np.int64(1), np.int64(6), np.int64(5), np.int64(7), np.int64(9), np.int64(2), np.int64(0), np.int64(2), np.int64(6), np.int64(0), np.int64(1), np.int64(4), np.int64(3), np.int64(5), np.int64(2), np.int64(8), np.int64(8), np.int64(0), np.int64(8), np.int64(8), np.int64(9), np.int64(9), np.int64(9), np.int64(6), np.int64(7), np.int64(6), np.int64(3), np.int64(9), np.int64(3), np.int64(4), np.int64(7), np.int64(7), np.int64(7), np.int64(4), np.int64(9), np.int64(0), np.int64(6), np.int64(4), np.int64(8), np.int64(4), np.int64(2), np.int64(7), np.int64(2), np.int64(8), np.int64(1), np.int64(0), np.int64(0), np.int64(7), np.int64(8), np.int64(3), np.int64(3), np.int64(3), np.int64(1), np.int64(3), np.int64(7), np.int64(6), np.int64(1), np.int64(3), np.int64(1), np.int64(6), np.int64(6), np.int64(5), np.int64(7), np.int64(4), np.int64(7), np.int64(5), np.int64(9), np.int64(5), np.int64(3), np.int64(4), np.int64(9), np.int64(9), np.int64(1), np.int64(6), np.int64(5), np.int64(0), np.int64(1), np.int64(3), np.int64(7), np.int64(0), np.int64(3), np.int64(4), np.int64(8), np.int64(2), np.int64(2), np.int64(0), np.int64(2), np.int64(5), np.int64(1), np.int64(5), np.int64(1), np.int64(4), np.int64(8), np.int64(8), np.int64(9), np.int64(1), np.int64(2), np.int64(1), np.int64(3), np.int64(5), np.int64(1), np.int64(0), np.int64(9), np.int64(4), np.int64(4), np.int64(8), np.int64(3), np.int64(8), np.int64(5), np.int64(9), np.int64(7), np.int64(6), np.int64(6), np.int64(2), np.int64(0), np.int64(0), np.int64(0), np.int64(5), np.int64(8), np.int64(3), np.int64(1), np.int64(5), np.int64(3), np.int64(3), np.int64(8), np.int64(5), np.int64(1), np.int64(8), np.int64(2), np.int64(0), np.int64(4), np.int64(9), np.int64(9), np.int64(6), np.int64(2), np.int64(3), np.int64(3), np.int64(5), np.int64(6), np.int64(4), np.int64(8), np.int64(0), np.int64(9), np.int64(2), np.int64(8), np.int64(3), np.int64(6), np.int64(7), np.int64(5), np.int64(1), np.int64(2), np.int64(9), np.int64(4), np.int64(9), np.int64(1), np.int64(2), np.int64(8), np.int64(6), np.int64(0), np.int64(7), np.int64(0), np.int64(9), np.int64(1), np.int64(1), np.int64(5), np.int64(7), np.int64(5), np.int64(9), np.int64(9), np.int64(1), np.int64(9), np.int64(5), np.int64(9), np.int64(2), np.int64(5), np.int64(0), np.int64(4), np.int64(1), np.int64(0), np.int64(8), np.int64(4), np.int64(0), np.int64(8), np.int64(9), np.int64(8), np.int64(9), np.int64(4), np.int64(2), np.int64(5), np.int64(7), np.int64(9), np.int64(8), np.int64(9), np.int64(8), np.int64(0), np.int64(9), np.int64(9), np.int64(6), np.int64(8), np.int64(9), np.int64(9), np.int64(5), np.int64(9), np.int64(8), np.int64(6), np.int64(1), np.int64(0), np.int64(3), np.int64(3), np.int64(5), np.int64(2), np.int64(1), np.int64(6), np.int64(3), np.int64(0), np.int64(2), np.int64(8), np.int64(2), np.int64(5), np.int64(6), np.int64(2), np.int64(3), np.int64(0), np.int64(2), np.int64(2), np.int64(6), np.int64(4), np.int64(3), np.int64(5), np.int64(5), np.int64(1), np.int64(7), np.int64(2), np.int64(1), np.int64(6), np.int64(9), np.int64(1), np.int64(3), np.int64(9), np.int64(5), np.int64(5), np.int64(1), np.int64(6), np.int64(2), np.int64(2), np.int64(8), np.int64(6), np.int64(7), np.int64(1), np.int64(4), np.int64(6), np.int64(0), np.int64(4), np.int64(0), np.int64(5), np.int64(3), np.int64(2), np.int64(2), np.int64(3), np.int64(6), np.int64(8), np.int64(9), np.int64(8), np.int64(5), np.int64(3), np.int64(8), np.int64(5), np.int64(4), np.int64(5), np.int64(2), np.int64(0), np.int64(5), np.int64(6), np.int64(3), np.int64(2), np.int64(8), np.int64(3), np.int64(9), np.int64(9), np.int64(5), np.int64(7), np.int64(9), np.int64(4), np.int64(6), np.int64(7), np.int64(1), np.int64(3), np.int64(7), np.int64(3), np.int64(6), np.int64(6), np.int64(0), np.int64(9), np.int64(0), np.int64(1), np.int64(9), np.int64(4), np.int64(2), np.int64(8), np.int64(5), np.int64(0), np.int64(1), np.int64(6), np.int64(9), np.int64(7), np.int64(5), np.int64(3), np.int64(4), np.int64(7), np.int64(4), np.int64(9), np.int64(9), np.int64(4), np.int64(3), np.int64(6), np.int64(3), np.int64(1), np.int64(1), np.int64(4), np.int64(6), np.int64(9), np.int64(1), np.int64(8), np.int64(4), np.int64(1), np.int64(1), np.int64(9), np.int64(9), np.int64(4), np.int64(3), np.int64(6), np.int64(8), np.int64(1), np.int64(6), np.int64(0), np.int64(4), np.int64(1), np.int64(3), np.int64(7), np.int64(7), np.int64(4), np.int64(9), np.int64(5), np.int64(1), np.int64(0), np.int64(0), np.int64(1), np.int64(1), np.int64(6), np.int64(2), np.int64(1), np.int64(9), np.int64(8), np.int64(4), np.int64(0), np.int64(3), np.int64(6), np.int64(4), np.int64(9), np.int64(0), np.int64(7), np.int64(1), np.int64(6), np.int64(5), np.int64(7), np.int64(5), np.int64(2), np.int64(5), np.int64(1), np.int64(8), np.int64(5), np.int64(4), np.int64(7), np.int64(0), np.int64(6), np.int64(7), np.int64(8), np.int64(2), np.int64(5), np.int64(8), np.int64(1), np.int64(0), np.int64(4), np.int64(5), np.int64(7), np.int64(1), np.int64(0), np.int64(5), np.int64(1), np.int64(9), np.int64(0), np.int64(0), np.int64(6), np.int64(0), np.int64(7), np.int64(3), np.int64(1), np.int64(8), np.int64(3), np.int64(9), np.int64(7), np.int64(0), np.int64(0), np.int64(8), np.int64(4), np.int64(5), np.int64(9), np.int64(8), np.int64(3), np.int64(2), np.int64(7), np.int64(2), np.int64(9), np.int64(7), np.int64(2), np.int64(1), np.int64(1), np.int64(3), np.int64(7), np.int64(5), np.int64(3), np.int64(1), np.int64(9), np.int64(8), np.int64(2), np.int64(2), np.int64(2), np.int64(8), np.int64(8), np.int64(5), np.int64(7), np.int64(3), np.int64(8), np.int64(9), np.int64(8), np.int64(8), np.int64(6), np.int64(8), np.int64(2), np.int64(3), np.int64(9), np.int64(7), np.int64(5), np.int64(6), np.int64(2), np.int64(9), np.int64(2), np.int64(8), np.int64(4), np.int64(1), np.int64(4), np.int64(9), np.int64(8), np.int64(9), np.int64(9), np.int64(1), np.int64(0), np.int64(0), np.int64(1), np.int64(7), np.int64(2), np.int64(0), np.int64(9), np.int64(5), np.int64(1), np.int64(9), np.int64(0), np.int64(3), np.int64(0), np.int64(9), np.int64(8), np.int64(6), np.int64(2), np.int64(3), np.int64(9), np.int64(3), np.int64(8), np.int64(0), np.int64(2), np.int64(1), np.int64(1), np.int64(1), np.int64(1), np.int64(4), np.int64(2), np.int64(9), np.int64(7), np.int64(7), np.int64(5), np.int64(1), np.int64(1), np.int64(2), np.int64(1), np.int64(9), np.int64(9), np.int64(9), np.int64(1), np.int64(0), np.int64(2), np.int64(0), np.int64(2), np.int64(1), np.int64(1), np.int64(4), np.int64(6), np.int64(4), np.int64(1), np.int64(5), np.int64(4), np.int64(9), np.int64(9), np.int64(7), np.int64(7), np.int64(5), np.int64(6), np.int64(2), np.int64(2), np.int64(2), np.int64(2), np.int64(0), np.int64(6), np.int64(9), np.int64(6), np.int64(1), np.int64(9), np.int64(7), np.int64(7), np.int64(1), np.int64(4), np.int64(8), np.int64(5), np.int64(3), np.int64(4), np.int64(3), np.int64(4), np.int64(7), np.int64(7), np.int64(5), np.int64(0), np.int64(7), np.int64(4), np.int64(8), np.int64(8), np.int64(1), np.int64(5), np.int64(3), np.int64(9), np.int64(5), np.int64(9), np.int64(7), np.int64(6), np.int64(9), np.int64(0), np.int64(3), np.int64(6), np.int64(3), np.int64(9), np.int64(8), np.int64(2), np.int64(4), np.int64(1), np.int64(2), np.int64(8), np.int64(6), np.int64(8), np.int64(5), np.int64(5), np.int64(3), np.int64(9), np.int64(4), np.int64(9), np.int64(2), np.int64(5), np.int64(1), np.int64(5), np.int64(1), np.int64(4), np.int64(4), np.int64(1), np.int64(4), np.int64(4), np.int64(3), np.int64(5), np.int64(9), np.int64(1), np.int64(2), np.int64(2), np.int64(3), np.int64(3), np.int64(0), np.int64(2), np.int64(9), np.int64(0), np.int64(0), np.int64(9), np.int64(9), np.int64(6), np.int64(0), np.int64(9), np.int64(3), np.int64(7), np.int64(8), np.int64(4), np.int64(1), np.int64(9), np.int64(9), np.int64(7), np.int64(2), np.int64(7), np.int64(9), np.int64(9), np.int64(5), np.int64(9), np.int64(5), np.int64(1), np.int64(1), np.int64(8), np.int64(7), np.int64(5), np.int64(1), np.int64(9), np.int64(5), np.int64(3), np.int64(5), np.int64(4), np.int64(9), np.int64(5), np.int64(9), np.int64(3), np.int64(1), np.int64(9), np.int64(0), np.int64(9), np.int64(7), np.int64(5), np.int64(4), np.int64(9), np.int64(2), np.int64(0), np.int64(1), np.int64(0), np.int64(5), np.int64(1), np.int64(4), np.int64(9), np.int64(3), np.int64(3), np.int64(6), np.int64(1), np.int64(5), np.int64(2), np.int64(5), np.int64(2), np.int64(2), np.int64(0), np.int64(9), np.int64(2), np.int64(6), np.int64(6), np.int64(0), np.int64(1), np.int64(2), np.int64(0), np.int64(3), np.int64(0), np.int64(2), np.int64(5), np.int64(5), np.int64(7), np.int64(9), np.int64(5), np.int64(3), np.int64(0), np.int64(8), np.int64(9), np.int64(5), np.int64(0), np.int64(3), np.int64(2), np.int64(5), np.int64(4), np.int64(0), np.int64(8), np.int64(8), np.int64(4), np.int64(5), np.int64(8), np.int64(8), np.int64(4), np.int64(5), np.int64(4), np.int64(8), np.int64(5), np.int64(4), np.int64(9), np.int64(2), np.int64(2), np.int64(1), np.int64(2), np.int64(6), np.int64(8), np.int64(8), np.int64(7), np.int64(0), np.int64(3), np.int64(6), np.int64(6), np.int64(4), np.int64(3), np.int64(8), np.int64(8), np.int64(4), np.int64(2), np.int64(2), np.int64(0), np.int64(0), np.int64(4), np.int64(3), np.int64(9), np.int64(9), np.int64(1), np.int64(9), np.int64(8), np.int64(6), np.int64(6), np.int64(4), np.int64(2), np.int64(6), np.int64(9), np.int64(2), np.int64(8), np.int64(5), np.int64(4), np.int64(5), np.int64(7), np.int64(9), np.int64(4), np.int64(9), np.int64(2), np.int64(1), np.int64(8), np.int64(3), np.int64(4), np.int64(0), np.int64(3), np.int64(8), np.int64(3), np.int64(9), np.int64(3), np.int64(4), np.int64(6), np.int64(5), np.int64(6), np.int64(2), np.int64(3), np.int64(9), np.int64(2), np.int64(6), np.int64(0), np.int64(0), np.int64(6), np.int64(1), np.int64(2), np.int64(8), np.int64(7), np.int64(9), np.int64(8), np.int64(2), np.int64(0), np.int64(4), np.int64(7), np.int64(7), np.int64(5), np.int64(0), np.int64(5), np.int64(6), np.int64(4), np.int64(6), np.int64(7), np.int64(4), np.int64(3), np.int64(0), np.int64(7), np.int64(5), np.int64(0), np.int64(7), np.int64(4), np.int64(2), np.int64(0), np.int64(8), np.int64(9), np.int64(9), np.int64(4), np.int64(2), np.int64(4), np.int64(6), np.int64(7), np.int64(8), np.int64(7), np.int64(6), np.int64(9), np.int64(4), np.int64(1), np.int64(3), np.int64(7), np.int64(3), np.int64(0), np.int64(8), np.int64(8), np.int64(7), np.int64(6), np.int64(9), np.int64(3), np.int64(9), np.int64(2), np.int64(2), np.int64(9), np.int64(2), np.int64(1), np.int64(8), np.int64(3), np.int64(2), np.int64(9), np.int64(6), np.int64(8), np.int64(4), np.int64(9), np.int64(1), np.int64(2), np.int64(8), np.int64(4), np.int64(5), np.int64(2), np.int64(7), np.int64(8), np.int64(1), np.int64(1), np.int64(3), np.int64(0), np.int64(3), np.int64(5), np.int64(7), np.int64(0), np.int64(3), np.int64(1), np.int64(9), np.int64(3), np.int64(5), np.int64(3), np.int64(1), np.int64(7), np.int64(7), np.int64(3), np.int64(0), np.int64(8), np.int64(4), np.int64(8), np.int64(2), np.int64(2), np.int64(5), np.int64(2), np.int64(9), np.int64(7), np.int64(3), np.int64(9), np.int64(9), np.int64(9), np.int64(9), np.int64(6), np.int64(4), np.int64(2), np.int64(9), np.int64(7), np.int64(2), np.int64(1), np.int64(1), np.int64(6), np.int64(7), np.int64(4), np.int64(7), np.int64(5), np.int64(9), np.int64(6), np.int64(8), np.int64(2), np.int64(1), np.int64(9), np.int64(4), np.int64(5), np.int64(7), np.int64(6), np.int64(1), np.int64(3), np.int64(2), np.int64(5), np.int64(9), np.int64(9), np.int64(3), np.int64(6), np.int64(1), np.int64(1), np.int64(4), np.int64(6), np.int64(9), np.int64(7), np.int64(2), np.int64(1), np.int64(5), np.int64(1), np.int64(4), np.int64(6), np.int64(3), np.int64(4), np.int64(1), np.int64(1), np.int64(0), np.int64(3), np.int64(1), np.int64(6), np.int64(8), np.int64(4), np.int64(9), np.int64(0), np.int64(7), np.int64(3), np.int64(0), np.int64(4), np.int64(9), np.int64(0), np.int64(6), np.int64(6), np.int64(6), np.int64(3), np.int64(6), np.int64(7), np.int64(7), np.int64(2), np.int64(8), np.int64(6), np.int64(0), np.int64(8), np.int64(3), np.int64(0), np.int64(2), np.int64(4), np.int64(8), np.int64(3), np.int64(2), np.int64(5), np.int64(3), np.int64(8), np.int64(8), np.int64(0), np.int64(0), np.int64(4), np.int64(9), np.int64(5), np.int64(1), np.int64(3), np.int64(9), np.int64(6), np.int64(0), np.int64(1), np.int64(4), np.int64(1), np.int64(7), np.int64(1), np.int64(2), np.int64(3), np.int64(7), np.int64(9), np.int64(7), np.int64(4), np.int64(9), np.int64(9), np.int64(3), np.int64(9), np.int64(2), np.int64(8), np.int64(2), np.int64(7), np.int64(1), np.int64(8), np.int64(0), np.int64(9), np.int64(1), np.int64(0), np.int64(1), np.int64(7), np.int64(7), np.int64(9), np.int64(6), np.int64(9), np.int64(9), np.int64(9), np.int64(2), np.int64(1), np.int64(6), np.int64(1), np.int64(3), np.int64(5), np.int64(2), np.int64(1), np.int64(9), np.int64(7), np.int64(6), np.int64(4), np.int64(5), np.int64(7), np.int64(6), np.int64(6), np.int64(9), np.int64(9), np.int64(6), np.int64(3), np.int64(6), np.int64(2), np.int64(9), np.int64(8), np.int64(1), np.int64(2), np.int64(2), np.int64(5), np.int64(5), np.int64(2), np.int64(3), np.int64(7), np.int64(2), np.int64(1), np.int64(0), np.int64(1), np.int64(0), np.int64(4), np.int64(5), np.int64(3), np.int64(8), np.int64(2), np.int64(8), np.int64(3), np.int64(5), np.int64(1), np.int64(7), np.int64(7), np.int64(1), np.int64(1), np.int64(2), np.int64(9), np.int64(7), np.int64(8), np.int64(4), np.int64(0), np.int64(5), np.int64(0), np.int64(7), np.int64(8), np.int64(8), np.int64(4), np.int64(7), np.int64(7), np.int64(8), np.int64(5), np.int64(8), np.int64(4), np.int64(9), np.int64(8), np.int64(1), np.int64(3), np.int64(8), np.int64(9), np.int64(3), np.int64(1), np.int64(7), np.int64(9), np.int64(5), np.int64(5), np.int64(1), np.int64(6), np.int64(5), np.int64(7), np.int64(4), np.int64(9), np.int64(3), np.int64(5), np.int64(4), np.int64(7), np.int64(1), np.int64(2), np.int64(0), np.int64(8), np.int64(1), np.int64(6), np.int64(0), np.int64(7), np.int64(3), np.int64(4), np.int64(7), np.int64(3), np.int64(9), np.int64(6), np.int64(0), np.int64(8), np.int64(6), np.int64(4), np.int64(8), np.int64(7), np.int64(7), np.int64(9), np.int64(3), np.int64(8), np.int64(6), np.int64(9), np.int64(7), np.int64(2), np.int64(3), np.int64(4), np.int64(0), np.int64(2), np.int64(1), np.int64(3), np.int64(5), np.int64(5), np.int64(5), np.int64(7), np.int64(2), np.int64(4), np.int64(7), np.int64(7), np.int64(2), np.int64(8), np.int64(3), np.int64(0), np.int64(8), np.int64(7), np.int64(8), np.int64(4), np.int64(0), np.int64(8), np.int64(4), np.int64(4), np.int64(5), np.int64(8), np.int64(5), np.int64(6), np.int64(6), np.int64(3), np.int64(0), np.int64(9), np.int64(3), np.int64(7), np.int64(6), np.int64(8), np.int64(9), np.int64(3), np.int64(4), np.int64(9), np.int64(5), np.int64(8), np.int64(9), np.int64(1), np.int64(2), np.int64(8), np.int64(8), np.int64(6), np.int64(8), np.int64(1), np.int64(3), np.int64(7), np.int64(9), np.int64(0), np.int64(1), np.int64(1), np.int64(4), np.int64(7), np.int64(0), np.int64(8), np.int64(1), np.int64(7), np.int64(4), np.int64(5), np.int64(7), np.int64(1), np.int64(2), np.int64(1), np.int64(1), np.int64(3), np.int64(9), np.int64(6), np.int64(4), np.int64(1), np.int64(2), np.int64(8), np.int64(8), np.int64(7), np.int64(6), np.int64(6), np.int64(9), np.int64(3), np.int64(7), np.int64(0), np.int64(5), np.int64(2), np.int64(3), np.int64(0), np.int64(5), np.int64(4), np.int64(3), np.int64(8), np.int64(4), np.int64(6), np.int64(6), np.int64(2), np.int64(7), np.int64(9), np.int64(5), np.int64(1), np.int64(3), np.int64(2), np.int64(4), np.int64(3), np.int64(6), np.int64(1), np.int64(9), np.int64(4), np.int64(4), np.int64(7), np.int64(6), np.int64(5), np.int64(4), np.int64(1), np.int64(9), np.int64(9), np.int64(2), np.int64(7), np.int64(8), np.int64(0), np.int64(1), np.int64(3), np.int64(6), np.int64(1), np.int64(3), np.int64(4), np.int64(1), np.int64(1), np.int64(1), np.int64(5), np.int64(6), np.int64(0), np.int64(7), np.int64(0), np.int64(7), np.int64(2), np.int64(3), np.int64(2), np.int64(5), np.int64(2), np.int64(2), np.int64(9), np.int64(4), np.int64(9), np.int64(8), np.int64(1), np.int64(2), np.int64(1), np.int64(6), np.int64(1), np.int64(2), np.int64(7), np.int64(4), np.int64(0), np.int64(0), np.int64(0), np.int64(8), np.int64(2), np.int64(2), np.int64(9), np.int64(2), np.int64(2), np.int64(4), np.int64(9), np.int64(9), np.int64(2), np.int64(7), np.int64(5), np.int64(1), np.int64(3), np.int64(4), np.int64(9), np.int64(4), np.int64(1), np.int64(9), np.int64(5), np.int64(6), np.int64(2), np.int64(8), np.int64(3), np.int64(1), np.int64(2), np.int64(8), np.int64(4), np.int64(9), np.int64(9), np.int64(3), np.int64(7), np.int64(0), np.int64(7), np.int64(7), np.int64(2), np.int64(3), np.int64(2), np.int64(4), np.int64(0), np.int64(3), np.int64(9), np.int64(9), np.int64(8), np.int64(4), np.int64(1), np.int64(0), np.int64(6), np.int64(0), np.int64(9), np.int64(6), np.int64(8), np.int64(6), np.int64(1), np.int64(1), np.int64(9), np.int64(8), np.int64(9), np.int64(2), np.int64(3), np.int64(5), np.int64(5), np.int64(9), np.int64(4), np.int64(2), np.int64(1), np.int64(9), np.int64(4), np.int64(3), np.int64(9), np.int64(6), np.int64(0), np.int64(4), np.int64(0), np.int64(6), np.int64(0), np.int64(1), np.int64(2), np.int64(3), np.int64(4), np.int64(7), np.int64(8), np.int64(9), np.int64(0), np.int64(1), np.int64(2), np.int64(3), np.int64(4), np.int64(7), np.int64(8), np.int64(9), np.int64(0), np.int64(1), np.int64(2), np.int64(3), np.int64(4), np.int64(5), np.int64(6), np.int64(7), np.int64(8), np.int64(9), np.int64(8), np.int64(3), np.int64(4), np.int64(7), np.int64(8), np.int64(6), np.int64(3), np.int64(4), np.int64(0), np.int64(9), np.int64(7), np.int64(1), np.int64(9), np.int64(3), np.int64(8), np.int64(4), np.int64(7), np.int64(3), np.int64(0), np.int64(9), np.int64(1), np.int64(4), np.int64(5), np.int64(4), np.int64(6), np.int64(2), np.int64(0), np.int64(6), np.int64(2), np.int64(1), np.int64(1), np.int64(1), np.int64(1), np.int64(7), np.int64(2), np.int64(4), np.int64(7), np.int64(5), np.int64(2), np.int64(9), np.int64(4), np.int64(5), np.int64(8), np.int64(4), np.int64(2), np.int64(9), np.int64(7), np.int64(0), np.int64(0), np.int64(7), np.int64(5), np.int64(1), np.int64(1), np.int64(7), np.int64(6), np.int64(6), np.int64(6), np.int64(8), np.int64(2), np.int64(2), np.int64(7), np.int64(7), np.int64(4), np.int64(0), np.int64(2), np.int64(4), np.int64(2), np.int64(1), np.int64(8), np.int64(9), np.int64(6), np.int64(1), np.int64(0), np.int64(5), np.int64(9), np.int64(6), np.int64(9), np.int64(8), np.int64(0), np.int64(3), np.int64(0), np.int64(8), np.int64(3), np.int64(9), np.int64(6), np.int64(3), np.int64(0), np.int64(1), np.int64(2), np.int64(3), np.int64(4), np.int64(5), np.int64(6), np.int64(7), np.int64(0), np.int64(1), np.int64(2), np.int64(3), np.int64(4), np.int64(5), np.int64(6), np.int64(7), np.int64(8), np.int64(9), np.int64(0), np.int64(1), np.int64(2), np.int64(3), np.int64(4), np.int64(5), np.int64(6), np.int64(7), np.int64(8), np.int64(5), np.int64(4), np.int64(8), np.int64(7), np.int64(4), np.int64(7), np.int64(7), np.int64(3), np.int64(9), np.int64(8), np.int64(8), np.int64(3), np.int64(1), np.int64(5), np.int64(8), np.int64(2), np.int64(7), np.int64(4), np.int64(2), np.int64(1), np.int64(5), np.int64(4), np.int64(5), np.int64(5), np.int64(8), np.int64(4), np.int64(4), np.int64(4), np.int64(4), np.int64(1), np.int64(8), np.int64(7), np.int64(5), np.int64(5), np.int64(1), np.int64(8), np.int64(9), np.int64(1), np.int64(3), np.int64(6), np.int64(3), np.int64(3), np.int64(2), np.int64(2), np.int64(6), np.int64(9), np.int64(9), np.int64(6), np.int64(5), np.int64(5), np.int64(3), np.int64(3), np.int64(8), np.int64(1), np.int64(4), np.int64(5), np.int64(6), np.int64(8), np.int64(1), np.int64(9), np.int64(7), np.int64(6), np.int64(8), np.int64(3), np.int64(7), np.int64(4), np.int64(7), np.int64(0), np.int64(9), np.int64(0), np.int64(0), np.int64(3), np.int64(7), np.int64(9), np.int64(3), np.int64(0), np.int64(2), np.int64(0), np.int64(1), np.int64(0), np.int64(1), np.int64(0), np.int64(4), np.int64(0), np.int64(1), np.int64(0), np.int64(4), np.int64(7), np.int64(9), np.int64(6), np.int64(2), np.int64(6), np.int64(2), np.int64(2), np.int64(9), np.int64(9), np.int64(0), np.int64(1), np.int64(2), np.int64(3), np.int64(4), np.int64(5), np.int64(6), np.int64(7), np.int64(8), np.int64(9), np.int64(0), np.int64(1), np.int64(2), np.int64(3), np.int64(4), np.int64(5), np.int64(6), np.int64(7), np.int64(8), np.int64(9), np.int64(0), np.int64(1), np.int64(2), np.int64(3), np.int64(4), np.int64(5), np.int64(6), np.int64(7), np.int64(8), np.int64(9), np.int64(8), np.int64(0), np.int64(5), np.int64(6), np.int64(6), np.int64(0), np.int64(8), np.int64(0), np.int64(2), np.int64(3), np.int64(7), np.int64(9), np.int64(4), np.int64(7), np.int64(1), np.int64(9), np.int64(1), np.int64(7), np.int64(1), np.int64(4), np.int64(0), np.int64(0), np.int64(4), np.int64(1), np.int64(7), np.int64(5), np.int64(7), np.int64(1), np.int64(3), np.int64(3), np.int64(3), np.int64(6), np.int64(6), np.int64(9), np.int64(7), np.int64(4), np.int64(3), np.int64(0), np.int64(2), np.int64(5), np.int64(2), np.int64(6), np.int64(0), np.int64(8), np.int64(9), np.int64(4), np.int64(3), np.int64(5), np.int64(4), np.int64(8), np.int64(1), np.int64(5), np.int64(9), np.int64(0), np.int64(6), np.int64(4), np.int64(3), np.int64(6), np.int64(3), np.int64(3), np.int64(8), np.int64(1), np.int64(4), np.int64(7), np.int64(5), np.int64(7), np.int64(2), np.int64(2), np.int64(0), np.int64(0), np.int64(1), np.int64(7), np.int64(7), np.int64(9), np.int64(5), np.int64(9), np.int64(8), np.int64(9), np.int64(6), np.int64(8), np.int64(8), np.int64(2), np.int64(3), np.int64(6), np.int64(1), np.int64(2), np.int64(9), np.int64(8), np.int64(9), np.int64(5), np.int64(2), np.int64(6), np.int64(2), np.int64(4), np.int64(8), np.int64(4), np.int64(6), np.int64(5), np.int64(0), np.int64(1), np.int64(5), np.int64(6), np.int64(7), np.int64(8), np.int64(9), np.int64(0), np.int64(1), np.int64(2), np.int64(3), np.int64(6), np.int64(5), np.int64(6), np.int64(7), np.int64(8), np.int64(9), np.int64(0), np.int64(1), np.int64(2), np.int64(3), np.int64(4), np.int64(5), np.int64(6), np.int64(7), np.int64(8), np.int64(9), np.int64(7), np.int64(4), np.int64(2), np.int64(0), np.int64(9), np.int64(0), np.int64(1), np.int64(5), np.int64(8), np.int64(8), np.int64(0), np.int64(2), np.int64(7), np.int64(8), np.int64(4), np.int64(4), np.int64(6), np.int64(1), np.int64(0), np.int64(4), np.int64(5), np.int64(3), np.int64(9), np.int64(4), np.int64(2), np.int64(0), np.int64(5), np.int64(0), np.int64(1), np.int64(3), np.int64(2), np.int64(9), np.int64(8), np.int64(6), np.int64(0), np.int64(1), np.int64(1), np.int64(8), np.int64(0), np.int64(4), np.int64(7), np.int64(7), np.int64(6), np.int64(3), np.int64(6), np.int64(0), np.int64(7), np.int64(3), np.int64(5), np.int64(4), np.int64(2), np.int64(4), np.int64(1), np.int64(8), np.int64(3), np.int64(5), np.int64(6), np.int64(7), np.int64(0), np.int64(6), np.int64(7), np.int64(1), np.int64(2), np.int64(5), np.int64(8), np.int64(1), np.int64(9), np.int64(3), np.int64(8), np.int64(2), np.int64(8), np.int64(7), np.int64(6), np.int64(7), np.int64(1), np.int64(4), np.int64(6), np.int64(2), np.int64(9), np.int64(3), np.int64(0), np.int64(1), np.int64(2), np.int64(3), np.int64(4), np.int64(5), np.int64(6), np.int64(7), np.int64(0), np.int64(1), np.int64(2), np.int64(3), np.int64(4), np.int64(5), np.int64(0), np.int64(1), np.int64(2), np.int64(8), np.int64(9), np.int64(1), np.int64(4), np.int64(0), np.int64(9), np.int64(5), np.int64(0), np.int64(8), np.int64(0), np.int64(7), np.int64(7), np.int64(1), np.int64(1), np.int64(2), np.int64(9), np.int64(3), np.int64(6), np.int64(7), np.int64(2), np.int64(3), np.int64(8), np.int64(1), np.int64(2), np.int64(9), np.int64(8), np.int64(8), np.int64(7), np.int64(1), np.int64(7), np.int64(1), np.int64(1), np.int64(0), np.int64(3), np.int64(4), np.int64(2), np.int64(6), np.int64(4), np.int64(7), np.int64(4), np.int64(2), np.int64(7), np.int64(4), np.int64(9), np.int64(1), np.int64(0), np.int64(6), np.int64(8), np.int64(5), np.int64(5), np.int64(5), np.int64(3), np.int64(5), np.int64(9), np.int64(7), np.int64(4), np.int64(8), np.int64(5), np.int64(9), np.int64(6), np.int64(9), np.int64(3), np.int64(0), np.int64(3), np.int64(8), np.int64(9), np.int64(1), np.int64(8), np.int64(1), np.int64(6), np.int64(0), np.int64(0), np.int64(1), np.int64(2), np.int64(3), np.int64(4), np.int64(5), np.int64(6), np.int64(7), np.int64(8), np.int64(9), np.int64(0), np.int64(1), np.int64(2), np.int64(3), np.int64(4), np.int64(5), np.int64(6), np.int64(7), np.int64(8), np.int64(9), np.int64(0), np.int64(1), np.int64(2), np.int64(3), np.int64(4), np.int64(5), np.int64(6), np.int64(7), np.int64(8), np.int64(9), np.int64(3), np.int64(5), np.int64(3), np.int64(2), np.int64(9), np.int64(3), np.int64(2), np.int64(1), np.int64(4), np.int64(5), np.int64(5), np.int64(2), np.int64(3), np.int64(2), np.int64(1), np.int64(3), np.int64(9), np.int64(7), np.int64(2), np.int64(5), np.int64(2), np.int64(8), np.int64(9), np.int64(1), np.int64(8), np.int64(8), np.int64(7), np.int64(8), np.int64(1), np.int64(0), np.int64(0), np.int64(7), np.int64(7), np.int64(8), np.int64(7), np.int64(5), np.int64(0), np.int64(6), np.int64(1), np.int64(5), np.int64(7), np.int64(4), np.int64(6), np.int64(1), np.int64(2), np.int64(5), np.int64(0), np.int64(7), np.int64(9), np.int64(9), np.int64(0), np.int64(3), np.int64(8), np.int64(4), np.int64(4), np.int64(8), np.int64(1), np.int64(8), np.int64(6), np.int64(5), np.int64(9), np.int64(0), np.int64(0), np.int64(0), np.int64(3), np.int64(7), np.int64(1), np.int64(6), np.int64(4), np.int64(2), np.int64(6), np.int64(6), np.int64(0), np.int64(4), np.int64(5), np.int64(4), np.int64(1), np.int64(3), np.int64(8), np.int64(6), np.int64(3), np.int64(9), np.int64(9), np.int64(5), np.int64(9), np.int64(3), np.int64(7), np.int64(8), np.int64(5), np.int64(6), np.int64(4), np.int64(7), np.int64(6), np.int64(2), np.int64(2), np.int64(0), np.int64(9), np.int64(4), np.int64(0), np.int64(1), np.int64(2), np.int64(3), np.int64(4), np.int64(5), np.int64(6), np.int64(7), np.int64(8), np.int64(9), np.int64(9), np.int64(1), np.int64(2), np.int64(2), np.int64(5), np.int64(6), np.int64(0), np.int64(1), np.int64(2), np.int64(3), np.int64(4), np.int64(5), np.int64(6), np.int64(8), np.int64(7), np.int64(1), np.int64(3), np.int64(2), np.int64(6), np.int64(0), np.int64(7), np.int64(5), np.int64(9), np.int64(9), np.int64(6), np.int64(9), np.int64(9), np.int64(4), np.int64(1), np.int64(3), np.int64(2), np.int64(1), np.int64(2), np.int64(3), np.int64(8), np.int64(3), np.int64(2), np.int64(6), np.int64(5), np.int64(4), np.int64(8), np.int64(2), np.int64(7), np.int64(4), np.int64(8), np.int64(1), np.int64(8), np.int64(0), np.int64(5), np.int64(3), np.int64(9), np.int64(4), np.int64(1), np.int64(9), np.int64(2), np.int64(1), np.int64(9), np.int64(6), np.int64(7), np.int64(9), np.int64(0), np.int64(4), np.int64(6), np.int64(1), np.int64(7), np.int64(3), np.int64(8), np.int64(7), np.int64(2), np.int64(9), np.int64(6), np.int64(5), np.int64(8), np.int64(3), np.int64(9), np.int64(0), np.int64(5), np.int64(7), np.int64(1), np.int64(6), np.int64(1), np.int64(0), np.int64(9), np.int64(3), np.int64(3), np.int64(4), np.int64(4), np.int64(0), np.int64(6), np.int64(2), np.int64(5), np.int64(4), np.int64(2), np.int64(3), np.int64(4), np.int64(6), np.int64(0), np.int64(0), np.int64(2), np.int64(0), np.int64(1), np.int64(4), np.int64(5), np.int64(6), np.int64(7), np.int64(8), np.int64(9), np.int64(0), np.int64(1), np.int64(2), np.int64(3), np.int64(4), np.int64(5), np.int64(6), np.int64(7), np.int64(8), np.int64(0), np.int64(1), np.int64(2), np.int64(3), np.int64(4), np.int64(5), np.int64(6), np.int64(7), np.int64(8), np.int64(9), np.int64(8), np.int64(4), np.int64(1), np.int64(3), np.int64(7), np.int64(3), np.int64(2), np.int64(8), np.int64(0), np.int64(7), np.int64(3), np.int64(9), np.int64(9), np.int64(9), np.int64(9), np.int64(1), np.int64(1), np.int64(5), np.int64(8), np.int64(8), np.int64(0), np.int64(3), np.int64(2), np.int64(1), np.int64(8), np.int64(3), np.int64(2), np.int64(6), np.int64(5), np.int64(6), np.int64(0), np.int64(4), np.int64(1), np.int64(0), np.int64(3), np.int64(3), np.int64(1), np.int64(9), np.int64(2), np.int64(1), np.int64(9), np.int64(6), np.int64(0), np.int64(4), np.int64(6), np.int64(1), np.int64(7), np.int64(3), np.int64(8), np.int64(7), np.int64(2), np.int64(9), np.int64(6), np.int64(5), np.int64(8), np.int64(3), np.int64(3), np.int64(7), np.int64(1), np.int64(6), np.int64(1), np.int64(0), np.int64(9), np.int64(6), np.int64(2), np.int64(5), np.int64(4), np.int64(2), np.int64(3), np.int64(4), np.int64(4), np.int64(6), np.int64(0), np.int64(0), np.int64(2), np.int64(0), np.int64(1), np.int64(2), np.int64(3), np.int64(9), np.int64(3), np.int64(6), np.int64(7), np.int64(8), np.int64(9), np.int64(0), np.int64(1), np.int64(2), np.int64(3), np.int64(4), np.int64(5), np.int64(6), np.int64(7), np.int64(8), np.int64(9), np.int64(0), np.int64(1), np.int64(2), np.int64(9), np.int64(4), np.int64(5), np.int64(6), np.int64(7), np.int64(8), np.int64(9), np.int64(8), np.int64(6), np.int64(5), np.int64(0), np.int64(6), np.int64(8), np.int64(9), np.int64(4), np.int64(1), np.int64(9), np.int64(3), np.int64(8), np.int64(0), np.int64(4), np.int64(8), np.int64(9), np.int64(1), np.int64(4), np.int64(0), np.int64(5), np.int64(3), np.int64(2), np.int64(1), np.int64(5), np.int64(4), np.int64(0), np.int64(7), np.int64(6), np.int64(0), np.int64(1), np.int64(7), np.int64(0), np.int64(6), np.int64(8), np.int64(9), np.int64(5), np.int64(1), np.int64(7), np.int64(9), np.int64(8), np.int64(6), np.int64(0), np.int64(8), np.int64(1), np.int64(7), np.int64(7), np.int64(1), np.int64(3), np.int64(2), np.int64(9), np.int64(1), np.int64(4), np.int64(2), np.int64(0), np.int64(0), np.int64(7), np.int64(8), np.int64(4), np.int64(6), np.int64(4), np.int64(9), np.int64(9), np.int64(8), np.int64(4), np.int64(7), np.int64(2), np.int64(5), np.int64(6), np.int64(3), np.int64(6), np.int64(9), np.int64(6), np.int64(3), np.int64(2), np.int64(2), np.int64(4), np.int64(6), np.int64(9), np.int64(0), np.int64(2), np.int64(5), np.int64(5), np.int64(1), np.int64(9), np.int64(3), np.int64(9), np.int64(7), np.int64(8), np.int64(7), np.int64(2), np.int64(2), np.int64(5), np.int64(7), np.int64(9), np.int64(8), np.int64(2), np.int64(1), np.int64(9), np.int64(1), np.int64(3), np.int64(0), np.int64(1), np.int64(2), np.int64(3), np.int64(4), np.int64(5), np.int64(6), np.int64(7), np.int64(8), np.int64(9), np.int64(0), np.int64(1), np.int64(2), np.int64(3), np.int64(4), np.int64(5), np.int64(6), np.int64(7), np.int64(8), np.int64(9), np.int64(0), np.int64(1), np.int64(2), np.int64(3), np.int64(4), np.int64(5), np.int64(6), np.int64(7), np.int64(8), np.int64(9), np.int64(1), np.int64(2), np.int64(6), np.int64(5), np.int64(3), np.int64(0), np.int64(7), np.int64(0), np.int64(4), np.int64(1), np.int64(4), np.int64(3), np.int64(6), np.int64(7), np.int64(2), np.int64(3), np.int64(1), np.int64(2), np.int64(1), np.int64(2), np.int64(9), np.int64(6), np.int64(0), np.int64(1), np.int64(3), np.int64(0), np.int64(2), np.int64(7), np.int64(5), np.int64(7), np.int64(6), np.int64(2), np.int64(9), np.int64(1), np.int64(9), np.int64(0), np.int64(6), np.int64(0), np.int64(6), np.int64(0), np.int64(2), np.int64(0), np.int64(6), np.int64(1), np.int64(5), np.int64(8), np.int64(4), np.int64(3), np.int64(0), np.int64(1), np.int64(5), np.int64(4), np.int64(4), np.int64(8), np.int64(5), np.int64(7), np.int64(5), np.int64(7), np.int64(8), np.int64(3), np.int64(4), np.int64(8), np.int64(8), np.int64(5), np.int64(2), np.int64(9), np.int64(7), np.int64(1), np.int64(3), np.int64(8), np.int64(1), np.int64(0), np.int64(7), np.int64(5), np.int64(9), np.int64(6), np.int64(9), np.int64(4), np.int64(7), np.int64(7), np.int64(9), np.int64(9), np.int64(3), np.int64(4), np.int64(4), np.int64(3), np.int64(8), np.int64(6), np.int64(2), np.int64(0), np.int64(1), np.int64(2), np.int64(3), np.int64(4), np.int64(5), np.int64(6), np.int64(7), np.int64(8), np.int64(9), np.int64(0), np.int64(1), np.int64(2), np.int64(3), np.int64(4), np.int64(5), np.int64(6), np.int64(7), np.int64(8), np.int64(9), np.int64(0), np.int64(1), np.int64(2), np.int64(3), np.int64(4), np.int64(5), np.int64(6), np.int64(7), np.int64(8), np.int64(9), np.int64(0), np.int64(8), np.int64(3), np.int64(9), np.int64(5), np.int64(5), np.int64(2), np.int64(6), np.int64(8), np.int64(4), np.int64(9), np.int64(1), np.int64(7), np.int64(1), np.int64(2), np.int64(3), np.int64(5), np.int64(9), np.int64(6), np.int64(9), np.int64(1), np.int64(1), np.int64(1), np.int64(2), np.int64(9), np.int64(5), np.int64(6), np.int64(8), np.int64(1), np.int64(2), np.int64(0), np.int64(7), np.int64(7), np.int64(5), np.int64(8), np.int64(2), np.int64(9), np.int64(8), np.int64(9), np.int64(0), np.int64(4), np.int64(6), np.int64(7), np.int64(1), np.int64(3), np.int64(4), np.int64(5), np.int64(6), np.int64(0), np.int64(3), np.int64(6), np.int64(8), np.int64(7), np.int64(0), np.int64(4), np.int64(2), np.int64(7), np.int64(4), np.int64(7), np.int64(5), np.int64(4), np.int64(3), np.int64(4), np.int64(2), np.int64(8), np.int64(1), np.int64(5), np.int64(1), np.int64(2), np.int64(0), np.int64(2), np.int64(5), np.int64(6), np.int64(4), np.int64(3), np.int64(0), np.int64(0), np.int64(0), np.int64(3), np.int64(3), np.int64(5), np.int64(7), np.int64(0), np.int64(6), np.int64(4), np.int64(8), np.int64(8), np.int64(6), np.int64(3), np.int64(4), np.int64(6), np.int64(9), np.int64(9), np.int64(8), np.int64(2), np.int64(7), np.int64(7), np.int64(1), np.int64(0), np.int64(1), np.int64(2), np.int64(3), np.int64(4), np.int64(5), np.int64(6), np.int64(7), np.int64(8), np.int64(9), np.int64(0), np.int64(1), np.int64(2), np.int64(3), np.int64(4), np.int64(5), np.int64(6), np.int64(7), np.int64(8), np.int64(0), np.int64(1), np.int64(2), np.int64(3), np.int64(4), np.int64(5), np.int64(6), np.int64(7), np.int64(8), np.int64(2), np.int64(1), np.int64(7), np.int64(2), np.int64(5), np.int64(0), np.int64(8), np.int64(0), np.int64(2), np.int64(7), np.int64(3), np.int64(8), np.int64(3), np.int64(6), np.int64(0), np.int64(2), np.int64(7), np.int64(6), np.int64(6), np.int64(1), np.int64(2), np.int64(8), np.int64(8), np.int64(7), np.int64(7), np.int64(4), np.int64(7), np.int64(7), np.int64(3), np.int64(7), np.int64(4), np.int64(5), np.int64(4), np.int64(3), np.int64(3), np.int64(8), np.int64(4), np.int64(1), np.int64(1), np.int64(9), np.int64(7), np.int64(4), np.int64(3), np.int64(7), np.int64(3), np.int64(3), np.int64(0), np.int64(2), np.int64(5), np.int64(3), np.int64(6), np.int64(6), np.int64(3), np.int64(8), np.int64(2), np.int64(5), np.int64(9), np.int64(9), np.int64(8), np.int64(4), np.int64(1), np.int64(0), np.int64(6), np.int64(6), np.int64(9), np.int64(6), np.int64(8), np.int64(8), np.int64(5), np.int64(6), np.int64(1), np.int64(1), np.int64(9), np.int64(8), np.int64(9), np.int64(2), np.int64(3), np.int64(5), np.int64(5), np.int64(9), np.int64(4), np.int64(2), np.int64(1), np.int64(9), np.int64(3), np.int64(9), np.int64(2), np.int64(0), np.int64(6), np.int64(0), np.int64(4), np.int64(0), np.int64(0), np.int64(1), np.int64(2), np.int64(3), np.int64(4), np.int64(7), np.int64(8), np.int64(9), np.int64(0), np.int64(1), np.int64(2), np.int64(3), np.int64(7), np.int64(8), np.int64(9), np.int64(0), np.int64(1), np.int64(2), np.int64(3), np.int64(4), np.int64(7), np.int64(8), np.int64(9), np.int64(7), np.int64(3), np.int64(0), np.int64(3), np.int64(1), np.int64(8), np.int64(7), np.int64(6), np.int64(4), np.int64(0), np.int64(2), np.int64(6), np.int64(8), np.int64(3), np.int64(2), np.int64(8), np.int64(1), np.int64(2), np.int64(0), np.int64(7), np.int64(1), np.int64(0), np.int64(4), np.int64(4), np.int64(5), np.int64(8), np.int64(0), np.int64(6), np.int64(5), np.int64(3), np.int64(1), np.int64(5), np.int64(1), np.int64(8), np.int64(5), np.int64(9), np.int64(4), np.int64(0), np.int64(7), np.int64(5), np.int64(8), np.int64(8), np.int64(3), np.int64(8), np.int64(9), np.int64(2), np.int64(6), np.int64(2), np.int64(5), np.int64(3), np.int64(1), np.int64(7), np.int64(3), np.int64(9), np.int64(1), np.int64(9), np.int64(9), np.int64(6), np.int64(0), np.int64(3), np.int64(9), np.int64(2), np.int64(8), np.int64(1), np.int64(4), np.int64(3), np.int64(5), np.int64(2), np.int64(9), np.int64(2), np.int64(5), np.int64(8), np.int64(9), np.int64(5), np.int64(0), np.int64(1), np.int64(2), np.int64(4), np.int64(5), np.int64(6), np.int64(0), np.int64(1), np.int64(2), np.int64(3), np.int64(4), np.int64(5), np.int64(6), np.int64(7), np.int64(1), np.int64(2), np.int64(3), np.int64(4), np.int64(5), np.int64(1), np.int64(0), np.int64(4), np.int64(5), np.int64(6), np.int64(6), np.int64(3), np.int64(4), np.int64(4), np.int64(2), np.int64(9), np.int64(1), np.int64(0), np.int64(6), np.int64(4), np.int64(9), np.int64(7), np.int64(2), np.int64(3), np.int64(3), np.int64(9), np.int64(2), np.int64(0), np.int64(9), np.int64(3), np.int64(3), np.int64(9), np.int64(3), np.int64(5), np.int64(6), np.int64(5), np.int64(7), np.int64(7), np.int64(8), np.int64(4), np.int64(0), np.int64(2), np.int64(4), np.int64(0), np.int64(2), np.int64(4), np.int64(7), np.int64(8), np.int64(0), np.int64(7), np.int64(0), np.int64(6), np.int64(9), np.int64(3), np.int64(2), np.int64(8), np.int64(6), np.int64(9), np.int64(5), np.int64(7), np.int64(5), np.int64(1), np.int64(0), np.int64(9), np.int64(1), np.int64(6), np.int64(7), np.int64(2), np.int64(9), np.int64(7), np.int64(9), np.int64(5), np.int64(8), np.int64(6), np.int64(2), np.int64(6), np.int64(2), np.int64(8), np.int64(1), np.int64(7), np.int64(5), np.int64(0), np.int64(1), np.int64(1), np.int64(3), np.int64(8), np.int64(4), np.int64(9), np.int64(1), np.int64(8), np.int64(6), np.int64(8), np.int64(9), np.int64(0), np.int64(1), np.int64(2), np.int64(3), np.int64(4), np.int64(5), np.int64(6), np.int64(7), np.int64(8), np.int64(9), np.int64(0), np.int64(1), np.int64(2), np.int64(3), np.int64(4), np.int64(7), np.int64(8), np.int64(9), np.int64(0), np.int64(1), np.int64(7), np.int64(8), np.int64(9), np.int64(9), np.int64(8), np.int64(9), np.int64(8), np.int64(4), np.int64(1), np.int64(7), np.int64(7), np.int64(3), np.int64(3), np.int64(7), np.int64(6), np.int64(6), np.int64(6), np.int64(1), np.int64(9), np.int64(0), np.int64(1), np.int64(7), np.int64(6), np.int64(3), np.int64(2), np.int64(1), np.int64(7), np.int64(1), np.int64(3), np.int64(9), np.int64(1), np.int64(7), np.int64(6), np.int64(8), np.int64(4), np.int64(1), np.int64(4), np.int64(3), np.int64(6), np.int64(9), np.int64(6), np.int64(1), np.int64(4), np.int64(4), np.int64(7), np.int64(2), np.int64(4), np.int64(4), np.int64(0), np.int64(1), np.int64(2), np.int64(3), np.int64(4), np.int64(3), np.int64(6), np.int64(7), np.int64(8), np.int64(9), np.int64(0), np.int64(1), np.int64(2), np.int64(3), np.int64(4), np.int64(5), np.int64(6), np.int64(9), np.int64(0), np.int64(1), np.int64(2), np.int64(3), np.int64(4), np.int64(7), np.int64(8), np.int64(1), np.int64(3), np.int64(5), np.int64(1), np.int64(7), np.int64(7), np.int64(2), np.int64(1), np.int64(4), np.int64(8), np.int64(3), np.int64(4), np.int64(4), np.int64(3), np.int64(9), np.int64(7), np.int64(4), np.int64(1), np.int64(8), np.int64(3), np.int64(5), np.int64(9), np.int64(1), np.int64(6), np.int64(0), np.int64(1), np.int64(0), np.int64(0), np.int64(2), np.int64(9), np.int64(7), np.int64(1), np.int64(1), np.int64(4), np.int64(0), np.int64(4), np.int64(7), np.int64(3), np.int64(6), np.int64(8), np.int64(0), np.int64(3), np.int64(7), np.int64(4), np.int64(0), np.int64(6), np.int64(9), np.int64(2), np.int64(6), np.int64(5), np.int64(8), np.int64(6), np.int64(9), np.int64(0), np.int64(4), np.int64(0), np.int64(6), np.int64(6), np.int64(9), np.int64(2), np.int64(0), np.int64(9), np.int64(5), np.int64(1), np.int64(3), np.int64(7), np.int64(6), np.int64(9), np.int64(3), np.int64(0), np.int64(2), np.int64(2), np.int64(0), np.int64(1), np.int64(2), np.int64(3), np.int64(4), np.int64(5), np.int64(6), np.int64(7), np.int64(8), np.int64(9), np.int64(0), np.int64(1), np.int64(2), np.int64(3), np.int64(4), np.int64(5), np.int64(6), np.int64(7), np.int64(8), np.int64(4), np.int64(0), np.int64(1), np.int64(2), np.int64(3), np.int64(4), np.int64(5), np.int64(6), np.int64(7), np.int64(8), np.int64(4), np.int64(2), np.int64(1), np.int64(7), np.int64(2), np.int64(5), np.int64(0), np.int64(8), np.int64(0), np.int64(2), np.int64(7), np.int64(8), np.int64(8), np.int64(3), np.int64(0), np.int64(6), np.int64(0), np.int64(2), np.int64(7), np.int64(6), np.int64(4), np.int64(1), np.int64(2), np.int64(8), np.int64(8), np.int64(7), np.int64(7), np.int64(4), np.int64(7), np.int64(7), np.int64(3), np.int64(7), np.int64(4), np.int64(5), np.int64(4), np.int64(3), np.int64(3), np.int64(8), np.int64(4), np.int64(5), np.int64(4), np.int64(1), np.int64(1), np.int64(9), np.int64(7), np.int64(4), np.int64(3), np.int64(7), np.int64(3), np.int64(3), np.int64(0), np.int64(2), np.int64(5), np.int64(5), np.int64(6), np.int64(3), np.int64(1), np.int64(5), np.int64(2), np.int64(5), np.int64(9), np.int64(9), np.int64(8), np.int64(4), np.int64(1), np.int64(0), np.int64(6), np.int64(0), np.int64(9), np.int64(6), np.int64(8), np.int64(8), np.int64(5), np.int64(6), np.int64(1), np.int64(1), np.int64(9), np.int64(8), np.int64(9), np.int64(2), np.int64(3), np.int64(5), np.int64(5), np.int64(9), np.int64(4), np.int64(2), np.int64(1), np.int64(9), np.int64(4), np.int64(9), np.int64(1), np.int64(3), np.int64(9), np.int64(2), np.int64(0), np.int64(6), np.int64(0), np.int64(4), np.int64(0), np.int64(4), np.int64(0), np.int64(1), np.int64(2), np.int64(3), np.int64(4), np.int64(5), np.int64(6), np.int64(7), np.int64(8), np.int64(9), np.int64(0), np.int64(1), np.int64(2), np.int64(3), np.int64(4), np.int64(5), np.int64(6), np.int64(7), np.int64(8), np.int64(9), np.int64(0), np.int64(1), np.int64(2), np.int64(3), np.int64(4), np.int64(5), np.int64(6), np.int64(7), np.int64(8), np.int64(9), np.int64(3), np.int64(8), np.int64(0), np.int64(7), np.int64(1), np.int64(0), np.int64(7), np.int64(5), np.int64(5), np.int64(6), np.int64(9), np.int64(0), np.int64(1), np.int64(0), np.int64(0), np.int64(8), np.int64(3), np.int64(4), np.int64(3), np.int64(1), np.int64(5), np.int64(0), np.int64(0), np.int64(9), np.int64(5), np.int64(3), np.int64(4), np.int64(9), np.int64(3), np.int64(7), np.int64(6), np.int64(9), np.int64(2), np.int64(4), np.int64(5), np.int64(7), np.int64(2), np.int64(6), np.int64(4), np.int64(9), np.int64(4), np.int64(9), np.int64(4), np.int64(1), np.int64(2), np.int64(2), np.int64(5), np.int64(8), np.int64(1), np.int64(3), np.int64(2), np.int64(9), np.int64(4), np.int64(3), np.int64(8), np.int64(2), np.int64(2), np.int64(1), np.int64(2), np.int64(8), np.int64(6), np.int64(5), np.int64(1), np.int64(6), np.int64(7), np.int64(2), np.int64(1), np.int64(3), np.int64(9), np.int64(3), np.int64(8), np.int64(7), np.int64(5), np.int64(7), np.int64(0), np.int64(7), np.int64(4), np.int64(8), np.int64(8), np.int64(5), np.int64(0), np.int64(6), np.int64(6), np.int64(3), np.int64(7), np.int64(6), np.int64(9), np.int64(9), np.int64(4), np.int64(8), np.int64(4), np.int64(1), np.int64(0), np.int64(6), np.int64(6), np.int64(0), np.int64(1), np.int64(2), np.int64(3), np.int64(4), np.int64(5), np.int64(6), np.int64(7), np.int64(8), np.int64(9), np.int64(0), np.int64(1), np.int64(2), np.int64(3), np.int64(4), np.int64(5), np.int64(6), np.int64(7), np.int64(8), np.int64(9), np.int64(0), np.int64(1), np.int64(2), np.int64(3), np.int64(4), np.int64(5), np.int64(6), np.int64(7), np.int64(8), np.int64(9), np.int64(7), np.int64(4), np.int64(0), np.int64(4), np.int64(0), np.int64(1), np.int64(7), np.int64(9), np.int64(5), np.int64(1), np.int64(4), np.int64(2), np.int64(8), np.int64(9), np.int64(4), np.int64(3), np.int64(7), np.int64(8), np.int64(2), np.int64(4), np.int64(4), np.int64(3), np.int64(3), np.int64(6), np.int64(9), np.int64(9), np.int64(5), np.int64(8), np.int64(6), np.int64(7), np.int64(0), np.int64(6), np.int64(8), np.int64(2), np.int64(6), np.int64(3), np.int64(9), np.int64(3), np.int64(2), np.int64(8), np.int64(6), np.int64(1), np.int64(7), np.int64(4), np.int64(8), np.int64(8), np.int64(9), np.int64(0), np.int64(3), np.int64(3), np.int64(9), np.int64(0), np.int64(5), np.int64(2), np.int64(9), np.int64(4), np.int64(1), np.int64(0), np.int64(3), np.int64(7), np.int64(5), np.int64(8), np.int64(7), np.int64(7), np.int64(8), np.int64(2), np.int64(9), np.int64(7), np.int64(1), np.int64(2), np.int64(6), np.int64(4), np.int64(2), np.int64(5), np.int64(2), np.int64(3), np.int64(6), np.int64(6), np.int64(5), np.int64(0), np.int64(0), np.int64(2), np.int64(8), np.int64(1), np.int64(6), np.int64(1), np.int64(0), np.int64(4), np.int64(3), np.int64(1), np.int64(6), np.int64(1), np.int64(9), np.int64(0), np.int64(1), np.int64(4), np.int64(5), np.int64(6), np.int64(7), np.int64(8), np.int64(9), np.int64(1), np.int64(2), np.int64(3), np.int64(4), np.int64(5), np.int64(6), np.int64(7), np.int64(0), np.int64(1), np.int64(2), np.int64(3), np.int64(4), np.int64(5), np.int64(6), np.int64(7), np.int64(8), np.int64(9), np.int64(8), np.int64(4), np.int64(0), np.int64(0), np.int64(7), np.int64(2), np.int64(4), np.int64(3), np.int64(8), np.int64(6), np.int64(6), np.int64(3), np.int64(2), np.int64(6), np.int64(3), np.int64(3), np.int64(0), np.int64(1), np.int64(4), np.int64(7), np.int64(8), np.int64(0), np.int64(3), np.int64(1), np.int64(9), np.int64(0), np.int64(1), np.int64(9), np.int64(1), np.int64(2), np.int64(7), np.int64(0), np.int64(1), np.int64(3), np.int64(8), np.int64(2), np.int64(9), np.int64(2), np.int64(7), np.int64(6), np.int64(5), np.int64(5), np.int64(9), np.int64(9), np.int64(8), np.int64(2), np.int64(9), np.int64(1), np.int64(3), np.int64(2), np.int64(3), np.int64(4), np.int64(3), np.int64(1), np.int64(9), np.int64(0), np.int64(9), np.int64(3), np.int64(6), np.int64(8), np.int64(7), np.int64(0), np.int64(1), np.int64(0), np.int64(5), np.int64(8), np.int64(2), np.int64(7), np.int64(7), np.int64(0), np.int64(1), np.int64(2), np.int64(3), np.int64(4), np.int64(5), np.int64(6), np.int64(7), np.int64(8), np.int64(9), np.int64(0), np.int64(1), np.int64(2), np.int64(3), np.int64(4), np.int64(5), np.int64(6), np.int64(7), np.int64(8), np.int64(9), np.int64(0), np.int64(1), np.int64(2), np.int64(3), np.int64(4), np.int64(5), np.int64(6), np.int64(7), np.int64(8), np.int64(9), np.int64(1), np.int64(7), np.int64(4), np.int64(8), np.int64(1), np.int64(5), np.int64(6), np.int64(5), np.int64(7), np.int64(2), np.int64(8), np.int64(6), np.int64(3), np.int64(3), np.int64(8), np.int64(6), np.int64(5), np.int64(4), np.int64(0), np.int64(9), np.int64(1), np.int64(7), np.int64(2), np.int64(9), np.int64(1), np.int64(5), np.int64(1), np.int64(3), np.int64(2), np.int64(2), np.int64(3), np.int64(0), np.int64(6), np.int64(4), np.int64(3), np.int64(7), np.int64(6), np.int64(9), np.int64(0), np.int64(4), np.int64(8), np.int64(1), np.int64(4), np.int64(0), np.int64(6), np.int64(1), np.int64(2), np.int64(6), np.int64(9), np.int64(2), np.int64(2), np.int64(3), np.int64(5), np.int64(5), np.int64(1), np.int64(0), np.int64(7), np.int64(7), np.int64(9), np.int64(6), np.int64(2), np.int64(9), np.int64(4), np.int64(7), np.int64(0), np.int64(2), np.int64(3), np.int64(4), np.int64(0), np.int64(0), np.int64(8), np.int64(8), np.int64(8), np.int64(5), np.int64(1), np.int64(3), np.int64(7), np.int64(4), np.int64(9), np.int64(8), np.int64(8), np.int64(9), np.int64(0), np.int64(9), np.int64(8), np.int64(9), np.int64(0), np.int64(2), np.int64(6), np.int64(5), np.int64(6), np.int64(7), np.int64(4), np.int64(7), np.int64(5), np.int64(4), np.int64(1), np.int64(3), np.int64(5), np.int64(3), np.int64(1), np.int64(2), np.int64(3), np.int64(4), np.int64(5), np.int64(6), np.int64(1), np.int64(2), np.int64(3), np.int64(4), np.int64(6), np.int64(0), np.int64(1), np.int64(2), np.int64(4), np.int64(5), np.int64(6), np.int64(7), np.int64(8), np.int64(1), np.int64(7), np.int64(2), np.int64(4), np.int64(1), np.int64(4), np.int64(1), np.int64(4), np.int64(4), np.int64(6), np.int64(8), np.int64(4), np.int64(5), np.int64(3), np.int64(7), np.int64(8), np.int64(4), np.int64(3), np.int64(3), np.int64(5), np.int64(6), np.int64(7), np.int64(0), np.int64(6), np.int64(1), np.int64(6), np.int64(8), np.int64(7), np.int64(0), np.int64(1), np.int64(5), np.int64(0), np.int64(8), np.int64(8), np.int64(0), np.int64(1), np.int64(5), np.int64(8), np.int64(4), np.int64(7), np.int64(3), np.int64(9), np.int64(7), np.int64(6), np.int64(9), np.int64(1), np.int64(9), np.int64(0), np.int64(6), np.int64(7), np.int64(1), np.int64(2), np.int64(3), np.int64(9), np.int64(2), np.int64(4), np.int64(5), np.int64(5), np.int64(3), np.int64(7), np.int64(5), np.int64(3), np.int64(1), np.int64(5), np.int64(2), np.int64(2), np.int64(3), np.int64(0), np.int64(2), np.int64(9), np.int64(4), np.int64(9), np.int64(7), np.int64(0), np.int64(2), np.int64(7), np.int64(4), np.int64(9), np.int64(9), np.int64(2), np.int64(5), np.int64(9), np.int64(8), np.int64(3), np.int64(8), np.int64(6), np.int64(7), np.int64(0), np.int64(0), np.int64(1), np.int64(2), np.int64(3), np.int64(4), np.int64(5), np.int64(6), np.int64(7), np.int64(8), np.int64(9), np.int64(0), np.int64(1), np.int64(2), np.int64(3), np.int64(4), np.int64(5), np.int64(6), np.int64(7), np.int64(8), np.int64(9), np.int64(0), np.int64(1), np.int64(2), np.int64(3), np.int64(4), np.int64(5), np.int64(6), np.int64(7), np.int64(8), np.int64(9), np.int64(0), np.int64(0), np.int64(7), np.int64(2), np.int64(6), np.int64(5), np.int64(5), np.int64(3), np.int64(7), np.int64(9), np.int64(6), np.int64(6), np.int64(6), np.int64(6), np.int64(4), np.int64(3), np.int64(9), np.int64(8), np.int64(3), np.int64(0), np.int64(1), np.int64(9), np.int64(0), np.int64(5), np.int64(4), np.int64(1), np.int64(9), np.int64(1), np.int64(2), np.int64(7), np.int64(0), np.int64(1), np.int64(3), np.int64(8), np.int64(2), np.int64(9), np.int64(2), np.int64(7), np.int64(4), np.int64(2), np.int64(6), np.int64(5), np.int64(5), np.int64(9), np.int64(9), np.int64(1), np.int64(1), np.int64(5), np.int64(7), np.int64(6), np.int64(8), np.int64(2), np.int64(9), np.int64(4), np.int64(3), np.int64(1), np.int64(9), np.int64(0), np.int64(9), np.int64(3), np.int64(6), np.int64(8), np.int64(7), np.int64(0), np.int64(1), np.int64(0), np.int64(5), np.int64(8), np.int64(2), np.int64(7), np.int64(7), np.int64(0), np.int64(1), np.int64(2), np.int64(3), np.int64(4), np.int64(5), np.int64(6), np.int64(7), np.int64(8), np.int64(9), np.int64(0), np.int64(1), np.int64(2), np.int64(3), np.int64(4), np.int64(5), np.int64(8), np.int64(9), np.int64(0), np.int64(1), np.int64(2), np.int64(3), np.int64(4), np.int64(5), np.int64(6), np.int64(7), np.int64(8), np.int64(9), np.int64(2), np.int64(1), np.int64(2), np.int64(1), np.int64(3), np.int64(9), np.int64(9), np.int64(8), np.int64(5), np.int64(3), np.int64(7), np.int64(0), np.int64(7), np.int64(7), np.int64(5), np.int64(7), np.int64(9), np.int64(9), np.int64(4), np.int64(7), np.int64(0), np.int64(3), np.int64(4), np.int64(1), np.int64(5), np.int64(8), np.int64(1), np.int64(4), np.int64(8), np.int64(4), np.int64(1), np.int64(8), np.int64(6), np.int64(6), np.int64(4), np.int64(6), np.int64(0), np.int64(5), np.int64(5), np.int64(3), np.int64(3), np.int64(5), np.int64(7), np.int64(2), np.int64(5), np.int64(9), np.int64(6), np.int64(9), np.int64(2), np.int64(6), np.int64(2), np.int64(1), np.int64(2), np.int64(0), np.int64(8), np.int64(3), np.int64(8), np.int64(3), np.int64(0), np.int64(8), np.int64(7), np.int64(4), np.int64(9), np.int64(5), np.int64(0), np.int64(9), np.int64(7), np.int64(0), np.int64(0), np.int64(4), np.int64(6), np.int64(0), np.int64(9), np.int64(1), np.int64(6), np.int64(2), np.int64(7), np.int64(6), np.int64(8), np.int64(3), np.int64(5), np.int64(2), np.int64(1), np.int64(8), np.int64(3), np.int64(8), np.int64(6), np.int64(1), np.int64(0), np.int64(2), np.int64(1), np.int64(4), np.int64(0), np.int64(1), np.int64(2), np.int64(3), np.int64(4), np.int64(5), np.int64(6), np.int64(7), np.int64(8), np.int64(9), np.int64(0), np.int64(1), np.int64(2), np.int64(3), np.int64(4), np.int64(5), np.int64(6), np.int64(7), np.int64(8), np.int64(9), np.int64(0), np.int64(1), np.int64(2), np.int64(3), np.int64(4), np.int64(5), np.int64(6), np.int64(7), np.int64(8), np.int64(9), np.int64(7), np.int64(6), np.int64(4), np.int64(7), np.int64(6), np.int64(2), np.int64(3), np.int64(4), np.int64(8), np.int64(7), np.int64(8), np.int64(6), np.int64(9), np.int64(8), np.int64(3), np.int64(2), np.int64(2), np.int64(8), np.int64(4), np.int64(8), np.int64(5), np.int64(6), np.int64(3), np.int64(0), np.int64(2), np.int64(0), np.int64(1), np.int64(1), np.int64(2), np.int64(9), np.int64(6), np.int64(8), np.int64(2), np.int64(1), np.int64(0), np.int64(6), np.int64(5), np.int64(2), np.int64(9), np.int64(7), np.int64(5), np.int64(3), np.int64(9), np.int64(3), np.int64(7), np.int64(1), np.int64(8), np.int64(3), np.int64(8), np.int64(1), np.int64(9), np.int64(5), np.int64(5), np.int64(0), np.int64(1), np.int64(1), np.int64(9), np.int64(8), np.int64(2), np.int64(6), np.int64(0), np.int64(4), np.int64(5), np.int64(0), np.int64(3), np.int64(1), np.int64(8), np.int64(6), np.int64(7), np.int64(5), np.int64(9), np.int64(9), np.int64(3), np.int64(0), np.int64(3), np.int64(1), np.int64(4), np.int64(4), np.int64(0), np.int64(4), np.int64(9), np.int64(0), np.int64(1), np.int64(2), np.int64(3), np.int64(5), np.int64(6), np.int64(7), np.int64(8), np.int64(0), np.int64(1), np.int64(2), np.int64(3), np.int64(5), np.int64(6), np.int64(7), np.int64(8), np.int64(9), np.int64(0), np.int64(1), np.int64(2), np.int64(3), np.int64(5), np.int64(6), np.int64(7), np.int64(8), np.int64(9), np.int64(9), np.int64(7), np.int64(0), np.int64(9), np.int64(0), np.int64(1), np.int64(5), np.int64(8), np.int64(8), np.int64(0), np.int64(9), np.int64(3), np.int64(2), np.int64(7), np.int64(8), np.int64(4), np.int64(6), np.int64(1), np.int64(0), np.int64(4), np.int64(9), np.int64(4), np.int64(2), np.int64(0), np.int64(5), np.int64(0), np.int64(1), np.int64(6), np.int64(9), np.int64(3), np.int64(2), np.int64(9), np.int64(1), np.int64(6), np.int64(0), np.int64(1), np.int64(1), np.int64(8), np.int64(9), np.int64(7), np.int64(6), np.int64(3), np.int64(6), np.int64(0), np.int64(7), np.int64(2), np.int64(4), np.int64(1), np.int64(7), np.int64(0), np.int64(6), np.int64(7), np.int64(1), np.int64(2), np.int64(5), np.int64(8), np.int64(1), np.int64(0), np.int64(2), np.int64(8), np.int64(7), np.int64(6), np.int64(8), np.int64(7), np.int64(1), np.int64(4), np.int64(2), np.int64(9), np.int64(3), np.int64(0), np.int64(1), np.int64(2), np.int64(3), np.int64(4), np.int64(5), np.int64(6), np.int64(7), np.int64(8), np.int64(9), np.int64(0), np.int64(1), np.int64(2), np.int64(3), np.int64(4), np.int64(5), np.int64(6), np.int64(7), np.int64(8), np.int64(9), np.int64(0), np.int64(1), np.int64(2), np.int64(3), np.int64(4), np.int64(5), np.int64(6), np.int64(7), np.int64(8), np.int64(9), np.int64(8), np.int64(9), np.int64(5), np.int64(7), np.int64(0), np.int64(3), np.int64(1), np.int64(6), np.int64(8), np.int64(4), np.int64(1), np.int64(5), np.int64(6), np.int64(4), np.int64(2), np.int64(7), np.int64(8), np.int64(1), np.int64(3), np.int64(4), np.int64(3), np.int64(4), np.int64(7), np.int64(2), np.int64(0), np.int64(5), np.int64(0), np.int64(1), np.int64(9), np.int64(2), np.int64(3), np.int64(2), np.int64(3), np.int64(5), np.int64(5), np.int64(7), np.int64(8), np.int64(4), np.int64(9), np.int64(9), np.int64(7), np.int64(1), np.int64(1), np.int64(9), np.int64(0), np.int64(7), np.int64(8), np.int64(3), np.int64(4), np.int64(8), np.int64(6), np.int64(3), np.int64(8), np.int64(0), np.int64(9), np.int64(6), np.int64(2), np.int64(8), np.int64(0), np.int64(1), np.int64(0), np.int64(6), np.int64(2), np.int64(3), np.int64(8), np.int64(9), np.int64(0), np.int64(7), np.int64(2), np.int64(3), np.int64(4), np.int64(5), np.int64(5), np.int64(2), np.int64(8), np.int64(5), np.int64(4), np.int64(6), np.int64(6), np.int64(6), np.int64(7), np.int64(9), np.int64(1), np.int64(8), np.int64(6), np.int64(1), np.int64(5), np.int64(3), np.int64(4), np.int64(7), np.int64(9), np.int64(4), np.int64(0), np.int64(0), np.int64(0), np.int64(1), np.int64(2), np.int64(3), np.int64(4), np.int64(8), np.int64(6), np.int64(7), np.int64(8), np.int64(9), np.int64(0), np.int64(1), np.int64(2), np.int64(3), np.int64(4), np.int64(5), np.int64(6), np.int64(7), np.int64(8), np.int64(9), np.int64(0), np.int64(1), np.int64(2), np.int64(3), np.int64(4), np.int64(5), np.int64(6), np.int64(9), np.int64(0), np.int64(1), np.int64(3), np.int64(1), np.int64(5), np.int64(1), np.int64(2), np.int64(4), np.int64(9), np.int64(8), np.int64(4), np.int64(6), np.int64(8), np.int64(0), np.int64(1), np.int64(1), np.int64(9), np.int64(2), np.int64(6), np.int64(6), np.int64(8), np.int64(7), np.int64(4), np.int64(2), np.int64(9), np.int64(7), np.int64(0), np.int64(2), np.int64(1), np.int64(0), np.int64(3), np.int64(6), np.int64(0), np.int64(1), np.int64(2), np.int64(3), np.int64(4), np.int64(5), np.int64(6), np.int64(7), np.int64(8), np.int64(9), np.int64(0), np.int64(1), np.int64(2), np.int64(3), np.int64(4), np.int64(5), np.int64(6), np.int64(7), np.int64(8), np.int64(9), np.int64(0), np.int64(1), np.int64(2), np.int64(3), np.int64(4), np.int64(5), np.int64(6), np.int64(7), np.int64(8), np.int64(9), np.int64(8), np.int64(6), np.int64(5), np.int64(9), np.int64(7), np.int64(0), np.int64(2), np.int64(3), np.int64(4), np.int64(3), np.int64(8), np.int64(5), np.int64(1), np.int64(5), np.int64(2), np.int64(3), np.int64(0), np.int64(1), np.int64(2), np.int64(1), np.int64(3), np.int64(2), np.int64(6), np.int64(5), np.int64(3), np.int64(0), np.int64(7), np.int64(2), np.int64(7), np.int64(4), np.int64(6), np.int64(4), np.int64(0), np.int64(5), np.int64(9), np.int64(9), np.int64(8), np.int64(9), np.int64(5), np.int64(3), np.int64(1), np.int64(7), np.int64(4), np.int64(7), np.int64(6), np.int64(5), np.int64(4), np.int64(0), np.int64(0), np.int64(6), np.int64(6), np.int64(2), np.int64(0), np.int64(6), np.int64(3), np.int64(7), np.int64(7), np.int64(4), np.int64(4), np.int64(3), np.int64(9), np.int64(2), np.int64(8), np.int64(9), np.int64(6), np.int64(4), np.int64(9), np.int64(5), np.int64(3), np.int64(8), np.int64(8), np.int64(7), np.int64(1), np.int64(4), np.int64(0), np.int64(4), np.int64(8), np.int64(5), np.int64(2), np.int64(3), np.int64(9), np.int64(0), np.int64(1), np.int64(9), np.int64(1), np.int64(5), np.int64(1), np.int64(7), np.int64(4), np.int64(8), np.int64(6), np.int64(2), np.int64(1), np.int64(6), np.int64(8), np.int64(8), np.int64(0), np.int64(1), np.int64(2), np.int64(9), np.int64(4), np.int64(7), np.int64(8), np.int64(9), np.int64(0), np.int64(1), np.int64(2), np.int64(3), np.int64(8), np.int64(6), np.int64(7), np.int64(8), np.int64(9), np.int64(0), np.int64(1), np.int64(2), np.int64(9), np.int64(4), np.int64(7), np.int64(8), np.int64(9), np.int64(1), np.int64(4), np.int64(5), np.int64(3), np.int64(3), np.int64(0), np.int64(9), np.int64(5), np.int64(4), np.int64(9), np.int64(0), np.int64(8), np.int64(4), np.int64(6), np.int64(7), np.int64(0), np.int64(7), np.int64(7), np.int64(1), np.int64(6), np.int64(9), np.int64(1), np.int64(9), np.int64(6), np.int64(2), np.int64(9), np.int64(8), np.int64(2), np.int64(3), np.int64(8), np.int64(9), np.int64(5), np.int64(8), np.int64(8), np.int64(7), np.int64(1), np.int64(7), np.int64(1), np.int64(1), np.int64(0), np.int64(3), np.int64(4), np.int64(2), np.int64(4), np.int64(4), np.int64(7), np.int64(4), np.int64(2), np.int64(7), np.int64(4), np.int64(2), np.int64(9), np.int64(2), np.int64(7), np.int64(9), np.int64(2), np.int64(1), np.int64(6), np.int64(6), np.int64(5), np.int64(3), np.int64(4), np.int64(8), np.int64(5), np.int64(9), np.int64(6), np.int64(9), np.int64(0), np.int64(6), np.int64(3), np.int64(0), np.int64(8), np.int64(1), np.int64(6), np.int64(0), np.int64(0), np.int64(1), np.int64(2), np.int64(3), np.int64(4), np.int64(5), np.int64(6), np.int64(7), np.int64(0), np.int64(1), np.int64(2), np.int64(3), np.int64(4), np.int64(7), np.int64(8), np.int64(9), np.int64(0), np.int64(1), np.int64(2), np.int64(3), np.int64(4), np.int64(7), np.int64(2), np.int64(5), np.int64(1), np.int64(6), np.int64(4), np.int64(3), np.int64(9), np.int64(9), np.int64(0), np.int64(9), np.int64(7), np.int64(4), np.int64(6), np.int64(4), np.int64(3), np.int64(6), np.int64(2), np.int64(0), np.int64(9), np.int64(8), np.int64(6), np.int64(5), np.int64(7), np.int64(0), np.int64(0), np.int64(1), np.int64(7), np.int64(4), np.int64(3), np.int64(2), np.int64(4), np.int64(1), np.int64(3), np.int64(7), np.int64(6), np.int64(4), np.int64(7), np.int64(7), np.int64(7), np.int64(9), np.int64(8), np.int64(4), np.int64(3), np.int64(8), np.int64(2), np.int64(8), np.int64(3), np.int64(5), np.int64(5), np.int64(0), np.int64(5), np.int64(4), np.int64(7), np.int64(1), np.int64(3), np.int64(1), np.int64(7), np.int64(9), np.int64(6), np.int64(2), np.int64(0), np.int64(4), np.int64(1), np.int64(7), np.int64(3), np.int64(3), np.int64(9), np.int64(1), np.int64(6), np.int64(4), np.int64(3), np.int64(9), np.int64(8), np.int64(2), np.int64(1), np.int64(8), np.int64(6), np.int64(4), np.int64(1), np.int64(5), np.int64(5), np.int64(6), np.int64(5), np.int64(0), np.int64(1), np.int64(2), np.int64(3), np.int64(4), np.int64(5), np.int64(6), np.int64(7), np.int64(0), np.int64(9), np.int64(0), np.int64(1), np.int64(2), np.int64(3), np.int64(4), np.int64(5), np.int64(6), np.int64(7), np.int64(8), np.int64(9), np.int64(0), np.int64(1), np.int64(2), np.int64(3), np.int64(4), np.int64(5), np.int64(6), np.int64(7), np.int64(8), np.int64(9), np.int64(6), np.int64(9), np.int64(7), np.int64(0), np.int64(2), np.int64(3), np.int64(4), np.int64(3), np.int64(8), np.int64(5), np.int64(1), np.int64(3), np.int64(0), np.int64(1), np.int64(2), np.int64(1), np.int64(3), np.int64(2), np.int64(0), np.int64(7), np.int64(2), np.int64(6), np.int64(4), np.int64(0), np.int64(5), np.int64(9), np.int64(9), np.int64(8), np.int64(9), np.int64(5), np.int64(5), np.int64(1), np.int64(7), np.int64(4), np.int64(7), np.int64(0), np.int64(0), np.int64(6), np.int64(6), np.int64(6), np.int64(3), np.int64(7), np.int64(8), np.int64(2), np.int64(6), np.int64(5), np.int64(8), np.int64(7), np.int64(1), np.int64(9), np.int64(0), np.int64(4), np.int64(8), np.int64(5), np.int64(2), np.int64(3), np.int64(9), np.int64(0), np.int64(1), np.int64(9), np.int64(1), np.int64(5), np.int64(1), np.int64(7), np.int64(6), np.int64(1), np.int64(2), np.int64(1), np.int64(6), np.int64(8), np.int64(0), np.int64(1), np.int64(2), np.int64(3), np.int64(4), np.int64(5), np.int64(6), np.int64(7), np.int64(8), np.int64(9), np.int64(0), np.int64(1), np.int64(2), np.int64(3), np.int64(4), np.int64(5), np.int64(6), np.int64(7), np.int64(8), np.int64(0), np.int64(1), np.int64(2), np.int64(3), np.int64(5), np.int64(6), np.int64(7), np.int64(8), np.int64(1), np.int64(0), np.int64(4), np.int64(5), np.int64(6), np.int64(6), np.int64(3), np.int64(4), np.int64(4), np.int64(2), np.int64(8), np.int64(1), np.int64(0), np.int64(6), np.int64(4), np.int64(9), np.int64(7), np.int64(2), np.int64(9), np.int64(2), np.int64(0), np.int64(9), np.int64(3), np.int64(3), np.int64(9), np.int64(1), np.int64(5), np.int64(2), np.int64(3), np.int64(1), np.int64(6), np.int64(7), np.int64(3), np.int64(7), np.int64(8), np.int64(4), np.int64(0), np.int64(2), np.int64(4), np.int64(0), np.int64(2), np.int64(4), np.int64(7), np.int64(8), np.int64(0), np.int64(7), np.int64(0), np.int64(6), np.int64(9), np.int64(3), np.int64(2), np.int64(4), np.int64(8), np.int64(6), np.int64(0), np.int64(5), np.int64(7), np.int64(5), np.int64(1), np.int64(0), np.int64(8), np.int64(1), np.int64(6), np.int64(7), np.int64(2), np.int64(9), np.int64(7), np.int64(9), np.int64(5), np.int64(6), np.int64(5), np.int64(2), np.int64(6), np.int64(2), np.int64(8), np.int64(1), np.int64(7), np.int64(5), np.int64(5), np.int64(7), np.int64(3), np.int64(5), np.int64(0), np.int64(1), np.int64(1), np.int64(3), np.int64(8), np.int64(4), np.int64(9), np.int64(4), np.int64(5), np.int64(1), np.int64(8), np.int64(6), np.int64(8), np.int64(9), np.int64(0), np.int64(1), np.int64(2), np.int64(3), np.int64(4), np.int64(5), np.int64(6), np.int64(7), np.int64(8), np.int64(9), np.int64(0), np.int64(1), np.int64(2), np.int64(3), np.int64(4), np.int64(5), np.int64(6), np.int64(7), np.int64(8), np.int64(9), np.int64(0), np.int64(1), np.int64(2), np.int64(3), np.int64(4), np.int64(5), np.int64(6), np.int64(7), np.int64(8), np.int64(9), np.int64(3), np.int64(5), np.int64(3), np.int64(2), np.int64(9), np.int64(3), np.int64(2), np.int64(1), np.int64(4), np.int64(5), np.int64(5), np.int64(2), np.int64(3), np.int64(2), np.int64(1), np.int64(3), np.int64(9), np.int64(7), np.int64(2), np.int64(1), np.int64(2), np.int64(8), np.int64(9), np.int64(1), np.int64(8), np.int64(8), np.int64(7), np.int64(8), np.int64(1), np.int64(0), np.int64(0), np.int64(6), np.int64(7), np.int64(7), np.int64(8), np.int64(7), np.int64(5), np.int64(0), np.int64(6), np.int64(1), np.int64(5), np.int64(7), np.int64(4), np.int64(6), np.int64(1), np.int64(2), np.int64(5), np.int64(0), np.int64(7), np.int64(9), np.int64(9), np.int64(0), np.int64(3), np.int64(4), np.int64(4), np.int64(8), np.int64(4), np.int64(1), np.int64(8), np.int64(6), np.int64(5), np.int64(9), np.int64(0), np.int64(0), np.int64(0), np.int64(3), np.int64(7), np.int64(1), np.int64(6), np.int64(4), np.int64(6), np.int64(0), np.int64(4), np.int64(5), np.int64(4), np.int64(1), np.int64(3), np.int64(8), np.int64(6), np.int64(3), np.int64(9), np.int64(9), np.int64(5), np.int64(9), np.int64(3), np.int64(7), np.int64(8), np.int64(5), np.int64(6), np.int64(4), np.int64(7), np.int64(6), np.int64(2), np.int64(2), np.int64(0), np.int64(9), np.int64(4), np.int64(0), np.int64(1), np.int64(2), np.int64(3), np.int64(4), np.int64(5), np.int64(6), np.int64(7), np.int64(8), np.int64(9), np.int64(0), np.int64(1), np.int64(2), np.int64(3), np.int64(4), np.int64(5), np.int64(6), np.int64(7), np.int64(8), np.int64(9), np.int64(0), np.int64(1), np.int64(2), np.int64(3), np.int64(4), np.int64(5), np.int64(6), np.int64(7), np.int64(8), np.int64(9), np.int64(6), np.int64(4), np.int64(2), np.int64(6), np.int64(4), np.int64(7), np.int64(5), np.int64(5), np.int64(4), np.int64(7), np.int64(2), np.int64(9), np.int64(3), np.int64(9), np.int64(3), np.int64(8), np.int64(2), np.int64(0), np.int64(9), np.int64(5), np.int64(6), np.int64(0), np.int64(1), np.int64(0), np.int64(6), np.int64(5), np.int64(3), np.int64(5), np.int64(3), np.int64(8), np.int64(0), np.int64(9), np.int64(3), np.int64(4), np.int64(1), np.int64(6), np.int64(3), np.int64(9), np.int64(8), np.int64(3), np.int64(0), np.int64(6), np.int64(2), np.int64(7), np.int64(8), np.int64(1), np.int64(7), np.int64(1), np.int64(3), np.int64(8), np.int64(5), np.int64(4), np.int64(2), np.int64(0), np.int64(4), np.int64(7), np.int64(6), np.int64(7), np.int64(4), np.int64(1), np.int64(6), np.int64(2), np.int64(6), np.int64(7), np.int64(1), np.int64(9), np.int64(8), np.int64(0), np.int64(6), np.int64(9), np.int64(4), np.int64(9), np.int64(9), np.int64(6), np.int64(2), np.int64(3), np.int64(7), np.int64(1), np.int64(9), np.int64(2), np.int64(2), np.int64(5), np.int64(3), np.int64(7), np.int64(8), np.int64(0), np.int64(1), np.int64(2), np.int64(3), np.int64(4), np.int64(7), np.int64(8), np.int64(9), np.int64(0), np.int64(1), np.int64(2), np.int64(3), np.int64(4), np.int64(7), np.int64(8), np.int64(9), np.int64(0), np.int64(1), np.int64(7), np.int64(8), np.int64(9), np.int64(8), np.int64(9), np.int64(2), np.int64(6), np.int64(1), np.int64(3), np.int64(5), np.int64(4), np.int64(8), np.int64(2), np.int64(6), np.int64(4), np.int64(3), np.int64(4), np.int64(5), np.int64(9), np.int64(2), np.int64(0), np.int64(3), np.int64(9), np.int64(4), np.int64(9), np.int64(7), np.int64(3), np.int64(8), np.int64(7), np.int64(4), np.int64(4), np.int64(9), np.int64(8), np.int64(5), np.int64(8), np.int64(2), np.int64(6), np.int64(6), np.int64(2), np.int64(3), np.int64(1), np.int64(3), np.int64(2), np.int64(7), np.int64(3), np.int64(1), np.int64(9), np.int64(0), np.int64(1), np.int64(1), np.int64(3), np.int64(5), np.int64(0), np.int64(7), np.int64(8), np.int64(1), np.int64(5), np.int64(1), np.int64(4), np.int64(6), np.int64(0), np.int64(0), np.int64(4), np.int64(9), np.int64(1), np.int64(6), np.int64(6), np.int64(9), np.int64(0), np.int64(7), np.int64(6), np.int64(1), np.int64(1), np.int64(0), np.int64(1), np.int64(2), np.int64(3), np.int64(4), np.int64(2), np.int64(2), np.int64(3), np.int64(4), np.int64(5), np.int64(6), np.int64(2), np.int64(0), np.int64(1), np.int64(2), np.int64(2), np.int64(8), np.int64(6), np.int64(3), np.int64(9), np.int64(2), np.int64(1), np.int64(9), np.int64(3), np.int64(9), np.int64(6), np.int64(1), np.int64(7), np.int64(2), np.int64(4), np.int64(4), np.int64(5), np.int64(7), np.int64(0), np.int64(0), np.int64(1), np.int64(6), np.int64(6), np.int64(8), np.int64(2), np.int64(7), np.int64(7), np.int64(2), np.int64(4), np.int64(2), np.int64(1), np.int64(6), np.int64(1), np.int64(0), np.int64(6), np.int64(9), np.int64(8), np.int64(3), np.int64(9), np.int64(6), np.int64(3), np.int64(0), np.int64(1), np.int64(2), np.int64(3), np.int64(4), np.int64(5), np.int64(6), np.int64(7), np.int64(8), np.int64(9), np.int64(0), np.int64(8), np.int64(2), np.int64(3), np.int64(4), np.int64(5), np.int64(6), np.int64(7), np.int64(8), np.int64(9), np.int64(0), np.int64(1), np.int64(2), np.int64(3), np.int64(4), np.int64(5), np.int64(6), np.int64(7), np.int64(8), np.int64(9), np.int64(1), np.int64(6), np.int64(8), np.int64(9), np.int64(9), np.int64(0), np.int64(1), np.int64(2), np.int64(4), np.int64(4), np.int64(3), np.int64(7), np.int64(4), np.int64(4), np.int64(4), np.int64(0), np.int64(3), np.int64(8), np.int64(7), np.int64(5), np.int64(8), np.int64(2), np.int64(4), np.int64(7), np.int64(5), np.int64(3), np.int64(8), np.int64(5), np.int64(2), np.int64(5), np.int64(1), np.int64(1), np.int64(6), np.int64(2), np.int64(1), np.int64(3), np.int64(8), np.int64(6), np.int64(4), np.int64(2), np.int64(6), np.int64(2), np.int64(5), np.int64(5), np.int64(0), np.int64(2), np.int64(8), np.int64(0), np.int64(6), np.int64(8), np.int64(1), np.int64(7), np.int64(9), np.int64(1), np.int64(9), np.int64(2), np.int64(6), np.int64(7), np.int64(6), np.int64(6), np.int64(8), np.int64(7), np.int64(4), np.int64(9), np.int64(2), np.int64(1), np.int64(3), np.int64(3), np.int64(0), np.int64(5), np.int64(5), np.int64(8), np.int64(0), np.int64(3), np.int64(7), np.int64(9), np.int64(7), np.int64(0), np.int64(2), np.int64(7), np.int64(9), np.int64(1), np.int64(7), np.int64(8), np.int64(0), np.int64(3), np.int64(5), np.int64(3), np.int64(6), np.int64(0), np.int64(1), np.int64(2), np.int64(3), np.int64(4), np.int64(5), np.int64(6), np.int64(7), np.int64(8), np.int64(9), np.int64(0), np.int64(1), np.int64(2), np.int64(3), np.int64(4), np.int64(5), np.int64(6), np.int64(7), np.int64(8), np.int64(9), np.int64(0), np.int64(1), np.int64(2), np.int64(3), np.int64(4), np.int64(7), np.int64(8), np.int64(9), np.int64(6), np.int64(4), np.int64(2), np.int64(6), np.int64(4), np.int64(7), np.int64(8), np.int64(9), np.int64(2), np.int64(9), np.int64(3), np.int64(9), np.int64(3), np.int64(0), np.int64(0), np.int64(1), np.int64(0), np.int64(4), np.int64(2), np.int64(6), np.int64(3), np.int64(5), np.int64(3), np.int64(0), np.int64(3), np.int64(4), np.int64(1), np.int64(5), np.int64(3), np.int64(0), np.int64(8), np.int64(3), np.int64(0), np.int64(6), np.int64(1), np.int64(7), np.int64(8), np.int64(0), np.int64(9), np.int64(2), np.int64(6), np.int64(7), np.int64(1), np.int64(9), np.int64(6), np.int64(9), np.int64(4), np.int64(9), np.int64(9), np.int64(6), np.int64(7), np.int64(1), np.int64(2), np.int64(5), np.int64(3), np.int64(7), np.int64(8), np.int64(0), np.int64(1), np.int64(2), np.int64(4), np.int64(5), np.int64(6), np.int64(7), np.int64(8), np.int64(9), np.int64(0), np.int64(1), np.int64(3), np.int64(4), np.int64(5), np.int64(6), np.int64(7), np.int64(8), np.int64(0), np.int64(1), np.int64(3), np.int64(4), np.int64(7), np.int64(8), np.int64(9), np.int64(7), np.int64(5), np.int64(5), np.int64(1), np.int64(9), np.int64(9), np.int64(7), np.int64(1), np.int64(0), np.int64(0), np.int64(5), np.int64(9), np.int64(7), np.int64(1), np.int64(7), np.int64(2), np.int64(2), np.int64(3), np.int64(6), np.int64(8), np.int64(3), np.int64(2), np.int64(0), np.int64(0), np.int64(6), np.int64(1), np.int64(7), np.int64(5), np.int64(8), np.int64(6), np.int64(2), np.int64(9), np.int64(4), np.int64(8), np.int64(8), np.int64(7), np.int64(1), np.int64(0), np.int64(8), np.int64(7), np.int64(7), np.int64(5), np.int64(8), np.int64(5), np.int64(3), np.int64(4), np.int64(6), np.int64(1), np.int64(1), np.int64(5), np.int64(5), np.int64(0), np.int64(7), np.int64(2), np.int64(3), np.int64(6), np.int64(4), np.int64(1), np.int64(2), np.int64(4), np.int64(1), np.int64(5), np.int64(4), np.int64(2), np.int64(0), np.int64(4), np.int64(8), np.int64(6), np.int64(1), np.int64(9), np.int64(0), np.int64(2), np.int64(5), np.int64(6), np.int64(9), np.int64(3), np.int64(6), np.int64(3), np.int64(6), np.int64(0), np.int64(1), np.int64(2), np.int64(3), np.int64(4), np.int64(5), np.int64(6), np.int64(7), np.int64(8), np.int64(9), np.int64(0), np.int64(1), np.int64(2), np.int64(3), np.int64(4), np.int64(5), np.int64(6), np.int64(7), np.int64(8), np.int64(9), np.int64(0), np.int64(1), np.int64(2), np.int64(3), np.int64(5), np.int64(6), np.int64(7), np.int64(8), np.int64(1), np.int64(0), np.int64(9), np.int64(5), np.int64(7), np.int64(5), np.int64(1), np.int64(8), np.int64(6), np.int64(9), np.int64(0), np.int64(4), np.int64(1), np.int64(9), np.int64(3), np.int64(8), np.int64(4), np.int64(4), np.int64(7), np.int64(0), np.int64(1), np.int64(9), np.int64(2), np.int64(8), np.int64(7), np.int64(8), np.int64(2), np.int64(3), np.int64(9), np.int64(6), np.int64(0), np.int64(6), np.int64(5), np.int64(5), np.int64(3), np.int64(3), np.int64(3), np.int64(9), np.int64(8), np.int64(1), np.int64(1), np.int64(0), np.int64(6), np.int64(1), np.int64(0), np.int64(0), np.int64(6), np.int64(2), np.int64(1), np.int64(1), np.int64(3), np.int64(2), np.int64(7), np.int64(7), np.int64(8), np.int64(8), np.int64(7), np.int64(8), np.int64(4), np.int64(6), np.int64(0), np.int64(2), np.int64(0), np.int64(7), np.int64(0), np.int64(3), np.int64(6), np.int64(8), np.int64(7), np.int64(1), np.int64(5), np.int64(9), np.int64(9), np.int64(3), np.int64(7), np.int64(2), np.int64(4), np.int64(9), np.int64(4), np.int64(3), np.int64(6), np.int64(2), np.int64(2), np.int64(5), np.int64(3), np.int64(2), np.int64(5), np.int64(3), np.int64(9), np.int64(4), np.int64(1), np.int64(7), np.int64(2), np.int64(0), np.int64(1), np.int64(2), np.int64(3), np.int64(4), np.int64(5), np.int64(6), np.int64(7), np.int64(8), np.int64(9), np.int64(0), np.int64(1), np.int64(7), np.int64(3), np.int64(4), np.int64(5), np.int64(6), np.int64(7), np.int64(8), np.int64(9), np.int64(0), np.int64(1), np.int64(2), np.int64(3), np.int64(4), np.int64(5), np.int64(6), np.int64(7), np.int64(8), np.int64(9), np.int64(1), np.int64(0), np.int64(1), np.int64(2), np.int64(7), np.int64(5), np.int64(3), np.int64(4), np.int64(4), np.int64(0), np.int64(0), np.int64(6), np.int64(9), np.int64(6), np.int64(6), np.int64(5), np.int64(7), np.int64(2), np.int64(3), np.int64(4), np.int64(4), np.int64(9), np.int64(1), np.int64(4), np.int64(0), np.int64(7), np.int64(9), np.int64(5), np.int64(7), np.int64(2), np.int64(3), np.int64(1), np.int64(4), np.int64(4), np.int64(0), np.int64(9), np.int64(9), np.int64(6), np.int64(1), np.int64(8), np.int64(3), np.int64(3), np.int64(7), np.int64(3), np.int64(9), np.int64(8), np.int64(8), np.int64(4), np.int64(7), np.int64(7), np.int64(6), np.int64(2), np.int64(1), np.int64(9), np.int64(8), np.int64(7), np.int64(8), np.int64(8), np.int64(7), np.int64(2), np.int64(2), np.int64(3), np.int64(9), np.int64(3), np.int64(3), np.int64(5), np.int64(5), np.int64(0), np.int64(7), np.int64(4), np.int64(5), np.int64(6), np.int64(5), np.int64(1), np.int64(4), np.int64(1), np.int64(1), np.int64(2), np.int64(8), np.int64(2), np.int64(6), np.int64(1), np.int64(5), np.int64(0), np.int64(1), np.int64(2), np.int64(3), np.int64(4), np.int64(5), np.int64(6), np.int64(7), np.int64(8), np.int64(9), np.int64(0), np.int64(1), np.int64(3), np.int64(3), np.int64(4), np.int64(5), np.int64(6), np.int64(7), np.int64(8), np.int64(9), np.int64(0), np.int64(1), np.int64(2), np.int64(3), np.int64(4), np.int64(5), np.int64(6), np.int64(7), np.int64(8), np.int64(8), np.int64(0), np.int64(6), np.int64(0), np.int64(1), np.int64(2), np.int64(3), np.int64(7), np.int64(9), np.int64(4), np.int64(7), np.int64(1), np.int64(9), np.int64(1), np.int64(7), np.int64(1), np.int64(4), np.int64(0), np.int64(0), np.int64(1), np.int64(7), np.int64(5), np.int64(7), np.int64(1), np.int64(3), np.int64(3), np.int64(3), np.int64(1), np.int64(6), np.int64(9), np.int64(7), np.int64(1), np.int64(3), np.int64(0), np.int64(7), np.int64(6), np.int64(0), np.int64(8), np.int64(9), np.int64(5), np.int64(3), np.int64(5), np.int64(4), np.int64(8), np.int64(1), np.int64(5), np.int64(9), np.int64(0), np.int64(6), np.int64(3), np.int64(3), np.int64(8), np.int64(1), np.int64(4), np.int64(7), np.int64(5), np.int64(2), np.int64(0), np.int64(0), np.int64(1), np.int64(7), np.int64(8), np.int64(9), np.int64(6), np.int64(8), np.int64(8), np.int64(2), np.int64(3), np.int64(6), np.int64(1), np.int64(8), np.int64(9), np.int64(5), np.int64(2), np.int64(0), np.int64(1), np.int64(2), np.int64(3), np.int64(4), np.int64(5), np.int64(6), np.int64(7), np.int64(8), np.int64(9), np.int64(0), np.int64(1), np.int64(2), np.int64(3), np.int64(4), np.int64(5), np.int64(6), np.int64(7), np.int64(8), np.int64(9), np.int64(0), np.int64(1), np.int64(3), np.int64(3), np.int64(4), np.int64(6), np.int64(6), np.int64(7), np.int64(8), np.int64(9), np.int64(7), np.int64(4), np.int64(6), np.int64(1), np.int64(4), np.int64(0), np.int64(9), np.int64(9), np.int64(3), np.int64(7), np.int64(8), np.int64(6), np.int64(7), np.int64(5), np.int64(8), np.int64(6), np.int64(3), np.int64(2), np.int64(2), np.int64(0), np.int64(5), np.int64(5), np.int64(6), np.int64(0), np.int64(3), np.int64(8), np.int64(1), np.int64(0), np.int64(3), np.int64(0), np.int64(4), np.int64(7), np.int64(4), np.int64(9), np.int64(0), np.int64(9), np.int64(0), np.int64(7), np.int64(1), np.int64(7), np.int64(1), np.int64(6), np.int64(6), np.int64(0), np.int64(6), np.int64(0), np.int64(8), np.int64(7), np.int64(6), np.int64(4), np.int64(9), np.int64(9), np.int64(5), np.int64(3), np.int64(7), np.int64(4), np.int64(3), np.int64(0), np.int64(9), np.int64(6), np.int64(6), np.int64(1), np.int64(1), np.int64(3), np.int64(2), np.int64(1), np.int64(0), np.int64(0), np.int64(1), np.int64(2), np.int64(3), np.int64(4), np.int64(7), np.int64(8), np.int64(4), np.int64(0), np.int64(1), np.int64(2), np.int64(3), np.int64(4), np.int64(5), np.int64(6), np.int64(7), np.int64(8), np.int64(0), np.int64(1), np.int64(2), np.int64(3), np.int64(4), np.int64(7), np.int64(8), np.int64(9), np.int64(0), np.int64(8), np.int64(3), np.int64(9), np.int64(5), np.int64(5), np.int64(2), np.int64(6), np.int64(8), np.int64(4), np.int64(1), np.int64(7), np.int64(1), np.int64(2), np.int64(3), np.int64(5), np.int64(6), np.int64(9), np.int64(1), np.int64(1), np.int64(1), np.int64(2), np.int64(1), np.int64(2), np.int64(0), np.int64(7), np.int64(7), np.int64(5), np.int64(8), np.int64(2), np.int64(9), np.int64(8), np.int64(8), np.int64(7), np.int64(3), np.int64(4), np.int64(6), np.int64(8), np.int64(7), np.int64(0), np.int64(4), np.int64(2), np.int64(7), np.int64(7), np.int64(5), np.int64(4), np.int64(3), np.int64(4), np.int64(2), np.int64(8), np.int64(1), np.int64(5), np.int64(1), np.int64(4), np.int64(2), np.int64(3), np.int64(3), np.int64(5), np.int64(7), np.int64(0), np.int64(6), np.int64(8), np.int64(6), np.int64(3), np.int64(9), np.int64(9), np.int64(8), np.int64(2), np.int64(7), np.int64(7), np.int64(1), np.int64(0), np.int64(1), np.int64(7), np.int64(8), np.int64(9), np.int64(0), np.int64(1), np.int64(8), np.int64(3), np.int64(4), np.int64(5), np.int64(6), np.int64(7), np.int64(8), np.int64(0), np.int64(1), np.int64(2), np.int64(3), np.int64(4), np.int64(9), np.int64(8), np.int64(9), np.int64(7), np.int64(8), np.int64(6), np.int64(4), np.int64(1), np.int64(9), np.int64(3), np.int64(8), np.int64(4), np.int64(4), np.int64(7), np.int64(0), np.int64(1), np.int64(9), np.int64(2), np.int64(8), np.int64(7), np.int64(8), np.int64(2), np.int64(6), np.int64(0), np.int64(4), np.int64(5), np.int64(3), np.int64(3), np.int64(8), np.int64(9), np.int64(1), np.int64(4), np.int64(0), np.int64(6), np.int64(1), np.int64(0), np.int64(0), np.int64(6), np.int64(2), np.int64(1), np.int64(1), np.int64(7), np.int64(7), np.int64(8), np.int64(4), np.int64(6), np.int64(0), np.int64(7), np.int64(0), np.int64(3), np.int64(6), np.int64(8), np.int64(7), np.int64(1), np.int64(5), np.int64(2), np.int64(4), np.int64(9), np.int64(4), np.int64(3), np.int64(6), np.int64(4), np.int64(1), np.int64(7), np.int64(3), np.int64(6), np.int64(6), np.int64(0), np.int64(1), np.int64(2), np.int64(3), np.int64(4), np.int64(5), np.int64(6), np.int64(7), np.int64(8), np.int64(9), np.int64(0), np.int64(1), np.int64(2), np.int64(3), np.int64(4), np.int64(5), np.int64(6)]\n"
          ]
        }
      ]
    },
    {
      "cell_type": "markdown",
      "source": [
        "y_test --> True labels\n",
        "Y_pred_labels --> Predicted labels by NN\n",
        "\n",
        "Confusion Matrix"
      ],
      "metadata": {
        "id": "PW4Jypu1z2u7"
      }
    },
    {
      "cell_type": "code",
      "source": [
        "confusion_mat = confusion_matrix(y_test,Y_pred_labels)\n",
        "print(confusion_mat)"
      ],
      "metadata": {
        "colab": {
          "base_uri": "https://localhost:8080/"
        },
        "id": "YesEQG7KzpJs",
        "outputId": "12ea2ad5-feb1-4605-8604-5e63fdc0b8e1"
      },
      "execution_count": 26,
      "outputs": [
        {
          "output_type": "stream",
          "name": "stdout",
          "text": [
            "tf.Tensor(\n",
            "[[ 952    1    1    0    3    0    3    0    2   18]\n",
            " [   0 1112    4    2    5    1    3    1    7    0]\n",
            " [   3    0 1000    7    5    1    4    6    6    0]\n",
            " [   0    0    2  976    1    9    0    7    4   11]\n",
            " [   0    0    0    0  968    1    3    0    2    8]\n",
            " [   3    0    0   24    2  843    6    0   11    3]\n",
            " [   3    2    1    1   18    3  927    1    1    1]\n",
            " [   2    2   10    5    7    0    0  986    3   13]\n",
            " [  10    1    5   11    5    6    4    1  916   15]\n",
            " [   0    2    0    3   27    3    0    2    3  969]], shape=(10, 10), dtype=int32)\n"
          ]
        }
      ]
    },
    {
      "cell_type": "markdown",
      "source": [
        "To understand this confusion matrix we will use heatmap"
      ],
      "metadata": {
        "id": "8vs-uNrO0cUL"
      }
    },
    {
      "cell_type": "code",
      "source": [
        "plt.figure(figsize=(15,7))\n",
        "sns.heatmap(confusion_mat,annot=True,fmt='d',cmap='Blues')  # d -- values are in integers\n",
        "plt.ylabel('True Labels')\n",
        "plt.xlabel('Predicted Labels')"
      ],
      "metadata": {
        "colab": {
          "base_uri": "https://localhost:8080/",
          "height": 493
        },
        "id": "Gvm4HJdx0idD",
        "outputId": "ff380c4d-ae08-480b-f0e6-fd665ac4bbcf"
      },
      "execution_count": 27,
      "outputs": [
        {
          "output_type": "execute_result",
          "data": {
            "text/plain": [
              "Text(0.5, 47.7222222222222, 'Predicted Labels')"
            ]
          },
          "metadata": {},
          "execution_count": 27
        },
        {
          "output_type": "display_data",
          "data": {
            "text/plain": [
              "<Figure size 1500x700 with 2 Axes>"
            ],
            "image/png": "[encoded data removed]"
          },
          "metadata": {}
        }
      ]
    },
    {
      "cell_type": "code",
      "source": [
        "#Build Predictive System"
      ],
      "metadata": {
        "id": "XNvQaZwj0iXT"
      },
      "execution_count": null,
      "outputs": []
    },
    {
      "cell_type": "code",
      "source": [
        "input_image_path= '/content/MNIST_digit.png'\n",
        "\n",
        "input_image=cv2.imread(input_image_path)"
      ],
      "metadata": {
        "id": "ZxFkQKUt0iOG"
      },
      "execution_count": 28,
      "outputs": []
    },
    {
      "cell_type": "code",
      "source": [
        "type(input_image)"
      ],
      "metadata": {
        "colab": {
          "base_uri": "https://localhost:8080/"
        },
        "id": "EP1kNvrG0h8F",
        "outputId": "f7d0ca45-ec54-4b66-aa8d-e72b25ff5df3"
      },
      "execution_count": 29,
      "outputs": [
        {
          "output_type": "execute_result",
          "data": {
            "text/plain": [
              "numpy.ndarray"
            ]
          },
          "metadata": {},
          "execution_count": 29
        }
      ]
    },
    {
      "cell_type": "code",
      "source": [
        "print(input_image)"
      ],
      "metadata": {
        "colab": {
          "base_uri": "https://localhost:8080/"
        },
        "id": "DZeD6e7T3NSb",
        "outputId": "14525d44-fe8a-47a6-aca2-04c0af024a32"
      },
      "execution_count": 30,
      "outputs": [
        {
          "output_type": "stream",
          "name": "stdout",
          "text": [
            "[[[0 0 0]\n",
            "  [0 0 0]\n",
            "  [0 0 0]\n",
            "  ...\n",
            "  [0 0 0]\n",
            "  [0 0 0]\n",
            "  [0 0 0]]\n",
            "\n",
            " [[0 0 0]\n",
            "  [0 0 0]\n",
            "  [0 0 0]\n",
            "  ...\n",
            "  [0 0 0]\n",
            "  [0 0 0]\n",
            "  [0 0 0]]\n",
            "\n",
            " [[0 0 0]\n",
            "  [0 0 0]\n",
            "  [0 0 0]\n",
            "  ...\n",
            "  [0 0 0]\n",
            "  [0 0 0]\n",
            "  [0 0 0]]\n",
            "\n",
            " ...\n",
            "\n",
            " [[0 0 0]\n",
            "  [0 0 0]\n",
            "  [0 0 0]\n",
            "  ...\n",
            "  [0 0 0]\n",
            "  [0 0 0]\n",
            "  [0 0 0]]\n",
            "\n",
            " [[0 0 0]\n",
            "  [0 0 0]\n",
            "  [0 0 0]\n",
            "  ...\n",
            "  [0 0 0]\n",
            "  [0 0 0]\n",
            "  [0 0 0]]\n",
            "\n",
            " [[0 0 0]\n",
            "  [0 0 0]\n",
            "  [0 0 0]\n",
            "  ...\n",
            "  [0 0 0]\n",
            "  [0 0 0]\n",
            "  [0 0 0]]]\n"
          ]
        }
      ]
    },
    {
      "cell_type": "code",
      "source": [
        "cv2_imshow(input_image)"
      ],
      "metadata": {
        "colab": {
          "base_uri": "https://localhost:8080/",
          "height": 335
        },
        "id": "r_FJjpKo3UBA",
        "outputId": "fca45ec7-2f93-4b29-9be7-16d8f08fc46d"
      },
      "execution_count": 31,
      "outputs": [
        {
          "output_type": "display_data",
          "data": {
            "text/plain": [
              "<PIL.Image.Image image mode=RGB size=318x318>"
            ],
            "image/png": "[encoded data removed]",
            "image/jpeg": "[encoded data removed]"
          },
          "metadata": {}
        }
      ]
    },
    {
      "cell_type": "code",
      "source": [
        "# This image is in different dimension and also it is RGB image mention by 3rd parameter\n",
        "#our NN is trained on 28 * 28 and also it is gray scale\n",
        "input_image.shape"
      ],
      "metadata": {
        "colab": {
          "base_uri": "https://localhost:8080/"
        },
        "id": "x8J9bcDb3YD3",
        "outputId": "1c2cf876-31e3-4a42-d85e-4a6f7805292c"
      },
      "execution_count": 32,
      "outputs": [
        {
          "output_type": "execute_result",
          "data": {
            "text/plain": [
              "(318, 318, 3)"
            ]
          },
          "metadata": {},
          "execution_count": 32
        }
      ]
    },
    {
      "cell_type": "code",
      "source": [
        "#convert this image into gray scale image\n",
        "grayscale=cv2.cvtColor(input_image,cv2.COLOR_RGB2GRAY)"
      ],
      "metadata": {
        "id": "w_0v4q4h3rC0"
      },
      "execution_count": 33,
      "outputs": []
    },
    {
      "cell_type": "code",
      "source": [
        "grayscale.shape"
      ],
      "metadata": {
        "colab": {
          "base_uri": "https://localhost:8080/"
        },
        "id": "I3_QmU3j36LO",
        "outputId": "40db832b-3d84-4ffb-dfda-6481f39cf10a"
      },
      "execution_count": 34,
      "outputs": [
        {
          "output_type": "execute_result",
          "data": {
            "text/plain": [
              "(318, 318)"
            ]
          },
          "metadata": {},
          "execution_count": 34
        }
      ]
    },
    {
      "cell_type": "code",
      "source": [
        "#convert input image for prediction is in dimension 28*28\n",
        "input_image_resize=cv2.resize(grayscale,(28,28))"
      ],
      "metadata": {
        "id": "3hkFT33t4Bi8"
      },
      "execution_count": 35,
      "outputs": []
    },
    {
      "cell_type": "code",
      "source": [
        "input_image_resize.shape"
      ],
      "metadata": {
        "colab": {
          "base_uri": "https://localhost:8080/"
        },
        "id": "Ut8dMZFz4PLl",
        "outputId": "f24d75e3-a47e-40be-dbfe-86aa904b6a5f"
      },
      "execution_count": 36,
      "outputs": [
        {
          "output_type": "execute_result",
          "data": {
            "text/plain": [
              "(28, 28)"
            ]
          },
          "metadata": {},
          "execution_count": 36
        }
      ]
    },
    {
      "cell_type": "code",
      "source": [
        "cv2_imshow(input_image_resize)"
      ],
      "metadata": {
        "colab": {
          "base_uri": "https://localhost:8080/",
          "height": 45
        },
        "id": "lg7R9T4E4Xa3",
        "outputId": "60a689ca-c0d3-43d4-b66a-6689fce9e25d"
      },
      "execution_count": 37,
      "outputs": [
        {
          "output_type": "display_data",
          "data": {
            "text/plain": [
              "<PIL.Image.Image image mode=L size=28x28>"
            ],
            "image/png": "[encoded data removed]",
            "image/jpeg": "[encoded data removed]"
          },
          "metadata": {}
        }
      ]
    },
    {
      "cell_type": "code",
      "source": [
        "#scaling the values in between 0 to 1\n",
        "input_image_resize=input_image_resize/255"
      ],
      "metadata": {
        "id": "mU-veVxH4jit"
      },
      "execution_count": 38,
      "outputs": []
    },
    {
      "cell_type": "code",
      "source": [
        "type(input_image_resize)"
      ],
      "metadata": {
        "colab": {
          "base_uri": "https://localhost:8080/"
        },
        "id": "_ENznSKR5A_5",
        "outputId": "ee91cbcf-c674-4df5-966f-b4dc4cb96200"
      },
      "execution_count": 39,
      "outputs": [
        {
          "output_type": "execute_result",
          "data": {
            "text/plain": [
              "numpy.ndarray"
            ]
          },
          "metadata": {},
          "execution_count": 39
        }
      ]
    },
    {
      "cell_type": "code",
      "source": [
        "#tell NN giving only 1 input image of size(28,28) for prediction and not whole test data\n",
        "# For RGB: [1,28,28,3]\n",
        "image_reshaped=np.reshape(input_image_resize,[1,28,28])"
      ],
      "metadata": {
        "id": "41Pv6PTR4qHu"
      },
      "execution_count": 40,
      "outputs": []
    },
    {
      "cell_type": "code",
      "source": [
        "#now use model for prediction\n",
        "input_prediction=model.predict(image_reshaped)\n",
        "print(input_prediction)"
      ],
      "metadata": {
        "colab": {
          "base_uri": "https://localhost:8080/"
        },
        "id": "PY-g_Hcf5VKg",
        "outputId": "8fac2d0d-e526-466d-e3a5-782c0d15ab91"
      },
      "execution_count": 41,
      "outputs": [
        {
          "output_type": "stream",
          "name": "stdout",
          "text": [
            "\u001b[1m1/1\u001b[0m \u001b[32m━━━━━━━━━━━━━━━━━━━━\u001b[0m\u001b[37m\u001b[0m \u001b[1m0s\u001b[0m 28ms/step\n",
            "[[1.2789285e-07 3.0773788e-06 2.7406910e-03 1.0000000e+00 6.6153994e-08\n",
            "  8.4446583e-05 3.0343278e-14 3.0780668e-04 3.1177428e-02 9.8130357e-01]]\n"
          ]
        }
      ]
    },
    {
      "cell_type": "code",
      "source": [
        "#converting above prob value into class labels\n",
        "input_pred_label=np.argmax(input_prediction)\n",
        "input_pred_label"
      ],
      "metadata": {
        "colab": {
          "base_uri": "https://localhost:8080/"
        },
        "id": "UXH1C4XN5cdh",
        "outputId": "719d0605-5187-40f5-871b-e2acdfefc776"
      },
      "execution_count": 43,
      "outputs": [
        {
          "output_type": "execute_result",
          "data": {
            "text/plain": [
              "np.int64(3)"
            ]
          },
          "metadata": {},
          "execution_count": 43
        }
      ]
    },
    {
      "cell_type": "markdown",
      "source": [
        "**Final Predictive System**"
      ],
      "metadata": {
        "id": "ZB46ttm96T5W"
      }
    },
    {
      "cell_type": "code",
      "source": [
        "#combine Final Predictive System at one line\n",
        "\n",
        "input_image_path= input(\"Enter path of image to be predicted:\")\n",
        "\n",
        "input_image=cv2.imread(input_image_path)\n",
        "\n",
        "cv2_imshow(input_image)\n",
        "\n",
        "grayscale=cv2.cvtColor(input_image,cv2.COLOR_RGB2GRAY)\n",
        "\n",
        "input_image_resize=cv2.resize(grayscale,(28,28))\n",
        "\n",
        "input_image_resize=input_image_resize/255\n",
        "\n",
        "image_reshaped=np.reshape(input_image_resize,[1,28,28])  # Tell NN for predicting only 1 input image\n",
        "\n",
        "input_prediction=model.predict(image_reshaped)\n",
        "\n",
        "input_pred_label=np.argmax(input_prediction)\n",
        "\n",
        "print(\" Handwritten Digit is recognized as :\",input_pred_label)"
      ],
      "metadata": {
        "colab": {
          "base_uri": "https://localhost:8080/",
          "height": 387
        },
        "id": "yHLmPHAU6CoE",
        "outputId": "106477da-a3b1-436f-d919-76f03b3b52ee"
      },
      "execution_count": 44,
      "outputs": [
        {
          "name": "stdout",
          "output_type": "stream",
          "text": [
            "Enter path of image to be predicted:/content/MNIST_digit.png\n"
          ]
        },
        {
          "output_type": "display_data",
          "data": {
            "text/plain": [
              "<PIL.Image.Image image mode=RGB size=318x318>"
            ],
            "image/png": "[encoded data removed]",
            "image/jpeg": "[encoded data removed]"
          },
          "metadata": {}
        },
        {
          "output_type": "stream",
          "name": "stdout",
          "text": [
            "\u001b[1m1/1\u001b[0m \u001b[32m━━━━━━━━━━━━━━━━━━━━\u001b[0m\u001b[37m\u001b[0m \u001b[1m0s\u001b[0m 47ms/step\n",
            " Handwritten Digit is recognized as : 3\n"
          ]
        }
      ]
    }
  ]
}